{
 "cells": [
  {
   "cell_type": "markdown",
   "metadata": {},
   "source": [
    "<hr/>\n",
    "<div class=\"alert alert-danger alertsuccess\" style=\"margin-top: 20px\">\n",
    "<b><h3>Programming exercise 1:</h3></b>\n",
    "<p>\n",
    "<b>Positive or Negative<br></b>\n",
    "Write a program that takes an integer input from the user and prints whether it’s positive or negative.<br>\n",
    "<!-- <code>What is your name? Paul</code><br> -->\n",
    "</p>\n",
    "</div>\n",
    "<hr/>"
   ]
  },
  {
   "cell_type": "code",
   "execution_count": 3,
   "metadata": {},
   "outputs": [
    {
     "name": "stdout",
     "output_type": "stream",
     "text": [
      "The number is positive!\n"
     ]
    }
   ],
   "source": [
    "number = int(input(\"Please enter the number: \"))\n",
    "\n",
    "if number > 0:\n",
    "    print(\"The number is positive!\")\n",
    "    \n",
    "if number < 0:\n",
    "    print(\"The number is negative!\")"
   ]
  },
  {
   "cell_type": "markdown",
   "metadata": {},
   "source": [
    "<hr/>\n",
    "<div class=\"alert alert-danger alertsuccess\" style=\"margin-top: 20px\">\n",
    "<b><h3>Programming exercise 2:</h3></b>\n",
    "<p>\n",
    "<b>Even or Odd<br></b>\n",
    "Create a program that checks if a given number is even or odd.<br>\n",
    "<!-- <code>What is your name? Paul</code><br> -->\n",
    "</p>\n",
    "</div>\n",
    "<hr/>"
   ]
  },
  {
   "cell_type": "code",
   "execution_count": 5,
   "metadata": {},
   "outputs": [
    {
     "name": "stdout",
     "output_type": "stream",
     "text": [
      "The number is odd!\n"
     ]
    }
   ],
   "source": [
    "number = int(input(\"Please enter the number: \"))\n",
    "\n",
    "if number % 2 == 0:\n",
    "    print(\"The number is even!\")\n",
    "    \n",
    "if number % 2 != 0:\n",
    "    print(\"The number is odd!\")"
   ]
  },
  {
   "cell_type": "markdown",
   "metadata": {},
   "source": [
    "<hr/>\n",
    "<div class=\"alert alert-danger alertsuccess\" style=\"margin-top: 20px\">\n",
    "<b><h3>Programming exercise 3:</h3></b>\n",
    "<p>\n",
    "<b>Leap Year<br></b>\n",
    "Ask the user for a year and determine if it’s a leap year (divisible by 4 but not divisible by 100, except if it’s also divisible by 400).<br>\n",
    "<!-- <code>What is your name? Paul</code><br> -->\n",
    "</p>\n",
    "</div>\n",
    "<hr/>"
   ]
  },
  {
   "cell_type": "code",
   "execution_count": 19,
   "metadata": {},
   "outputs": [
    {
     "name": "stdout",
     "output_type": "stream",
     "text": [
      "Not a leap year\n"
     ]
    }
   ],
   "source": [
    "year = int(input(\"Enter a year: \"))\n",
    "if year % 4 == 0:\n",
    "    if year % 100 != 0 or year % 400 == 0:\n",
    "        print(\"Leap year\")\n",
    "    else:\n",
    "        print(\"Not a leap year\")\n",
    "else:\n",
    "    print(\"Not a leap year\")\n"
   ]
  },
  {
   "cell_type": "markdown",
   "metadata": {},
   "source": [
    "<hr/>\n",
    "<div class=\"alert alert-danger alertsuccess\" style=\"margin-top: 20px\">\n",
    "<b><h3>Programming exercise 4:</h3></b>\n",
    "<p>\n",
    "<b>Vowel or Consonant<br></b>\n",
    "Prompt the user to enter a single character. Check if it’s a vowel (a, e, i, o, u) or a consonant.<br>\n",
    "<!-- <code>What is your name? Paul</code><br> -->\n",
    "</p>\n",
    "</div>\n",
    "<hr/>"
   ]
  },
  {
   "cell_type": "code",
   "execution_count": 27,
   "metadata": {},
   "outputs": [
    {
     "name": "stdout",
     "output_type": "stream",
     "text": [
      "Consonant\n"
     ]
    }
   ],
   "source": [
    "char = input(\"Enter a character: \").lower()\n",
    "if char == 'a' or char == 'e' or char == 'i' or char == 'o' or char == 'u':\n",
    "    print(\"Vowel\")\n",
    "else:\n",
    "    print(\"Consonant\")"
   ]
  },
  {
   "cell_type": "markdown",
   "metadata": {},
   "source": [
    "<hr/>\n",
    "<div class=\"alert alert-danger alertsuccess\" style=\"margin-top: 20px\">\n",
    "<b><h3>Programming exercise 5:</h3></b>\n",
    "<p>\n",
    "<b>Age Group<br></b>\n",
    "Take the user’s age as input and categorize it into “child,” “teenager,” or “adult.”<br>\n",
    "<!-- <code>What is your name? Paul</code><br> -->\n",
    "</p>\n",
    "</div>\n",
    "<hr/>"
   ]
  },
  {
   "cell_type": "code",
   "execution_count": 29,
   "metadata": {},
   "outputs": [
    {
     "name": "stdout",
     "output_type": "stream",
     "text": [
      "Adult\n"
     ]
    }
   ],
   "source": [
    "age = int(input(\"Enter your age: \"))\n",
    "if age < 13:\n",
    "    print(\"Child\")\n",
    "if 13 <= age < 20:\n",
    "    print(\"Teenager\")\n",
    "if age >= 20:\n",
    "    print(\"Adult\")\n"
   ]
  },
  {
   "cell_type": "markdown",
   "metadata": {},
   "source": [
    "<hr/>\n",
    "<div class=\"alert alert-danger alertsuccess\" style=\"margin-top: 20px\">\n",
    "<b><h3>Programming exercise 6:</h3></b>\n",
    "<p>\n",
    "<b>Temperature Conversion<br></b>\n",
    "Convert a temperature from Fahrenheit to Celsius. Ask the user for the temperature in Fahrenheit.<br>\n",
    "<!-- <code>What is your name? Paul</code><br> -->\n",
    "</p>\n",
    "</div>\n",
    "<hr/>"
   ]
  },
  {
   "cell_type": "code",
   "execution_count": 30,
   "metadata": {},
   "outputs": [
    {
     "name": "stdout",
     "output_type": "stream",
     "text": [
      "Temperature in Celsius: 82.22\n"
     ]
    }
   ],
   "source": [
    "fahrenheit = float(input(\"Enter temperature in Fahrenheit: \"))\n",
    "celsius = (fahrenheit - 32) * 5 / 9\n",
    "print(f\"Temperature in Celsius: {celsius:.2f}\")"
   ]
  },
  {
   "cell_type": "markdown",
   "metadata": {},
   "source": [
    "<hr/>\n",
    "<div class=\"alert alert-danger alertsuccess\" style=\"margin-top: 20px\">\n",
    "<b><h3>Programming exercise 7:</h3></b>\n",
    "<p>\n",
    "<b>Grade Classification<br></b>\n",
    "Given a student’s score (out of 100), determine their grade: A, B, C, D, or F.<br>\n",
    "<!-- <code>What is your name? Paul</code><br> -->\n",
    "</p>\n",
    "</div>\n",
    "<hr/>"
   ]
  },
  {
   "cell_type": "code",
   "execution_count": 31,
   "metadata": {},
   "outputs": [
    {
     "name": "stdout",
     "output_type": "stream",
     "text": [
      "B\n"
     ]
    }
   ],
   "source": [
    "score = int(input(\"Enter student's score (out of 100): \"))\n",
    "if score >= 90:\n",
    "    print(\"A\")\n",
    "if 80 <= score < 90:\n",
    "    print(\"B\")\n",
    "if 70 <= score < 80:\n",
    "    print(\"C\")\n",
    "if 60 <= score < 70:\n",
    "    print(\"D\")\n",
    "if score < 60:\n",
    "    print(\"F\")\n"
   ]
  },
  {
   "cell_type": "markdown",
   "metadata": {},
   "source": [
    "<hr/>\n",
    "<div class=\"alert alert-danger alertsuccess\" style=\"margin-top: 20px\">\n",
    "<b><h3>Programming exercise 8:</h3></b>\n",
    "<p>\n",
    "<b>BMI Calculator<br></b>\n",
    "Calculate the Body Mass Index (BMI) based on user input for weight (in kg) and height (in meters).<br>\n",
    "<!-- <code>What is your name? Paul</code><br> -->\n",
    "</p>\n",
    "</div>\n",
    "<hr/>"
   ]
  },
  {
   "cell_type": "code",
   "execution_count": 4,
   "metadata": {},
   "outputs": [
    {
     "name": "stdout",
     "output_type": "stream",
     "text": [
      "Body Mass Index (BMI): 24.22\n"
     ]
    }
   ],
   "source": [
    "weight_kg = float(input(\"Enter weight in kg: \"))\n",
    "height_m = float(input(\"Enter height in meters: \"))\n",
    "bmi = weight_kg / (height_m ** 2)\n",
    "\n",
    "print(f\"Body Mass Index (BMI): {bmi:.2f}\")\n"
   ]
  },
  {
   "cell_type": "markdown",
   "metadata": {},
   "source": [
    "<hr/>\n",
    "<div class=\"alert alert-danger alertsuccess\" style=\"margin-top: 20px\">\n",
    "<b><h3>Programming exercise 9:</h3></b>\n",
    "<p>\n",
    "<b>Largest of Three Numbers<br></b>\n",
    "Take three numbers as input and find the largest among them.<br>\n",
    "<!-- <code>What is your name? Paul</code><br> -->\n",
    "</p>\n",
    "</div>\n",
    "<hr/>"
   ]
  },
  {
   "cell_type": "code",
   "execution_count": 13,
   "metadata": {},
   "outputs": [
    {
     "name": "stdout",
     "output_type": "stream",
     "text": [
      "Largest number: 13.0\n"
     ]
    }
   ],
   "source": [
    "num1 = float(input(\"Enter the first number\"))\n",
    "num2 = float(input(\"Enter the second number\"))\n",
    "num3 = float(input(\"Enter the third number\"))\n",
    "\n",
    "if num1 > num2 and num1 > num3:\n",
    "    print(f\"Largest number: {num1}\")\n",
    "    \n",
    "if num2 > num1 and num2 > num3:\n",
    "    print(f\"Largest number: {num2}\")\n",
    "    \n",
    "if num3 > num1 and num3 > num2:\n",
    "    print(f\"Largest number: {num3}\")"
   ]
  },
  {
   "cell_type": "markdown",
   "metadata": {},
   "source": [
    "// OR"
   ]
  },
  {
   "cell_type": "code",
   "execution_count": 12,
   "metadata": {},
   "outputs": [
    {
     "name": "stdout",
     "output_type": "stream",
     "text": [
      "Largest number: 13.00\n"
     ]
    }
   ],
   "source": [
    "a, b, c = map(float, input(\"Enter three numbers: \").split())\n",
    "largest = a\n",
    "if b > largest:\n",
    "    largest = b\n",
    "if c > largest:\n",
    "    largest = c\n",
    "print(f\"Largest number: {largest:.2f}\")\n"
   ]
  },
  {
   "cell_type": "markdown",
   "metadata": {},
   "source": [
    "<hr/>\n",
    "<div class=\"alert alert-danger alertsuccess\" style=\"margin-top: 20px\">\n",
    "<b><h3>Programming exercise 10:</h3></b>\n",
    "<p>\n",
    "<b>Valid Triangle<br></b>\n",
    "Given three side lengths, check if they form a valid triangle (sum of any two sides must be greater than the third side).<br>\n",
    "<!-- <code>What is your name? Paul</code><br> -->\n",
    "</p>\n",
    "</div>\n",
    "<hr/>"
   ]
  },
  {
   "cell_type": "code",
   "execution_count": 16,
   "metadata": {},
   "outputs": [
    {
     "name": "stdout",
     "output_type": "stream",
     "text": [
      "Not Valid Triangle!\n"
     ]
    }
   ],
   "source": [
    "side1 = float(input(\"Side 1: \"))\n",
    "side2 = float(input(\"Side 2: \"))\n",
    "side3 = float(input(\"Side 3: \"))\n",
    "\n",
    "if side1 + side2 > side3 and side1 + side3 > side2 and side2 + side3 > side1:\n",
    "    print(\"Valid Triangle!\")\n",
    "else:\n",
    "    print(\"Not Valid Triangle!\")"
   ]
<<<<<<< HEAD
  },
  {
   "cell_type": "markdown",
   "metadata": {},
   "source": [
    "<hr/>\n",
    "<div class=\"alert alert-danger alertsuccess\" style=\"margin-top: 20px\">\n",
    "<b><h3>Programming exercise 11:</h3></b>\n",
    "<p>\n",
    "<b>Prime Number Check<br></b>\n",
    "Ask the user for an integer and determine if it’s a prime number.<br>\n",
    "<!-- <code>What is your name? Paul</code><br> -->\n",
    "</p>\n",
    "</div>\n",
    "<hr/>"
   ]
  },
  {
   "cell_type": "code",
   "execution_count": 17,
   "metadata": {},
   "outputs": [
    {
     "name": "stdout",
     "output_type": "stream",
     "text": [
      "Prime\n"
     ]
    }
   ],
   "source": [
    "number = int(input(\"Enter an integer: \"))\n",
    "\n",
    "# Handle special cases\n",
    "if number <= 1:\n",
    "    print(\"Not prime\")\n",
    "elif number == 2:\n",
    "    print(\"Prime\")\n",
    "else:\n",
    "    # Check divisibility by odd numbers from 3 up to the square root of the number\n",
    "    is_prime = True\n",
    "    divisor = 3\n",
    "    while divisor * divisor <= number:\n",
    "        if number % divisor == 0:\n",
    "            is_prime = False\n",
    "            break\n",
    "        divisor += 2  # Increment by 2 to skip even numbers\n",
    "\n",
    "    if is_prime:\n",
    "        print(\"Prime\")\n",
    "    else:\n",
    "        print(\"Not prime\")\n"
   ]
  },
  {
   "cell_type": "code",
   "execution_count": null,
   "metadata": {},
   "outputs": [],
   "source": []
=======
>>>>>>> d75d5bfce08e11fc808b05d36d7737d8ed6a76ba
  }
 ],
 "metadata": {
  "kernelspec": {
   "display_name": "Python 3",
   "language": "python",
   "name": "python3"
  },
  "language_info": {
   "codemirror_mode": {
    "name": "ipython",
    "version": 3
   },
   "file_extension": ".py",
   "mimetype": "text/x-python",
   "name": "python",
   "nbconvert_exporter": "python",
   "pygments_lexer": "ipython3",
   "version": "3.12.3"
  }
 },
 "nbformat": 4,
 "nbformat_minor": 2
}
