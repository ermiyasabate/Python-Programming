{
 "cells": [
  {
   "cell_type": "markdown",
   "metadata": {},
   "source": [
    "<hr/>\n",
    "<div class=\"alert alert-danger alertsuccess\" style=\"margin-top: 20px\">\n",
    "<b><h3>Programming exercise 1:</h3></b>\n",
    "<p>\n",
    "<b>Positive or Negative<br></b>\n",
    "Write a program that takes an integer input from the user and prints whether it’s positive or negative.<br>\n",
    "<!-- <code>What is your name? Paul</code><br> -->\n",
    "</p>\n",
    "</div>\n",
    "<hr/>"
   ]
  },
  {
   "cell_type": "code",
   "execution_count": 3,
   "metadata": {},
   "outputs": [
    {
     "name": "stdout",
     "output_type": "stream",
     "text": [
      "The number is positive!\n"
     ]
    }
   ],
   "source": [
    "number = int(input(\"Please enter the number: \"))\n",
    "\n",
    "if number > 0:\n",
    "    print(\"The number is positive!\")\n",
    "    \n",
    "if number < 0:\n",
    "    print(\"The number is negative!\")"
   ]
  },
  {
   "cell_type": "markdown",
   "metadata": {},
   "source": [
    "<hr/>\n",
    "<div class=\"alert alert-danger alertsuccess\" style=\"margin-top: 20px\">\n",
    "<b><h3>Programming exercise 2:</h3></b>\n",
    "<p>\n",
    "<b>Even or Odd<br></b>\n",
    "Create a program that checks if a given number is even or odd.<br>\n",
    "<!-- <code>What is your name? Paul</code><br> -->\n",
    "</p>\n",
    "</div>\n",
    "<hr/>"
   ]
  },
  {
   "cell_type": "code",
   "execution_count": 5,
   "metadata": {},
   "outputs": [
    {
     "name": "stdout",
     "output_type": "stream",
     "text": [
      "The number is odd!\n"
     ]
    }
   ],
   "source": [
    "number = int(input(\"Please enter the number: \"))\n",
    "\n",
    "if number % 2 == 0:\n",
    "    print(\"The number is even!\")\n",
    "    \n",
    "if number % 2 != 0:\n",
    "    print(\"The number is odd!\")"
   ]
  },
  {
   "cell_type": "markdown",
   "metadata": {},
   "source": [
    "<hr/>\n",
    "<div class=\"alert alert-danger alertsuccess\" style=\"margin-top: 20px\">\n",
    "<b><h3>Programming exercise 3:</h3></b>\n",
    "<p>\n",
    "<b>Leap Year<br></b>\n",
    "Ask the user for a year and determine if it’s a leap year (divisible by 4 but not divisible by 100, except if it’s also divisible by 400).<br>\n",
    "<!-- <code>What is your name? Paul</code><br> -->\n",
    "</p>\n",
    "</div>\n",
    "<hr/>"
   ]
  },
  {
   "cell_type": "code",
   "execution_count": 19,
   "metadata": {},
   "outputs": [
    {
     "name": "stdout",
     "output_type": "stream",
     "text": [
      "Not a leap year\n"
     ]
    }
   ],
   "source": [
    "year = int(input(\"Enter a year: \"))\n",
    "if year % 4 == 0:\n",
    "    if year % 100 != 0 or year % 400 == 0:\n",
    "        print(\"Leap year\")\n",
    "    else:\n",
    "        print(\"Not a leap year\")\n",
    "else:\n",
    "    print(\"Not a leap year\")\n"
   ]
  },
  {
   "cell_type": "markdown",
   "metadata": {},
   "source": [
    "<hr/>\n",
    "<div class=\"alert alert-danger alertsuccess\" style=\"margin-top: 20px\">\n",
    "<b><h3>Programming exercise 4:</h3></b>\n",
    "<p>\n",
    "<b>Vowel or Consonant<br></b>\n",
    "Prompt the user to enter a single character. Check if it’s a vowel (a, e, i, o, u) or a consonant.<br>\n",
    "<!-- <code>What is your name? Paul</code><br> -->\n",
    "</p>\n",
    "</div>\n",
    "<hr/>"
   ]
  },
  {
   "cell_type": "code",
   "execution_count": 27,
   "metadata": {},
   "outputs": [
    {
     "name": "stdout",
     "output_type": "stream",
     "text": [
      "Consonant\n"
     ]
    }
   ],
   "source": [
    "char = input(\"Enter a character: \").lower()\n",
    "if char == 'a' or char == 'e' or char == 'i' or char == 'o' or char == 'u':\n",
    "    print(\"Vowel\")\n",
    "else:\n",
    "    print(\"Consonant\")"
   ]
  },
  {
   "cell_type": "markdown",
   "metadata": {},
   "source": [
    "<hr/>\n",
    "<div class=\"alert alert-danger alertsuccess\" style=\"margin-top: 20px\">\n",
    "<b><h3>Programming exercise 5:</h3></b>\n",
    "<p>\n",
    "<b>Age Group<br></b>\n",
    "Take the user’s age as input and categorize it into “child,” “teenager,” or “adult.”<br>\n",
    "<!-- <code>What is your name? Paul</code><br> -->\n",
    "</p>\n",
    "</div>\n",
    "<hr/>"
   ]
  },
  {
   "cell_type": "code",
   "execution_count": 29,
   "metadata": {},
   "outputs": [
    {
     "name": "stdout",
     "output_type": "stream",
     "text": [
      "Adult\n"
     ]
    }
   ],
   "source": [
    "age = int(input(\"Enter your age: \"))\n",
    "if age < 13:\n",
    "    print(\"Child\")\n",
    "if 13 <= age < 20:\n",
    "    print(\"Teenager\")\n",
    "if age >= 20:\n",
    "    print(\"Adult\")\n"
   ]
  },
  {
   "cell_type": "markdown",
   "metadata": {},
   "source": [
    "<hr/>\n",
    "<div class=\"alert alert-danger alertsuccess\" style=\"margin-top: 20px\">\n",
    "<b><h3>Programming exercise 6:</h3></b>\n",
    "<p>\n",
    "<b>Temperature Conversion<br></b>\n",
    "Convert a temperature from Fahrenheit to Celsius. Ask the user for the temperature in Fahrenheit.<br>\n",
    "<!-- <code>What is your name? Paul</code><br> -->\n",
    "</p>\n",
    "</div>\n",
    "<hr/>"
   ]
  },
  {
   "cell_type": "code",
   "execution_count": 30,
   "metadata": {},
   "outputs": [
    {
     "name": "stdout",
     "output_type": "stream",
     "text": [
      "Temperature in Celsius: 82.22\n"
     ]
    }
   ],
   "source": [
    "fahrenheit = float(input(\"Enter temperature in Fahrenheit: \"))\n",
    "celsius = (fahrenheit - 32) * 5 / 9\n",
    "print(f\"Temperature in Celsius: {celsius:.2f}\")"
   ]
  },
  {
   "cell_type": "markdown",
   "metadata": {},
   "source": [
    "<hr/>\n",
    "<div class=\"alert alert-danger alertsuccess\" style=\"margin-top: 20px\">\n",
    "<b><h3>Programming exercise 7:</h3></b>\n",
    "<p>\n",
    "<b>Grade Classification<br></b>\n",
    "Given a student’s score (out of 100), determine their grade: A, B, C, D, or F.<br>\n",
    "<!-- <code>What is your name? Paul</code><br> -->\n",
    "</p>\n",
    "</div>\n",
    "<hr/>"
   ]
  },
  {
   "cell_type": "code",
   "execution_count": 31,
   "metadata": {},
   "outputs": [
    {
     "name": "stdout",
     "output_type": "stream",
     "text": [
      "B\n"
     ]
    }
   ],
   "source": [
    "score = int(input(\"Enter student's score (out of 100): \"))\n",
    "if score >= 90:\n",
    "    print(\"A\")\n",
    "if 80 <= score < 90:\n",
    "    print(\"B\")\n",
    "if 70 <= score < 80:\n",
    "    print(\"C\")\n",
    "if 60 <= score < 70:\n",
    "    print(\"D\")\n",
    "if score < 60:\n",
    "    print(\"F\")\n"
   ]
  },
  {
   "cell_type": "markdown",
   "metadata": {},
   "source": [
    "<hr/>\n",
    "<div class=\"alert alert-danger alertsuccess\" style=\"margin-top: 20px\">\n",
    "<b><h3>Programming exercise 8:</h3></b>\n",
    "<p>\n",
    "<b>BMI Calculator<br></b>\n",
    "Calculate the Body Mass Index (BMI) based on user input for weight (in kg) and height (in meters).<br>\n",
    "<!-- <code>What is your name? Paul</code><br> -->\n",
    "</p>\n",
    "</div>\n",
    "<hr/>"
   ]
  },
  {
   "cell_type": "code",
   "execution_count": null,
   "metadata": {},
   "outputs": [],
   "source": []
  }
 ],
 "metadata": {
  "kernelspec": {
   "display_name": "Python 3",
   "language": "python",
   "name": "python3"
  },
  "language_info": {
   "codemirror_mode": {
    "name": "ipython",
    "version": 3
   },
   "file_extension": ".py",
   "mimetype": "text/x-python",
   "name": "python",
   "nbconvert_exporter": "python",
   "pygments_lexer": "ipython3",
   "version": "3.12.3"
  }
 },
 "nbformat": 4,
 "nbformat_minor": 2
}
