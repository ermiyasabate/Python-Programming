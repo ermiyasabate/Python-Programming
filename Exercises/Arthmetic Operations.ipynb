{
 "cells": [
  {
   "cell_type": "markdown",
   "metadata": {},
   "source": [
    "<hr/>\n",
    "<div class=\"alert alert-danger alertsuccess\" style=\"margin-top: 20px\">\n",
    "<b><h3>Programming exercise 1:</h3></b>\n",
    "<p><b>Addition<br></b>\n",
    "Calculate the sum of 123 and 456.<br>\n",
    "<!-- <code>\n",
    "print('\"Come right back!\", shouted the police officer.')<br>\n",
    "\"Come right back!\", shouted the police officer.\n",
    "</code> -->\n",
    "\n",
    "</p>\n",
    "</div>\n",
    "<hr/>"
   ]
  },
  {
   "cell_type": "code",
   "execution_count": 1,
   "metadata": {},
   "outputs": [
    {
     "name": "stdout",
     "output_type": "stream",
     "text": [
      "123 + 456 = 579\n"
     ]
    }
   ],
   "source": [
    "num1 = 123\n",
    "num2 = 456\n",
    "\n",
    "print(f\"{num1} + {num2} = {num1 + num2}\")"
   ]
  },
  {
   "cell_type": "markdown",
   "metadata": {},
   "source": [
    "<hr/>\n",
    "<div class=\"alert alert-danger alertsuccess\" style=\"margin-top: 20px\">\n",
    "<b><h3>Programming exercise 2:</h3></b>\n",
    "<p><b>Multiplication<br></b>\n",
    "Find the product of 7 and 8.<br>\n",
    "<!-- <code>\n",
    "print('\"Come right back!\", shouted the police officer.')<br>\n",
    "\"Come right back!\", shouted the police officer.\n",
    "</code> -->\n",
    "\n",
    "</p>\n",
    "</div>\n",
    "<hr/>"
   ]
  },
  {
   "cell_type": "code",
   "execution_count": 2,
   "metadata": {},
   "outputs": [
    {
     "name": "stdout",
     "output_type": "stream",
     "text": [
      "7 * 8 = 56\n"
     ]
    }
   ],
   "source": [
    "num1 = 7\n",
    "num2 = 8\n",
    "\n",
    "print(f\"{num1} * {num2} = {num1 * num2}\")"
   ]
  },
  {
   "cell_type": "markdown",
   "metadata": {},
   "source": [
    "<hr/>\n",
    "<div class=\"alert alert-danger alertsuccess\" style=\"margin-top: 20px\">\n",
    "<b><h3>Programming exercise 4:</h3></b>\n",
    "<p><b>Multiplication<br></b>\n",
    "Compute the result of 25 divided by 5.<br>\n",
    "<!-- <code>\n",
    "print('\"Come right back!\", shouted the police officer.')<br>\n",
    "\"Come right back!\", shouted the police officer.\n",
    "</code> -->\n",
    "\n",
    "</p>\n",
    "</div>\n",
    "<hr/>"
   ]
  },
  {
   "cell_type": "code",
   "execution_count": 6,
   "metadata": {},
   "outputs": [
    {
     "name": "stdout",
     "output_type": "stream",
     "text": [
      "25 / 5 = 5\n"
     ]
    }
   ],
   "source": [
    "num1 = 25\n",
    "num2 = 5\n",
    "\n",
    "print(f\"{num1} / {num2} = {num1 / num2:.0f}\")"
   ]
  },
  {
   "cell_type": "code",
   "execution_count": null,
   "metadata": {},
   "outputs": [],
   "source": []
  }
 ],
 "metadata": {
  "kernelspec": {
   "display_name": "Python 3",
   "language": "python",
   "name": "python3"
  },
  "language_info": {
   "codemirror_mode": {
    "name": "ipython",
    "version": 3
   },
   "file_extension": ".py",
   "mimetype": "text/x-python",
   "name": "python",
   "nbconvert_exporter": "python",
   "pygments_lexer": "ipython3",
   "version": "3.12.3"
  }
 },
 "nbformat": 4,
 "nbformat_minor": 2
}
