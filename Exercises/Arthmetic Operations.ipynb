{
 "cells": [
  {
   "cell_type": "markdown",
   "metadata": {},
   "source": [
    "<hr/>\n",
    "<div class=\"alert alert-danger alertsuccess\" style=\"margin-top: 20px\">\n",
    "<b><h3>Programming exercise 1:</h3></b>\n",
    "<p><b>Addition<br></b>\n",
    "Calculate the sum of 123 and 456.<br>\n",
    "<!-- <code>\n",
    "print('\"Come right back!\", shouted the police officer.')<br>\n",
    "\"Come right back!\", shouted the police officer.\n",
    "</code> -->\n",
    "\n",
    "</p>\n",
    "</div>\n",
    "<hr/>"
   ]
  },
  {
   "cell_type": "code",
   "execution_count": 10,
   "metadata": {},
   "outputs": [
    {
     "name": "stdout",
     "output_type": "stream",
     "text": [
      "Sum: 579\n"
     ]
    }
   ],
   "source": [
    "sum_result = 123 + 456\n",
    "\n",
    "print(f\"Sum: {sum_result}\")"
   ]
  },
  {
   "cell_type": "markdown",
   "metadata": {},
   "source": [
    "<hr/>\n",
    "<div class=\"alert alert-danger alertsuccess\" style=\"margin-top: 20px\">\n",
    "<b><h3>Programming exercise 2:</h3></b>\n",
    "<p><b>Multiplication<br></b>\n",
    "Find the product of 7 and 8.<br>\n",
    "<!-- <code>\n",
    "print('\"Come right back!\", shouted the police officer.')<br>\n",
    "\"Come right back!\", shouted the police officer.\n",
    "</code> -->\n",
    "\n",
    "</p>\n",
    "</div>\n",
    "<hr/>"
   ]
  },
  {
   "cell_type": "code",
   "execution_count": 11,
   "metadata": {},
   "outputs": [
    {
     "name": "stdout",
     "output_type": "stream",
     "text": [
      "Product: 56\n"
     ]
    }
   ],
   "source": [
    "product_result = 7 * 8\n",
    "\n",
    "print(f\"Product: {product_result}\")"
   ]
  },
  {
   "cell_type": "markdown",
   "metadata": {},
   "source": [
    "<hr/>\n",
    "<div class=\"alert alert-danger alertsuccess\" style=\"margin-top: 20px\">\n",
    "<b><h3>Programming exercise 3:</h3></b>\n",
    "<p><b>Division<br></b>\n",
    "Compute the result of 25 divided by 5.<br>\n",
    "<!-- <code>\n",
    "print('\"Come right back!\", shouted the police officer.')<br>\n",
    "\"Come right back!\", shouted the police officer.\n",
    "</code> -->\n",
    "\n",
    "</p>\n",
    "</div>\n",
    "<hr/>"
   ]
  },
  {
   "cell_type": "code",
   "execution_count": 13,
   "metadata": {},
   "outputs": [
    {
     "name": "stdout",
     "output_type": "stream",
     "text": [
      "Division result: 5\n"
     ]
    }
   ],
   "source": [
    "division_result = 25 / 5\n",
    "\n",
    "print(f\"Division result: {division_result:.0f}\")"
   ]
  },
  {
   "cell_type": "markdown",
   "metadata": {},
   "source": [
    "<hr/>\n",
    "<div class=\"alert alert-danger alertsuccess\" style=\"margin-top: 20px\">\n",
    "<b><h3>Programming exercise 4:</h3></b>\n",
    "<p><b>Remainder<br></b>\n",
    "Determine the remainder when 17 is divided by 3.<br>\n",
    "<!-- <code>\n",
    "print('\"Come right back!\", shouted the police officer.')<br>\n",
    "\"Come right back!\", shouted the police officer.\n",
    "</code> -->\n",
    "\n",
    "</p>\n",
    "</div>\n",
    "<hr/>"
   ]
  },
  {
   "cell_type": "code",
   "execution_count": 14,
   "metadata": {},
   "outputs": [
    {
     "name": "stdout",
     "output_type": "stream",
     "text": [
      "Remainder: 2\n"
     ]
    }
   ],
   "source": [
    "remainder_result = 17 % 3\n",
    "\n",
    "print(f\"Remainder: {remainder_result}\")"
   ]
  },
  {
   "cell_type": "markdown",
   "metadata": {},
   "source": [
    "<hr/>\n",
    "<div class=\"alert alert-danger alertsuccess\" style=\"margin-top: 20px\">\n",
    "<b><h3>Programming exercise 5:</h3></b>\n",
    "<p><b>Power of<br></b>\n",
    "Raise 2 to the power of 10.<br>\n",
    "<!-- <code>\n",
    "print('\"Come right back!\", shouted the police officer.')<br>\n",
    "\"Come right back!\", shouted the police officer.\n",
    "</code> -->\n",
    "\n",
    "</p>\n",
    "</div>\n",
    "<hr/>"
   ]
  },
  {
   "cell_type": "code",
   "execution_count": 16,
   "metadata": {},
   "outputs": [
    {
     "name": "stdout",
     "output_type": "stream",
     "text": [
      "2 to the power of 10: 1024\n"
     ]
    }
   ],
   "source": [
    "power_result = 2 ** 10\n",
    "\n",
    "print(f\"2 to the power of 10: {power_result}\")"
   ]
  },
  {
   "cell_type": "code",
   "execution_count": null,
   "metadata": {},
   "outputs": [],
   "source": []
  }
 ],
 "metadata": {
  "kernelspec": {
   "display_name": "Python 3",
   "language": "python",
   "name": "python3"
  },
  "language_info": {
   "codemirror_mode": {
    "name": "ipython",
    "version": 3
   },
   "file_extension": ".py",
   "mimetype": "text/x-python",
   "name": "python",
   "nbconvert_exporter": "python",
   "pygments_lexer": "ipython3",
   "version": "3.12.3"
  }
 },
 "nbformat": 4,
 "nbformat_minor": 2
}
