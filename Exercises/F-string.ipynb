{
 "cells": [
  {
   "cell_type": "markdown",
   "metadata": {},
   "source": [
    "<hr/>\n",
    "<div class=\"alert alert-danger alertsuccess\" style=\"margin-top: 20px\">\n",
    "<b><h3>Programming exercise 1:</h3></b>\n",
    "<p><b>Basic F-String<br></b>\n",
    "Create an f-string that displays your name and age. For example: <br>\n",
    "<code>\"My name is John, and I am 30 years old.\"</code>\n",
    "</div>\n",
    "<hr/>"
   ]
  },
  {
   "cell_type": "code",
   "execution_count": 1,
   "metadata": {},
   "outputs": [
    {
     "name": "stdout",
     "output_type": "stream",
     "text": [
      "My name is John, and I am 30 years old.\n"
     ]
    }
   ],
   "source": [
    "name = \"John\"\n",
    "age = 30\n",
    "\n",
    "print(f\"My name is {name}, and I am {age} years old.\")"
   ]
  },
  {
   "cell_type": "markdown",
   "metadata": {},
   "source": [
    "<hr/>\n",
    "<div class=\"alert alert-danger alertsuccess\" style=\"margin-top: 20px\">\n",
    "<b><h3>Programming exercise 2:</h3></b>\n",
    "<p><b>Formatted Float<br></b>\n",
    "Given a float value (e.g., pi = 3.14159), create an f-string that displays it with two decimal places: <br>\n",
    "<code>\"The value of pi is approximately 3.14.\"</code>\n",
    "</div>\n",
    "<hr/>"
   ]
  },
  {
   "cell_type": "code",
   "execution_count": 7,
   "metadata": {},
   "outputs": [
    {
     "name": "stdout",
     "output_type": "stream",
     "text": [
      "The value of pi is approximately 3.14.\n"
     ]
    }
   ],
   "source": [
    "pi = 3.14159\n",
    "\n",
    "print(f\"The value of pi is approximately {pi:.2f}.\")"
   ]
  },
  {
   "cell_type": "markdown",
   "metadata": {},
   "source": [
    "<hr/>\n",
    "<div class=\"alert alert-danger alertsuccess\" style=\"margin-top: 20px\">\n",
    "<b><h3>Programming exercise 3:</h3></b>\n",
    "<p><b>String Interpolation<br></b>\n",
    "Given a variable city = \"Seattle\", create an f-string that says:<br>\n",
    "<code>\"I live in Seattle.\"</code>\n",
    "</div>\n",
    "<hr/>"
   ]
  },
  {
   "cell_type": "code",
   "execution_count": 9,
   "metadata": {},
   "outputs": [
    {
     "name": "stdout",
     "output_type": "stream",
     "text": [
      "I live in Seattle.\n"
     ]
    }
   ],
   "source": [
    "city = \"Seattle\"\n",
    "\n",
    "print(f\"I live in {city}.\")"
   ]
  },
  {
   "cell_type": "markdown",
   "metadata": {},
   "source": [
    "<hr/>\n",
    "<div class=\"alert alert-danger alertsuccess\" style=\"margin-top: 20px\">\n",
    "<b><h3>Programming exercise 4:</h3></b>\n",
    "<p><b>Expression Evaluation<br></b>\n",
    "Calculate the result of 5 + 3 and display it using an f-string:<br>\n",
    "<code>\"The sum of 5 and 3 is 8.\"</code>\n",
    "</div>\n",
    "<hr/>"
   ]
  },
  {
   "cell_type": "code",
   "execution_count": 10,
   "metadata": {},
   "outputs": [
    {
     "name": "stdout",
     "output_type": "stream",
     "text": [
      "The sum of 5 and 3 is 8\n"
     ]
    }
   ],
   "source": [
    "print(f\"The sum of 5 and 3 is {5+3}\")"
   ]
  },
  {
   "cell_type": "markdown",
   "metadata": {},
   "source": [
    "<hr/>\n",
    "<div class=\"alert alert-danger alertsuccess\" style=\"margin-top: 20px\">\n",
    "<b><h3>Programming exercise 5:</h3></b>\n",
    "<p><b>Boolean Condition<br></b>\n",
    "Create an f-string that checks if a variable is_sunny is True and says: <br>\n",
    "<code>\"It's a sunny day!\"</code> or <code>\"It's a cloudy day!\"</code>  accordingly.\n",
    "</div>\n",
    "<hr/>"
   ]
  },
  {
   "cell_type": "code",
   "execution_count": 12,
   "metadata": {},
   "outputs": [
    {
     "name": "stdout",
     "output_type": "stream",
     "text": [
      "It's a sunny day.\n"
     ]
    }
   ],
   "source": [
    "is_sunny = True\n",
    "\n",
    "print(f\"It's a {'sunny' if is_sunny else 'cloudy'} day.\")"
   ]
  },
  {
   "cell_type": "markdown",
   "metadata": {},
   "source": [
    "<hr/>\n",
    "<div class=\"alert alert-danger alertsuccess\" style=\"margin-top: 20px\">\n",
    "<b><h3>Programming exercise 6:</h3></b>\n",
    "<p><b>Formatted Date<br></b>\n",
    "Get the current date (you can use the datetime module) and display it in the format: <br>\n",
    "<code>\"Today is July 26, 2024.\"</code>\n",
    "</div>\n",
    "<hr/>"
   ]
  },
  {
   "cell_type": "code",
   "execution_count": 15,
   "metadata": {},
   "outputs": [
    {
     "name": "stdout",
     "output_type": "stream",
     "text": [
      "Today is 2024-07-27 12:15:37.397717\n",
      "Today is July 27, 2024\n"
     ]
    }
   ],
   "source": [
    "from datetime import datetime\n",
    "\n",
    "print(f\"Today is {datetime.today()}\")\n",
    "print(f\"Today is {datetime.today().strftime(\"%B %d, %Y\")}\")"
   ]
  },
  {
   "cell_type": "markdown",
   "metadata": {},
   "source": [
    "<hr/>\n",
    "<div class=\"alert alert-danger alertsuccess\" style=\"margin-top: 20px\">\n",
    "<b><h3>Programming exercise 7:</h3></b>\n",
    "<p><b>Conditional F-String:<br></b>\n",
    "Given a temperature in Celsius (e.g., temp_celsius = 20), create an f-string that converts it to Fahrenheit: <br>\n",
    "<code>\"Today is July 26, 2024.\"</code>\n",
    "</div>\n",
    "<hr/>"
   ]
  },
  {
   "cell_type": "code",
   "execution_count": null,
   "metadata": {},
   "outputs": [],
   "source": []
  }
 ],
 "metadata": {
  "kernelspec": {
   "display_name": "Python 3",
   "language": "python",
   "name": "python3"
  },
  "language_info": {
   "codemirror_mode": {
    "name": "ipython",
    "version": 3
   },
   "file_extension": ".py",
   "mimetype": "text/x-python",
   "name": "python",
   "nbconvert_exporter": "python",
   "pygments_lexer": "ipython3",
   "version": "3.12.3"
  }
 },
 "nbformat": 4,
 "nbformat_minor": 2
}
