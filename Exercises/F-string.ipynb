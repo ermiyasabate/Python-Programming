{
 "cells": [
  {
   "cell_type": "markdown",
   "metadata": {},
   "source": [
    "<hr/>\n",
    "<div class=\"alert alert-danger alertsuccess\" style=\"margin-top: 20px\">\n",
    "<b><h3>Programming exercise 1:</h3></b>\n",
    "<p><b>Basic F-String<br></b>\n",
    "Create an f-string that displays your name and age. For example: <br>\n",
    "<code>\"My name is John, and I am 30 years old.\"</code>\n",
    "</div>\n",
    "<hr/>"
   ]
  },
  {
   "cell_type": "code",
   "execution_count": 1,
   "metadata": {},
   "outputs": [
    {
     "name": "stdout",
     "output_type": "stream",
     "text": [
      "My name is John, and I am 30 years old.\n"
     ]
    }
   ],
   "source": [
    "name = \"John\"\n",
    "age = 30\n",
    "\n",
    "print(f\"My name is {name}, and I am {age} years old.\")"
   ]
  },
  {
   "cell_type": "markdown",
   "metadata": {},
   "source": [
    "<hr/>\n",
    "<div class=\"alert alert-danger alertsuccess\" style=\"margin-top: 20px\">\n",
    "<b><h3>Programming exercise 2:</h3></b>\n",
    "<p><b>Formatted Float<br></b>\n",
    "Given a float value (e.g., pi = 3.14159), create an f-string that displays it with two decimal places: <br>\n",
    "<code>\"The value of pi is approximately 3.14.\"</code>\n",
    "</div>\n",
    "<hr/>"
   ]
  },
  {
   "cell_type": "code",
   "execution_count": 7,
   "metadata": {},
   "outputs": [
    {
     "name": "stdout",
     "output_type": "stream",
     "text": [
      "The value of pi is approximately 3.14.\n"
     ]
    }
   ],
   "source": [
    "pi = 3.14159\n",
    "\n",
    "print(f\"The value of pi is approximately {pi:.2f}.\")"
   ]
  },
  {
   "cell_type": "code",
   "execution_count": null,
   "metadata": {},
   "outputs": [],
   "source": []
  }
 ],
 "metadata": {
  "kernelspec": {
   "display_name": "Python 3",
   "language": "python",
   "name": "python3"
  },
  "language_info": {
   "codemirror_mode": {
    "name": "ipython",
    "version": 3
   },
   "file_extension": ".py",
   "mimetype": "text/x-python",
   "name": "python",
   "nbconvert_exporter": "python",
   "pygments_lexer": "ipython3",
   "version": "3.12.3"
  }
 },
 "nbformat": 4,
 "nbformat_minor": 2
}
