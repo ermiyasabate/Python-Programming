{
 "cells": [
  {
   "cell_type": "markdown",
   "metadata": {},
   "source": [
    "<hr/>\n",
    "<div class=\"alert alert-danger alertsuccess\" style=\"margin-top: 20px\">\n",
    "<b><h4><b>Programming exercise 1:</b></h4></b>\n",
    "<p><b>Addition and Subtraction:<br></b>\n",
    "Write a program that takes two numbers as input and prints their sum and difference.\n",
    "</p>\n",
    "</div>\n",
    "<hr/>"
   ]
  },
  {
   "cell_type": "code",
   "execution_count": 3,
   "metadata": {},
   "outputs": [
    {
     "name": "stdout",
     "output_type": "stream",
     "text": [
      "10 + 5 = 15\n",
      "10 - 5 = 5\n"
     ]
    }
   ],
   "source": [
    "num_one = int(input(\"Enter the first number: \"))\n",
    "num_two = int(input(\"Enter the second number: \"))\n",
    "\n",
    "print(f\"{num_one} + {num_two} = {num_one + num_two}\\n{num_one} - {num_two} = {num_one - num_two}\")"
   ]
  },
  {
   "cell_type": "markdown",
   "metadata": {},
   "source": [
    "<hr/>\n",
    "<div class=\"alert alert-danger alertsuccess\" style=\"margin-top: 20px\">\n",
    "<b><h4><b>Programming exercise 2:</b></h4></b>\n",
    "<p><b>Division and Modulus:<br></b>\n",
    "Write a program that takes two numbers and prints the quotient and remainder when the first number is divided by the second.\n",
    "</p>\n",
    "</div>\n",
    "<hr/>"
   ]
  },
  {
   "cell_type": "code",
   "execution_count": 7,
   "metadata": {},
   "outputs": [
    {
     "name": "stdout",
     "output_type": "stream",
     "text": [
      "Quotient: 4.29, Remainder: 2\n"
     ]
    }
   ],
   "source": [
    "num1 = float(input(\"Enter numerator: \"))\n",
    "num2 = float(input(\"Enter denominator: \"))\n",
    "\n",
    "quotient = num1 / num2\n",
    "remainder = num1 % num2\n",
    "\n",
    "print(f\"Quotient: {quotient:.2f}, Remainder: {remainder:.0f}\")"
   ]
  }
 ],
 "metadata": {
  "kernelspec": {
   "display_name": "Python 3",
   "language": "python",
   "name": "python3"
  },
  "language_info": {
   "codemirror_mode": {
    "name": "ipython",
    "version": 3
   },
   "file_extension": ".py",
   "mimetype": "text/x-python",
   "name": "python",
   "nbconvert_exporter": "python",
   "pygments_lexer": "ipython3",
   "version": "3.12.1"
  }
 },
 "nbformat": 4,
 "nbformat_minor": 2
}
