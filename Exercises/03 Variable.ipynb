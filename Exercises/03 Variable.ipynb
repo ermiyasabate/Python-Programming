{
 "cells": [
  {
   "cell_type": "markdown",
   "metadata": {},
   "source": [
    "<hr/>\n",
    "<div class=\"alert alert-danger alertsuccess\" style=\"margin-top: 20px\">\n",
    "<b><h4><b>Programming exercise 1:</b></h4></b>\n",
    "<p><b>Basic Variable Assignment<br></b>\n",
    "Assign values to variables\n",
    "</p>\n",
    "</div>\n",
    "<hr/>"
   ]
  },
  {
   "cell_type": "code",
   "execution_count": 1,
   "metadata": {},
   "outputs": [
    {
     "name": "stdout",
     "output_type": "stream",
     "text": [
      "40\n"
     ]
    }
   ],
   "source": [
    "a = 10\n",
    "b = 30\n",
    "c= a + b\n",
    "\n",
    "print(c)"
   ]
  },
  {
   "cell_type": "markdown",
   "metadata": {},
   "source": [
    "<hr/>\n",
    "<div class=\"alert alert-danger alertsuccess\" style=\"margin-top: 20px\">\n",
    "<b><h4><b>Programming exercise 2:</b></h4></b>\n",
    "<p><b>Swapping Variables<br></b>\n",
    "Swap the values of two variables.\n",
    "</p>\n",
    "</div>\n",
    "<hr/>"
   ]
  },
  {
   "cell_type": "code",
   "execution_count": 3,
   "metadata": {},
   "outputs": [
    {
     "name": "stdout",
     "output_type": "stream",
     "text": [
      "x = 10 and y = 5\n"
     ]
    }
   ],
   "source": [
    "x = 5\n",
    "y = 10\n",
    "\n",
    "x, y = y, x\n",
    "\n",
    "print(f\"x = {x} and y = {y}\")"
   ]
  },
  {
   "cell_type": "markdown",
   "metadata": {},
   "source": [
    "<hr/>\n",
    "<div class=\"alert alert-danger alertsuccess\" style=\"margin-top: 20px\">\n",
    "<b><h4><b>Programming exercise 3:</b></h4></b>\n",
    "<p><b>String Concatenation:<br></b>\n",
    "Concatenate two strings.\n",
    "</p>\n",
    "</div>\n",
    "<hr/>"
   ]
  },
  {
   "cell_type": "code",
   "execution_count": 4,
   "metadata": {},
   "outputs": [
    {
     "name": "stdout",
     "output_type": "stream",
     "text": [
      "John Doe\n"
     ]
    }
   ],
   "source": [
    "# Concatenate two strings\n",
    "first_name = \"John\"\n",
    "last_name = \"Doe\"\n",
    "full_name = first_name + \" \" + last_name\n",
    "print(full_name)"
   ]
  },
  {
   "cell_type": "code",
   "execution_count": 5,
   "metadata": {},
   "outputs": [
    {
     "name": "stdout",
     "output_type": "stream",
     "text": [
      "John Doe\n"
     ]
    }
   ],
   "source": [
    "print(f\"{first_name} {last_name}\")"
   ]
  },
  {
   "cell_type": "markdown",
   "metadata": {},
   "source": [
    "<hr/>\n",
    "<div class=\"alert alert-danger alertsuccess\" style=\"margin-top: 20px\">\n",
    "<b><h4><b>Programming exercise 4:</b></h4></b>\n",
    "<p><b>Variable Types:<br></b>\n",
    "Check the type of variables.\n",
    "</p>\n",
    "</div>\n",
    "<hr/>"
   ]
  },
  {
   "cell_type": "code",
   "execution_count": 7,
   "metadata": {},
   "outputs": [
    {
     "name": "stdout",
     "output_type": "stream",
     "text": [
      "<class 'int'>\n",
      "<class 'float'>\n",
      "<class 'str'>\n"
     ]
    }
   ],
   "source": [
    "# Check the type of variables\n",
    "var1 = 100\n",
    "var2 = 100.5\n",
    "var3 = \"Hello\"\n",
    "print(type(var1))\n",
    "print(type(var2))\n",
    "print(type(var3))"
   ]
  },
  {
   "cell_type": "markdown",
   "metadata": {},
   "source": [
    "<hr/>\n",
    "<div class=\"alert alert-danger alertsuccess\" style=\"margin-top: 20px\">\n",
    "<b><h4><b>Programming exercise 5:</b></h4></b>\n",
    "<p><b>Updating Variables:<br></b>\n",
    "Update the value of a variable\n",
    "</p>\n",
    "</div>\n",
    "<hr/>"
   ]
  },
  {
   "cell_type": "code",
   "execution_count": 9,
   "metadata": {},
   "outputs": [
    {
     "name": "stdout",
     "output_type": "stream",
     "text": [
      "1\n"
     ]
    }
   ],
   "source": [
    "# Update the value of a variable\n",
    "count = 0\n",
    "count += 1\n",
    "print(count)"
   ]
  },
  {
   "cell_type": "markdown",
   "metadata": {},
   "source": [
    "<hr/>\n",
    "<div class=\"alert alert-danger alertsuccess\" style=\"margin-top: 20px\">\n",
    "<b><h4><b>Programming exercise 6:</b></h4></b>\n",
    "<p><b>Multiple Assignments:<br></b>\n",
    "Assign multiple variables in one line.\n",
    "</p>\n",
    "</div>\n",
    "<hr/>"
   ]
  },
  {
   "cell_type": "code",
   "execution_count": 11,
   "metadata": {},
   "outputs": [
    {
     "name": "stdout",
     "output_type": "stream",
     "text": [
      "1 2 3\n"
     ]
    }
   ],
   "source": [
    "# Assign multiple variables in one line\n",
    "a, b, c = 1, 2, 3\n",
    "print(a, b, c)"
   ]
  },
  {
   "cell_type": "code",
   "execution_count": null,
   "metadata": {},
   "outputs": [],
   "source": []
  }
 ],
 "metadata": {
  "kernelspec": {
   "display_name": "Python 3",
   "language": "python",
   "name": "python3"
  },
  "language_info": {
   "codemirror_mode": {
    "name": "ipython",
    "version": 3
   },
   "file_extension": ".py",
   "mimetype": "text/x-python",
   "name": "python",
   "nbconvert_exporter": "python",
   "pygments_lexer": "ipython3",
   "version": "3.12.1"
  }
 },
 "nbformat": 4,
 "nbformat_minor": 2
}
