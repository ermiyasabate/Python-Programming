{
 "cells": [
  {
   "cell_type": "markdown",
   "metadata": {},
   "source": [
    "<hr/>\n",
    "<div class=\"alert alert-danger alertsuccess\" style=\"margin-top: 20px\">\n",
    "<b><h4><b>Programming exercise 1:</b></h4></b>\n",
    "<p><b>Positive or Negative<br></b>\n",
    "Write a program that takes an integer input from the user and prints whether it’s positive or negative using an if statement.\n",
    "</p>\n",
    "</div>\n",
    "<hr/>"
   ]
  },
  {
   "cell_type": "code",
   "execution_count": 6,
   "metadata": {},
   "outputs": [
    {
     "name": "stdout",
     "output_type": "stream",
     "text": [
      "67 is Positive!\n"
     ]
    }
   ],
   "source": [
    "num = int(input(\"Please Enter the number: \"))\n",
    "\n",
    "if num > 0:\n",
    "    print(f\"{num} is Positive!\")\n",
    "    \n",
    "if num < 0:\n",
    "    print(f\"{num} is Negative!\")\n",
    "    \n",
    "if num == 0:\n",
    "    print(f\"{num} is Zero!\")"
   ]
  },
  {
   "cell_type": "markdown",
   "metadata": {},
   "source": [
    "<hr/>\n",
    "<div class=\"alert alert-danger alertsuccess\" style=\"margin-top: 20px\">\n",
    "<b><h4><b>Programming exercise 2:</b></h4></b>\n",
    "<p><b>Even or Odd<br></b>\n",
    "Create a program that checks if a given number is even or odd. Use the modulo operator (%) to determine this.\n",
    "</p>\n",
    "</div>\n",
    "<hr/>"
   ]
  },
  {
   "cell_type": "code",
   "execution_count": 4,
   "metadata": {},
   "outputs": [
    {
     "name": "stdout",
     "output_type": "stream",
     "text": [
      "35 is Odd!\n"
     ]
    }
   ],
   "source": [
    "num = int(input(\"Please Enter the number: \"))\n",
    "\n",
    "if num % 2 == 0:\n",
    "    print(f\"{num} is Even!\")\n",
    "else:\n",
    "    print(f\"{num} is Odd!\")"
   ]
  },
  {
   "cell_type": "markdown",
   "metadata": {},
   "source": [
    "<hr/>\n",
    "<div class=\"alert alert-danger alertsuccess\" style=\"margin-top: 20px\">\n",
    "<b><h4><b>Programming exercise 3:</b></h4></b>\n",
    "<p><b>Leap Year Checker<br></b>\n",
    "Ask the user to input a year. Determine whether it’s a leap year or not. A leap year is divisible by 4, except for years that are divisible by 100 but not by 400.\n",
    "</p>\n",
    "</div>\n",
    "<hr/>"
   ]
  },
  {
   "cell_type": "code",
   "execution_count": 11,
   "metadata": {},
   "outputs": [
    {
     "name": "stdout",
     "output_type": "stream",
     "text": [
      "2024 is a leap year!\n"
     ]
    }
   ],
   "source": [
    "year = int(input(\"Enter the year: \"))\n",
    "leap_year = False\n",
    "\n",
    "if year % 4 == 0:\n",
    "    if year % 100 != 0 or year % 400 == 0:\n",
    "        leap_year = True\n",
    "    else:\n",
    "        leap_year = False\n",
    "else:\n",
    "    leap_year = False\n",
    "    \n",
    "if leap_year:\n",
    "    print(f\"{year} is a leap year!\")\n",
    "else:\n",
    "    print(f\"{year} isn't a leap year!\")"
   ]
  },
  {
   "cell_type": "markdown",
   "metadata": {},
   "source": [
    "<hr/>\n",
    "<div class=\"alert alert-danger alertsuccess\" style=\"margin-top: 20px\">\n",
    "<b><h4><b>Programming exercise 4:</b></h4></b>\n",
    "<p><b>Vowel or Consonant<br></b>\n",
    "Take a single character as input. If it’s a vowel (a, e, i, o, u), print “Vowel”; otherwise, print “Consonant.”\n",
    "</p>\n",
    "</div>\n",
    "<hr/>"
   ]
  },
  {
   "cell_type": "code",
   "execution_count": 14,
   "metadata": {},
   "outputs": [
    {
     "name": "stdout",
     "output_type": "stream",
     "text": [
      "i is Vowel!\n"
     ]
    }
   ],
   "source": [
    "single_char = input(\"Please enter a single character: \")\n",
    "\n",
    "if single_char == \"a\" or single_char == \"e\" or single_char == \"i\" or single_char == \"o\" or single_char == \"u\":\n",
    "    print(f\"{single_char} is Vowel!\")\n",
    "else:\n",
    "    print(f\"{single_char} is Consonant!\")"
   ]
  },
  {
   "cell_type": "code",
   "execution_count": null,
   "metadata": {},
   "outputs": [],
   "source": []
  }
 ],
 "metadata": {
  "kernelspec": {
   "display_name": "Python 3",
   "language": "python",
   "name": "python3"
  },
  "language_info": {
   "codemirror_mode": {
    "name": "ipython",
    "version": 3
   },
   "file_extension": ".py",
   "mimetype": "text/x-python",
   "name": "python",
   "nbconvert_exporter": "python",
   "pygments_lexer": "ipython3",
   "version": "3.12.3"
  }
 },
 "nbformat": 4,
 "nbformat_minor": 2
}
