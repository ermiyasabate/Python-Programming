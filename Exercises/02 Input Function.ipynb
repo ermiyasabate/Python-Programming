{
 "cells": [
  {
   "cell_type": "markdown",
   "metadata": {},
   "source": [
    "<hr/>\n",
    "<div class=\"alert alert-danger alertsuccess\" style=\"margin-top: 20px\">\n",
    "<b><h4><b>Programming exercise 1:</b></h4></b>\n",
    "<p><b>Basic Input and Output<br></b>\n",
    "Write a program that asks the user for their name and then greets them with their name.\n",
    "</p>\n",
    "</div>\n",
    "<hr/>"
   ]
  },
  {
   "cell_type": "code",
   "execution_count": 1,
   "metadata": {},
   "outputs": [
    {
     "name": "stdout",
     "output_type": "stream",
     "text": [
      "Hello, John Doe!\n"
     ]
    }
   ],
   "source": [
    "name = input(\"Please Enter your name?\")\n",
    "\n",
    "print(f\"Hello, {name}!\")"
   ]
  },
  {
   "cell_type": "markdown",
   "metadata": {},
   "source": [
    "<hr/>\n",
    "<div class=\"alert alert-danger alertsuccess\" style=\"margin-top: 20px\">\n",
    "<b><h4><b>Programming exercise 2:</b></h4></b>\n",
    "<p><b>Sum of Two Numbers:<br></b>\n",
    "Write a program that asks the user for two numbers and then prints their sum..\n",
    "</p>\n",
    "</div>\n",
    "<hr/>"
   ]
  },
  {
   "cell_type": "code",
   "execution_count": 2,
   "metadata": {},
   "outputs": [
    {
     "name": "stdout",
     "output_type": "stream",
     "text": [
      "10.0 + 12.0 = 22.0\n"
     ]
    }
   ],
   "source": [
    "num_one = float(input(\"Enter your first number?\"))\n",
    "num_two = float(input(\"Enter your second number?\"))\n",
    "\n",
    "print(f\"{num_one} + {num_two} = {num_one + num_two}\")"
   ]
  },
  {
   "cell_type": "markdown",
   "metadata": {},
   "source": [
    "Or We can format the output like this"
   ]
  },
  {
   "cell_type": "code",
   "execution_count": 4,
   "metadata": {},
   "outputs": [
    {
     "name": "stdout",
     "output_type": "stream",
     "text": [
      "10 + 12 = 22\n"
     ]
    }
   ],
   "source": [
    "num_one = float(input(\"Enter your first number?\"))\n",
    "num_two = float(input(\"Enter your second number?\"))\n",
    "\n",
    "print(f\"{num_one:.0f} + {num_two:.0f} = {num_one + num_two:.0f}\")"
   ]
  },
  {
   "cell_type": "markdown",
   "metadata": {},
   "source": [
    "<hr/>\n",
    "<div class=\"alert alert-danger alertsuccess\" style=\"margin-top: 20px\">\n",
    "<b><h4><b>Programming exercise 3:</b></h4></b>\n",
    "<p><b>Age Calculation:<br></b>\n",
    "Write a program that asks the user for their birth year and then calculates and prints their age.\n",
    "</p>\n",
    "</div>\n",
    "<hr/>"
   ]
  },
  {
   "cell_type": "code",
   "execution_count": 6,
   "metadata": {},
   "outputs": [
    {
     "name": "stdout",
     "output_type": "stream",
     "text": [
      "Your age is 28.\n"
     ]
    }
   ],
   "source": [
    "import datetime\n",
    "\n",
    "today = datetime.datetime.now()\n",
    "current_year = today.year\n",
    "\n",
    "birth_year = int(input(\"Enter your birth year?\"))\n",
    "\n",
    "print(f\"Your age is {current_year - birth_year}.\")"
   ]
  },
  {
   "cell_type": "markdown",
   "metadata": {},
   "source": [
    "<hr/>\n",
    "<div class=\"alert alert-danger alertsuccess\" style=\"margin-top: 20px\">\n",
    "<b><h4><b>Programming exercise 4:</b></h4></b>\n",
    "<p><b>Temperature Conversion:<br></b>\n",
    "Write a program that asks the user for a temperature in Celsius and converts it to Fahrenheit.\n",
    "</p>\n",
    "</div>\n",
    "<hr/>"
   ]
  },
  {
   "cell_type": "code",
   "execution_count": 10,
   "metadata": {},
   "outputs": [
    {
     "name": "stdout",
     "output_type": "stream",
     "text": [
      "100.0°C = 212.0°F\n"
     ]
    }
   ],
   "source": [
    "celsius = float(input(\"Enter the temperature? (In Celsius)\"))\n",
    "\n",
    "fahrenheit = ((9/5)*celsius) + 32\n",
    "\n",
    "print(f\"{celsius}°C = {fahrenheit}°F\")"
   ]
  },
  {
   "cell_type": "code",
   "execution_count": null,
   "metadata": {},
   "outputs": [],
   "source": []
  }
 ],
 "metadata": {
  "kernelspec": {
   "display_name": "Python 3",
   "language": "python",
   "name": "python3"
  },
  "language_info": {
   "codemirror_mode": {
    "name": "ipython",
    "version": 3
   },
   "file_extension": ".py",
   "mimetype": "text/x-python",
   "name": "python",
   "nbconvert_exporter": "python",
   "pygments_lexer": "ipython3",
   "version": "3.12.1"
  }
 },
 "nbformat": 4,
 "nbformat_minor": 2
}
