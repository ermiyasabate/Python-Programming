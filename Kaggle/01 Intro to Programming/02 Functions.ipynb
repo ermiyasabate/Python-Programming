{
 "cells": [
  {
   "cell_type": "markdown",
   "metadata": {},
   "source": [
    "# Functions\n",
    "Organize your code and avoid redundancy.\n",
    "\n",
    "## Introduction\n",
    "In this lesson, you will learn how to organize your code with functions. A function is a block of code designed to perform a specific task. As you'll see, functions will let you do roughly the same calculation multiple times without duplicating any code.\n",
    "\n",
    "## Intro to functions: a simple example\n",
    "We begin with a simple example of a function. The add_three() function below accepts any number, adds three to it, and then returns the result."
   ]
  },
  {
   "cell_type": "code",
   "execution_count": 2,
   "metadata": {},
   "outputs": [],
   "source": [
    "# Define the function\n",
    "def add_three(input_var):\n",
    "    output_var = input_var + 3\n",
    "    return output_var"
   ]
  },
  {
   "cell_type": "markdown",
   "metadata": {},
   "source": [
    "Every function is composed of two pieces: a header and body.\n",
    "\n",
    "![Function](https://storage.googleapis.com/kaggle-media/learn/images/gu0AWhK.png)"
   ]
  },
  {
   "cell_type": "markdown",
   "metadata": {},
   "source": [
    "## Header\n",
    "The function header defines the name of the function and its argument(s).\n",
    "\n",
    "- Every function header begins with def, which tells Python that we are about to define a function.\n",
    "- In the example, the function name is add_three.\n",
    "- In the example, the argument is input_var. The argument is the name of the variable that will be used as input to the function. It is always enclosed in parentheses that apppear immediately after the name of the function. (Note that a function can also have no arguments, or it can have multiple arguments. You'll see some examples of this later in the lesson.)\n",
    "- For every function, the parentheses enclosing the function argument(s) must be followed by a colon :."
   ]
  },
  {
   "cell_type": "markdown",
   "metadata": {},
   "source": [
    "## Body\n",
    "The function body specifies the work that the function does.\n",
    "\n",
    "- Every line of code in the function body must be indented exactly four spaces. You can do this by pushing the space bar four times, or by hitting the \"Tab\" button once on your keyboard. (As you learn more about Python, you may need to indent your code by more than four spaces, but you'll learn more about that later in this course.)\n",
    "    - The function does its work by running all of the indented lines from top to bottom.\n",
    "    - It takes the argument as input, which in the example is input_var.\n",
    "    - The function creates a new variable output_var with the calculation output_var = input_var + 3.\n",
    "    - Then, the final line of code, called the return statement, just returns the value in output_var as the function's output.\n",
    "\n",
    "The code cell above just defines the function, but does not run it. The details of the function body will make more sense after the next code cell, when we actually run the function.\n",
    "\n"
   ]
  },
  {
   "cell_type": "markdown",
   "metadata": {},
   "source": [
    "### How to run (or \"call\") a function\n",
    "When we run a function, it can also be referred to as \"calling\" the function.\n",
    "\n",
    "In the code cell below, we run the function with 10 as the input value. We define a new variable new_number which is set to the output of the function."
   ]
  },
  {
   "cell_type": "code",
   "execution_count": 3,
   "metadata": {},
   "outputs": [
    {
     "name": "stdout",
     "output_type": "stream",
     "text": [
      "13\n"
     ]
    }
   ],
   "source": [
    "# Run the function with 10 as input\n",
    "new_number = add_three(10)\n",
    "\n",
    "# Check that the value is 13, as expected\n",
    "print(new_number)"
   ]
  },
  {
   "cell_type": "code",
   "execution_count": null,
   "metadata": {},
   "outputs": [],
   "source": []
  }
 ],
 "metadata": {
  "kernelspec": {
   "display_name": "Python 3",
   "language": "python",
   "name": "python3"
  },
  "language_info": {
   "codemirror_mode": {
    "name": "ipython",
    "version": 3
   },
   "file_extension": ".py",
   "mimetype": "text/x-python",
   "name": "python",
   "nbconvert_exporter": "python",
   "pygments_lexer": "ipython3",
   "version": "3.12.3"
  }
 },
 "nbformat": 4,
 "nbformat_minor": 2
}
