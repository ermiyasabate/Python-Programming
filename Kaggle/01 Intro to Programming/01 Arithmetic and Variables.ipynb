{
 "cells": [
  {
   "cell_type": "markdown",
   "metadata": {},
   "source": [
    "# Arithmetic and Variables\n",
    "\n",
    "Make calculations, and define and modify variables."
   ]
  },
  {
   "cell_type": "markdown",
   "metadata": {},
   "source": [
    "Welcome to the Intro to Programming course! This course is for you if you have never written a single line of code, and you are interested in learning data science and machine learning. (If you do have programming experience and are just new to the Python language, the Python course is a better fit to get started.)\n",
    "\n",
    "In this course, you will learn how to use code to get a computer to perform certain tasks for you. Python is one of the most popular programming languages for data science, and it's the language you'll learn in this course. Once you complete this course, you'll be fully prepared to progress to the Python course, followed by the Intro to Machine Learning course.\n",
    "\n",
    "In this tutorial, you'll see several examples of Python code. You'll get a chance to write your own code in the exercise. (If you'd like to preview the exercise, feel free to take a look now. We also provide a link to the exercise at the end of this tutorial.)"
   ]
  },
  {
   "cell_type": "markdown",
   "metadata": {},
   "source": [
    "## Printing\n",
    "\n",
    "One of the simplest (and most important!) tasks you can ask a computer to do is to print a message.\n",
    "\n",
    "In Python, we ask a computer to print a message for us by writing print() and putting the message inside the parentheses and enclosed in quotation marks. Below, we ask the computer to print the message Hello, world!."
   ]
  },
  {
   "cell_type": "code",
   "execution_count": null,
   "metadata": {},
   "outputs": [],
   "source": []
  }
 ],
 "metadata": {
  "language_info": {
   "name": "python"
  }
 },
 "nbformat": 4,
 "nbformat_minor": 2
}
