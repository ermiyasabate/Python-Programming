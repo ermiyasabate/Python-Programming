{
 "cells": [
  {
   "cell_type": "markdown",
   "metadata": {},
   "source": [
    "# Arithmetic and Variables\n",
    "Make calculations, and define and modify variables.\n",
    "\n",
    "### 1. Printing\n",
    "One of the simplest (and most important!) tasks you can ask a computer to do is to print a message.\n",
    "\n",
    "In Python, we ask a computer to print a message for us by writing print() and putting the message inside the parentheses and enclosed in quotation marks. Below, we ask the computer to print the message Hello, world!."
   ]
  },
  {
   "cell_type": "code",
   "execution_count": 1,
   "metadata": {},
   "outputs": [
    {
     "name": "stdout",
     "output_type": "stream",
     "text": [
      "Hello, world!\n"
     ]
    }
   ],
   "source": [
    "print(\"Hello, world!\")"
   ]
  },
  {
   "cell_type": "markdown",
   "metadata": {},
   "source": [
    "The code is inside the box (known as a code cell), and the computer's response (called the output of the code) is shown below the box. As you can see, the computer printed the message that we wanted."
   ]
  },
  {
   "cell_type": "markdown",
   "metadata": {},
   "source": [
    "### 2. Arithmetic\n",
    "We can also print the value of some arithmetic operation (such as addition, subtraction, multiplication, or division).\n",
    "\n",
    "For instance, in the next code cell, the computer adds 2 to 1 and then prints the result, which is 3. Note that unlike when we were simply printing text, we don't use any quotation marks."
   ]
  },
  {
   "cell_type": "code",
   "execution_count": 2,
   "metadata": {},
   "outputs": [
    {
     "name": "stdout",
     "output_type": "stream",
     "text": [
      "3\n"
     ]
    }
   ],
   "source": [
    "print(2 + 1)"
   ]
  },
  {
   "cell_type": "markdown",
   "metadata": {},
   "source": [
    "We can also do subtraction in python. The next code cell subtracts 5 from 9 and prints the result, which is 4."
   ]
  },
  {
   "cell_type": "code",
   "execution_count": 3,
   "metadata": {},
   "outputs": [
    {
     "name": "stdout",
     "output_type": "stream",
     "text": [
      "4\n"
     ]
    }
   ],
   "source": [
    "print(9 - 5)"
   ]
  },
  {
   "cell_type": "markdown",
   "metadata": {},
   "source": [
    "You can actually do a lot of calculations with python! See the table below for some examples."
   ]
  },
  {
   "cell_type": "code",
   "execution_count": 4,
   "metadata": {},
   "outputs": [
    {
     "name": "stdout",
     "output_type": "stream",
     "text": [
      "3\n",
      "1\n",
      "8\n",
      "2.0\n",
      "9\n"
     ]
    }
   ],
   "source": [
    "# Addition\n",
    "print(1 + 2)\n",
    "\n",
    "# Subtraction\t\n",
    "print(5 - 4)\n",
    "\n",
    "# Multiplication\n",
    "print(2 * 4)\n",
    "\n",
    "# Division\n",
    "print(6 / 3)\n",
    "\n",
    "# Exponent\n",
    "print(3 ** 2)"
   ]
  },
  {
   "cell_type": "markdown",
   "metadata": {},
   "source": [
    "You can control the order of operations in long calculations with parentheses."
   ]
  },
  {
   "cell_type": "code",
   "execution_count": 5,
   "metadata": {},
   "outputs": [
    {
     "name": "stdout",
     "output_type": "stream",
     "text": [
      "196.0\n"
     ]
    }
   ],
   "source": [
    "print(((1 + 3) * (9 - 2) / 2) ** 2)"
   ]
  },
  {
   "cell_type": "markdown",
   "metadata": {},
   "source": [
    "In general, Python follows the PEMDAS rule when deciding the order of operations.\n",
    "\n",
    "### 3. Comments\n",
    "We use comments to annotate what code is doing. They help other people to understand your code, and they can also be helpful if you haven't looked at your own code in a while. So far, the code that we have written is very short, but annotations become more important when you have written a lot of code.\n",
    "\n",
    "For instance, in the next code cell, we multiply 3 by 2. We also add a comment (# Multiply 3 by 2) above the code to describe what the code is doing."
   ]
  },
  {
   "cell_type": "code",
   "execution_count": 6,
   "metadata": {},
   "outputs": [
    {
     "name": "stdout",
     "output_type": "stream",
     "text": [
      "6\n"
     ]
    }
   ],
   "source": [
    "# Multiply 3 by 2\n",
    "print(3 * 2)"
   ]
  },
  {
   "cell_type": "markdown",
   "metadata": {},
   "source": [
    "To indicate to Python that a line is comment (and not Python code), you need to write a pound sign (#) as the very first character.\n",
    "\n",
    "Once Python sees the pound sign and recognizes that the line is a comment, it is completely ignored by the computer. This is important, because just like English or Hindi (or any other language!), Python is a language with very strict rules that need to be followed. Python is stricter than a human listener, though, and will just error if it can't understand the code.\n",
    "\n",
    "We can see an example of this, in the code cell below. Python errors if we remove the pound sign, because the text in the comment is not valid Python code, so it can't be interpreted properly."
   ]
  },
  {
   "cell_type": "code",
   "execution_count": 7,
   "metadata": {},
   "outputs": [
    {
     "ename": "SyntaxError",
     "evalue": "invalid syntax (3750420471.py, line 1)",
     "output_type": "error",
     "traceback": [
      "\u001b[1;36m  Cell \u001b[1;32mIn[7], line 1\u001b[1;36m\u001b[0m\n\u001b[1;33m    Multiply 3 by 2\u001b[0m\n\u001b[1;37m             ^\u001b[0m\n\u001b[1;31mSyntaxError\u001b[0m\u001b[1;31m:\u001b[0m invalid syntax\n"
     ]
    }
   ],
   "source": [
    "Multiply 3 by 2"
   ]
  },
  {
   "cell_type": "markdown",
   "metadata": {},
   "source": [
    "### 4. Variables\n",
    "So far, you have used code to make a calculation and print the result, and the result isn't saved anywhere. However, you can imagine that you might want to save the result to work with it later. For this, you'll need to use variables.\n",
    "\n",
    "#### Creating variables\n",
    "The next code cell creates a variable named test_var and assigns it the value that we get when we add 5 to 4.\n",
    "\n",
    "We then print the value that is assigned to the variable, which is 9."
   ]
  },
  {
   "cell_type": "code",
   "execution_count": 9,
   "metadata": {},
   "outputs": [
    {
     "name": "stdout",
     "output_type": "stream",
     "text": [
      "9\n"
     ]
    }
   ],
   "source": [
    "# Create a variable called test_var and give it a value of 4+5\n",
    "test_var = 4 + 5\n",
    "\n",
    "# Print the value of test_var\n",
    "print(test_var)"
   ]
  },
  {
   "cell_type": "markdown",
   "metadata": {},
   "source": [
    "In general, to work with a variable, you need to begin by selecting the name you want to use. Variable names are ideally short and descriptive. They also need to satisfy several requirements:\n",
    "\n",
    "- They can't have spaces (e.g., test var is not allowed)\n",
    "- They can only include letters, numbers, and underscores (e.g., test_var! is not allowed)\n",
    "- They have to start with a letter or underscore (e.g., 1_var is not allowed)\n",
    "Then, to create the variable, you need to use = to assign the value that you want it to have.\n",
    "\n",
    "You can always take a look at the value assigned to the variable by using print() and putting the name of the variable in parentheses.\n",
    "\n",
    "Over time, you'll learn how to select good names for Python variables. It's completely fine for it to feel uncomfortable now, and the best way to learn is just by viewing a lot of Python code!"
   ]
  },
  {
   "cell_type": "markdown",
   "metadata": {},
   "source": [
    "#### Manipulating variables\n",
    "You can always change the value assigned to a variable by overriding the previous value.\n",
    "\n",
    "In the code cell below, we change the value of my_var from 3 to 100."
   ]
  },
  {
   "cell_type": "code",
   "execution_count": 10,
   "metadata": {},
   "outputs": [
    {
     "name": "stdout",
     "output_type": "stream",
     "text": [
      "3\n",
      "100\n"
     ]
    }
   ],
   "source": [
    "# Set the value of a new variable to 3\n",
    "my_var = 3\n",
    "\n",
    "# Print the value assigned to my_var\n",
    "print(my_var)\n",
    "\n",
    "# Change the value of the variable to 100\n",
    "my_var = 100\n",
    "\n",
    "# Print the new value assigned to my_var\n",
    "print(my_var)"
   ]
  },
  {
   "cell_type": "code",
   "execution_count": null,
   "metadata": {},
   "outputs": [],
   "source": []
  }
 ],
 "metadata": {
  "kernelspec": {
   "display_name": "Python 3",
   "language": "python",
   "name": "python3"
  },
  "language_info": {
   "codemirror_mode": {
    "name": "ipython",
    "version": 3
   },
   "file_extension": ".py",
   "mimetype": "text/x-python",
   "name": "python",
   "nbconvert_exporter": "python",
   "pygments_lexer": "ipython3",
   "version": "3.12.3"
  }
 },
 "nbformat": 4,
 "nbformat_minor": 2
}
