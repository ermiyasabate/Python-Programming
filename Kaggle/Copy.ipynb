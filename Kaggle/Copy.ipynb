{
 "cells": [
  {
   "cell_type": "markdown",
   "metadata": {},
   "source": [
    "<hr/>\n",
    "<div class=\"alert alert-danger alertsuccess\" style=\"margin-top: 20px\">\n",
    "<h2>Programming exercise:</h2>\n",
    "<h3><b>Print numbers</b></h3>\n",
    "<p>\n",
    "<b>Pre-task</b><br>\n",
    "</p>\n",
    "</div>\n",
    "<hr/>"
   ]
  }
 ],
 "metadata": {
  "language_info": {
   "name": "python"
  }
 },
 "nbformat": 4,
 "nbformat_minor": 2
}
