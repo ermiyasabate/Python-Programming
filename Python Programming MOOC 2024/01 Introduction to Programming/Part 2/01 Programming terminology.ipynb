{
 "cells": [
  {
   "cell_type": "markdown",
   "metadata": {},
   "source": [
    "# Programming terminology"
   ]
  },
  {
   "cell_type": "markdown",
   "metadata": {},
   "source": [
    "In the first part of this course we didn't pay much attention to terminology, so let's have a look at some central concepts in programming.\n",
    "\n",
    "## Statement\n",
    "A statement is a part of the program which executes something. It often, but not always, refers to a single command.\n",
    "\n",
    "For example, print(\"Hi!\") is a statement which prints out a line of text. Likewise, number = 2 is a statement which assigns a value to a variable.\n",
    "\n",
    "A statement can also be more complicated. It can, for instance, contain other statements. The following statement spans three lines:"
   ]
  },
  {
   "cell_type": "code",
   "execution_count": 2,
   "metadata": {},
   "outputs": [
    {
     "name": "stdout",
     "output_type": "stream",
     "text": [
      "Hi!\n"
     ]
    }
   ],
   "source": [
    "name = \"Anna\"\n",
    "\n",
    "if name == \"Anna\":\n",
    "    print(\"Hi!\")\n",
    "    number = 2"
   ]
  },
  {
   "cell_type": "markdown",
   "metadata": {},
   "source": [
    "In the above case there are two statements (a print statement and an assignment statement) within a conditional statement.\n",
    "\n",
    "## Block\n",
    "A block is a group of consecutive statements that are at the same level in the structure of the program. For example, the block of a conditional statement contains those statements which are executed only if the condition is true."
   ]
  },
  {
   "cell_type": "code",
   "execution_count": 3,
   "metadata": {},
   "outputs": [
    {
     "name": "stdout",
     "output_type": "stream",
     "text": [
      "You are of age!\n",
      "You are now one year older...\n",
      "This here belongs to another block\n"
     ]
    }
   ],
   "source": [
    "age = 18\n",
    "\n",
    "if age > 17:\n",
    "    # beginning of the conditional block\n",
    "    print(\"You are of age!\")\n",
    "    age = age + 1\n",
    "    print(\"You are now one year older...\")\n",
    "    # end of the conditional block\n",
    "\n",
    "print(\"This here belongs to another block\")"
   ]
  },
  {
   "cell_type": "markdown",
   "metadata": {},
   "source": [
    "In Python blocks are expressed by indenting all code in the block by the same amount of whitespace.\n",
    "\n",
    "NB: the main block of a Python program must always be at the leftmost edge of the file, without indentation:"
   ]
  },
  {
   "cell_type": "code",
   "execution_count": 4,
   "metadata": {},
   "outputs": [
    {
     "ename": "IndentationError",
     "evalue": "unexpected indent (2823281387.py, line 2)",
     "output_type": "error",
     "traceback": [
      "\u001b[1;36m  Cell \u001b[1;32mIn[4], line 2\u001b[1;36m\u001b[0m\n\u001b[1;33m    print(\"hello world\")\u001b[0m\n\u001b[1;37m    ^\u001b[0m\n\u001b[1;31mIndentationError\u001b[0m\u001b[1;31m:\u001b[0m unexpected indent\n"
     ]
    }
   ],
   "source": [
    "# this program will not work because it is not written at the leftmost egde of the file\n",
    "  print(\"hello world\")\n",
    "  print(\"this program is not very good...\")"
   ]
  },
  {
   "cell_type": "markdown",
   "metadata": {},
   "source": [
    "## Expression\n",
    "An expression is a bit of code that results in a determined data type. When the program is executed, the expression is evaluated so that it has a value that can then be used in the program.\n",
    "\n",
    "Here are a few examples of expressions:"
   ]
  },
  {
   "cell_type": "code",
   "execution_count": 6,
   "metadata": {},
   "outputs": [
    {
     "name": "stdout",
     "output_type": "stream",
     "text": [
      "<class 'int'>\n",
      "<class 'str'>\n",
      "<class 'float'>\n",
      "<class 'bool'>\n"
     ]
    }
   ],
   "source": [
    "print(type(2 + 4 + 3))\n",
    "print(type(\"abc\" + \"de\"))\n",
    "print(type(11 / 2))\n",
    "print(type(2 * 5 > 9))"
   ]
  },
  {
   "cell_type": "code",
   "execution_count": null,
   "metadata": {},
   "outputs": [],
   "source": []
  }
 ],
 "metadata": {
  "kernelspec": {
   "display_name": "Python 3",
   "language": "python",
   "name": "python3"
  },
  "language_info": {
   "codemirror_mode": {
    "name": "ipython",
    "version": 3
   },
   "file_extension": ".py",
   "mimetype": "text/x-python",
   "name": "python",
   "nbconvert_exporter": "python",
   "pygments_lexer": "ipython3",
   "version": "3.12.3"
  }
 },
 "nbformat": 4,
 "nbformat_minor": 2
}
