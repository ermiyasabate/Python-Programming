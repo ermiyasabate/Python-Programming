{
 "cells": [
  {
   "cell_type": "markdown",
   "metadata": {},
   "source": [
    "# Programming terminology"
   ]
  },
  {
   "cell_type": "markdown",
   "metadata": {},
   "source": [
    "In the first part of this course we didn't pay much attention to terminology, so let's have a look at some central concepts in programming.\n",
    "\n",
    "## Statement\n",
    "A statement is a part of the program which executes something. It often, but not always, refers to a single command.\n",
    "\n",
    "For example, print(\"Hi!\") is a statement which prints out a line of text. Likewise, number = 2 is a statement which assigns a value to a variable.\n",
    "\n",
    "A statement can also be more complicated. It can, for instance, contain other statements. The following statement spans three lines:"
   ]
  },
  {
   "cell_type": "code",
   "execution_count": 2,
   "metadata": {},
   "outputs": [
    {
     "name": "stdout",
     "output_type": "stream",
     "text": [
      "Hi!\n"
     ]
    }
   ],
   "source": [
    "name = \"Anna\"\n",
    "\n",
    "if name == \"Anna\":\n",
    "    print(\"Hi!\")\n",
    "    number = 2"
   ]
  },
  {
   "cell_type": "code",
   "execution_count": null,
   "metadata": {},
   "outputs": [],
   "source": []
  }
 ],
 "metadata": {
  "kernelspec": {
   "display_name": "Python 3",
   "language": "python",
   "name": "python3"
  },
  "language_info": {
   "codemirror_mode": {
    "name": "ipython",
    "version": 3
   },
   "file_extension": ".py",
   "mimetype": "text/x-python",
   "name": "python",
   "nbconvert_exporter": "python",
   "pygments_lexer": "ipython3",
   "version": "3.12.3"
  }
 },
 "nbformat": 4,
 "nbformat_minor": 2
}
