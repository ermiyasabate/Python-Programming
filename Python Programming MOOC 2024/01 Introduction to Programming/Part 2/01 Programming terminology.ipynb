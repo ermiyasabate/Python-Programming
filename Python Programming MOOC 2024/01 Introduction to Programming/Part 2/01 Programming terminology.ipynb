{
 "cells": [
  {
   "cell_type": "markdown",
   "metadata": {},
   "source": [
    "# Programming terminology"
   ]
  },
  {
   "cell_type": "markdown",
   "metadata": {},
   "source": [
    "In the first part of this course we didn't pay much attention to terminology, so let's have a look at some central concepts in programming.\n",
    "\n",
    "## Statement\n",
    "A statement is a part of the program which executes something. It often, but not always, refers to a single command.\n",
    "\n",
    "For example, print(\"Hi!\") is a statement which prints out a line of text. Likewise, number = 2 is a statement which assigns a value to a variable.\n",
    "\n",
    "A statement can also be more complicated. It can, for instance, contain other statements. The following statement spans three lines:"
   ]
  },
  {
   "cell_type": "code",
   "execution_count": 2,
   "metadata": {},
   "outputs": [
    {
     "name": "stdout",
     "output_type": "stream",
     "text": [
      "Hi!\n"
     ]
    }
   ],
   "source": [
    "name = \"Anna\"\n",
    "\n",
    "if name == \"Anna\":\n",
    "    print(\"Hi!\")\n",
    "    number = 2"
   ]
  },
  {
   "cell_type": "markdown",
   "metadata": {},
   "source": [
    "In the above case there are two statements (a print statement and an assignment statement) within a conditional statement.\n",
    "\n",
    "## Block\n",
    "A block is a group of consecutive statements that are at the same level in the structure of the program. For example, the block of a conditional statement contains those statements which are executed only if the condition is true."
   ]
  },
  {
   "cell_type": "code",
   "execution_count": 3,
   "metadata": {},
   "outputs": [
    {
     "name": "stdout",
     "output_type": "stream",
     "text": [
      "You are of age!\n",
      "You are now one year older...\n",
      "This here belongs to another block\n"
     ]
    }
   ],
   "source": [
    "age = 18\n",
    "\n",
    "if age > 17:\n",
    "    # beginning of the conditional block\n",
    "    print(\"You are of age!\")\n",
    "    age = age + 1\n",
    "    print(\"You are now one year older...\")\n",
    "    # end of the conditional block\n",
    "\n",
    "print(\"This here belongs to another block\")"
   ]
  },
  {
   "cell_type": "markdown",
   "metadata": {},
   "source": [
    "In Python blocks are expressed by indenting all code in the block by the same amount of whitespace.\n",
    "\n",
    "NB: the main block of a Python program must always be at the leftmost edge of the file, without indentation:"
   ]
  },
  {
   "cell_type": "code",
   "execution_count": 4,
   "metadata": {},
   "outputs": [
    {
     "ename": "IndentationError",
     "evalue": "unexpected indent (2823281387.py, line 2)",
     "output_type": "error",
     "traceback": [
      "\u001b[1;36m  Cell \u001b[1;32mIn[4], line 2\u001b[1;36m\u001b[0m\n\u001b[1;33m    print(\"hello world\")\u001b[0m\n\u001b[1;37m    ^\u001b[0m\n\u001b[1;31mIndentationError\u001b[0m\u001b[1;31m:\u001b[0m unexpected indent\n"
     ]
    }
   ],
   "source": [
    "# this program will not work because it is not written at the leftmost egde of the file\n",
    "  print(\"hello world\")\n",
    "  print(\"this program is not very good...\")"
   ]
  },
  {
   "cell_type": "markdown",
   "metadata": {},
   "source": [
    "## Expression\n",
    "An expression is a bit of code that results in a determined data type. When the program is executed, the expression is evaluated so that it has a value that can then be used in the program.\n",
    "\n",
    "Here are a few examples of expressions:"
   ]
  },
  {
   "cell_type": "code",
   "execution_count": 6,
   "metadata": {},
   "outputs": [
    {
     "name": "stdout",
     "output_type": "stream",
     "text": [
      "<class 'int'>\n",
      "<class 'str'>\n",
      "<class 'float'>\n",
      "<class 'bool'>\n"
     ]
    }
   ],
   "source": [
    "print(type(2 + 4 + 3))\n",
    "print(type(\"abc\" + \"de\"))\n",
    "print(type(11 / 2))\n",
    "print(type(2 * 5 > 9))"
   ]
  },
  {
   "cell_type": "markdown",
   "metadata": {},
   "source": [
    "Because all expressions have a type, they can be assigned to variables:"
   ]
  },
  {
   "cell_type": "code",
   "execution_count": 7,
   "metadata": {},
   "outputs": [],
   "source": [
    "# the variable x is assigned the value of the expression 1 + 2\n",
    "x = 1 + 2"
   ]
  },
  {
   "cell_type": "markdown",
   "metadata": {},
   "source": [
    "Simple expressions can be assembled together to form more complicated expressions, for example with arithmetic operations:"
   ]
  },
  {
   "cell_type": "code",
   "execution_count": 8,
   "metadata": {},
   "outputs": [],
   "source": [
    "# the variable y is assigned the value of the expression '3 times x plus x squared'\n",
    "y = 3 * x + x**2"
   ]
  },
  {
   "cell_type": "markdown",
   "metadata": {},
   "source": [
    "## Function\n",
    "A function executes some functionality. Functions can also take one or more arguments, which are data that can be fed to and processed by the function. Arguments are sometimes also referred to as parameters. There is a technical distinction between an argument and a parameter, but the words are often used interchangeably. For now it should suffice to remember that both terms refer to the idea of some data passed to the function.\n",
    "\n",
    "A function is executed when it is called. That is, when the function (and its arguments, if any) is mentioned in the code. The following statement calls the print function with the argument \"this is an argument\":"
   ]
  },
  {
   "cell_type": "code",
   "execution_count": 9,
   "metadata": {},
   "outputs": [
    {
     "name": "stdout",
     "output_type": "stream",
     "text": [
      "this is an argument\n"
     ]
    }
   ],
   "source": [
    "print(\"this is an argument\")"
   ]
  },
  {
   "cell_type": "markdown",
   "metadata": {},
   "source": [
    "Another function you've already used often is the input function, which asks the user for input. The argument of this function is the message that is shown to the user:"
   ]
  },
  {
   "cell_type": "code",
   "execution_count": 10,
   "metadata": {},
   "outputs": [],
   "source": [
    "name = input(\"Please type in your name: \")"
   ]
  },
  {
   "cell_type": "markdown",
   "metadata": {},
   "source": [
    "In this case the function also returns a value. After the function has been executed, the section of code where it was called is replaced by the value it returns; it is another expression that has now been evaluated. The function input returns a string value containing whatever the user typed in at the prompt. The value a function returns is often stored in a variable so that it can be used in the program later on."
   ]
  },
  {
   "cell_type": "markdown",
   "metadata": {},
   "source": [
    "## Data type\n",
    "Data type refers to the characteristics of any value present in the program. In the following bit of code the data type of the variable name is string or str, and the data type of the variable result is integer or int:"
   ]
  },
  {
   "cell_type": "code",
   "execution_count": 11,
   "metadata": {},
   "outputs": [],
   "source": [
    "name = \"Anna\"\n",
    "result = 100"
   ]
  },
  {
   "cell_type": "markdown",
   "metadata": {},
   "source": [
    "You can use the function type to find out the data type of any expression. An example of its use:"
   ]
  },
  {
   "cell_type": "code",
   "execution_count": 12,
   "metadata": {},
   "outputs": [
    {
     "name": "stdout",
     "output_type": "stream",
     "text": [
      "<class 'str'>\n",
      "<class 'int'>\n"
     ]
    }
   ],
   "source": [
    "print(type(\"Anna\"))\n",
    "print(type(100))"
   ]
  },
  {
   "cell_type": "markdown",
   "metadata": {},
   "source": [
    "## Syntax\n",
    "Similarly to natural languages, the syntax of a programming language determines how the code of a program should be written. Each programming language has its own specific syntax.\n",
    "\n",
    "The syntax of Python specifies, among other things, that the first line of an if statement should end in a colon character, and the block of the statement should be indented:"
   ]
  },
  {
   "cell_type": "code",
   "execution_count": 13,
   "metadata": {},
   "outputs": [
    {
     "name": "stdout",
     "output_type": "stream",
     "text": [
      "Hi!\n"
     ]
    }
   ],
   "source": [
    "if name == \"Anna\":\n",
    "    print(\"Hi!\")"
   ]
  },
  {
   "cell_type": "markdown",
   "metadata": {},
   "source": [
    "If the syntactic rules of the programming language are not followed, there will be an error:"
   ]
  },
  {
   "cell_type": "code",
   "execution_count": 14,
   "metadata": {},
   "outputs": [
    {
     "ename": "SyntaxError",
     "evalue": "expected ':' (542521588.py, line 1)",
     "output_type": "error",
     "traceback": [
      "\u001b[1;36m  Cell \u001b[1;32mIn[14], line 1\u001b[1;36m\u001b[0m\n\u001b[1;33m    if name == \"Anna\"\u001b[0m\n\u001b[1;37m                     ^\u001b[0m\n\u001b[1;31mSyntaxError\u001b[0m\u001b[1;31m:\u001b[0m expected ':'\n"
     ]
    }
   ],
   "source": [
    "if name == \"Anna\"\n",
    "    print(\"Hi!\")"
   ]
  },
  {
   "cell_type": "markdown",
   "metadata": {},
   "source": [
    "## Debugging\n",
    "If the syntax of the program is correct but the program still doesn't function as intended, there is a bug in the program.\n",
    "\n",
    "Bugs manifest in different ways. Some bugs cause an error during execution. For example, the following program"
   ]
  },
  {
   "cell_type": "code",
   "execution_count": 15,
   "metadata": {},
   "outputs": [
    {
     "ename": "ZeroDivisionError",
     "evalue": "division by zero",
     "output_type": "error",
     "traceback": [
      "\u001b[1;31m---------------------------------------------------------------------------\u001b[0m",
      "\u001b[1;31mZeroDivisionError\u001b[0m                         Traceback (most recent call last)",
      "Cell \u001b[1;32mIn[15], line 3\u001b[0m\n\u001b[0;32m      1\u001b[0m x \u001b[38;5;241m=\u001b[39m \u001b[38;5;241m10\u001b[39m\n\u001b[0;32m      2\u001b[0m y \u001b[38;5;241m=\u001b[39m \u001b[38;5;241m0\u001b[39m\n\u001b[1;32m----> 3\u001b[0m result \u001b[38;5;241m=\u001b[39m \u001b[43mx\u001b[49m\u001b[43m \u001b[49m\u001b[38;5;241;43m/\u001b[39;49m\u001b[43m \u001b[49m\u001b[43my\u001b[49m\n\u001b[0;32m      5\u001b[0m \u001b[38;5;28mprint\u001b[39m(\u001b[38;5;124mf\u001b[39m\u001b[38;5;124m\"\u001b[39m\u001b[38;5;132;01m{\u001b[39;00mx\u001b[38;5;132;01m}\u001b[39;00m\u001b[38;5;124m divided by \u001b[39m\u001b[38;5;132;01m{\u001b[39;00my\u001b[38;5;132;01m}\u001b[39;00m\u001b[38;5;124m is \u001b[39m\u001b[38;5;132;01m{\u001b[39;00mresult\u001b[38;5;132;01m}\u001b[39;00m\u001b[38;5;124m\"\u001b[39m)\n",
      "\u001b[1;31mZeroDivisionError\u001b[0m: division by zero"
     ]
    }
   ],
   "source": [
    "x = 10\n",
    "y = 0\n",
    "result = x / y\n",
    "\n",
    "print(f\"{x} divided by {y} is {result}\")"
   ]
  },
  {
   "cell_type": "markdown",
   "metadata": {},
   "source": [
    "The problem here is mathematical in nature: division by zero is not allowed, and this halts the execution of the program.\n",
    "\n",
    "Errors during execution are usually rather easy to fix, because the error message states the line of code causing the error. Of course the actual reason for the bug might be somewhere quite different than the line of code causing the error.\n",
    "\n",
    "Sometimes a bug in the program is revealed because the result the code produces is wrong. Discovering and locating this type of bug can be challenging. In the programming exercises on this course the tests are usually intended to reveal bugs of this type. Before a bug can be fixed, its cause must first be located.\n",
    "\n",
    "Programming jargon refers to discovering the causes of bugs as debugging. It is an extremely important skill in any programmer's toolbox. Professional programmers often spend more time debugging than writing fresh code.\n",
    "\n",
    "A simple yet effective way of debugging a program is adding debugging print statements to your code. Verifying the results of your code with print commands gives a quick confirmation the code does what you want it to do.\n",
    "\n",
    "The following is an attempt to solve one of the exercises from the previous section:"
   ]
  },
  {
   "cell_type": "code",
   "execution_count": 17,
   "metadata": {},
   "outputs": [
    {
     "name": "stdout",
     "output_type": "stream",
     "text": [
      "Daily wages: 120.0 euros\n"
     ]
    }
   ],
   "source": [
    "hourly_wage = float(input(\"Hourly wage: \"))\n",
    "hours = int(input(\"Hours worked: \"))\n",
    "day = input(\"Day of the week: \")\n",
    "\n",
    "daily_wages = hourly_wage * hours\n",
    "if day == \"sunday\":\n",
    "    daily_wages * 2\n",
    "\n",
    "print(f\"Daily wages: {daily_wages} euros\")"
   ]
  },
  {
   "cell_type": "markdown",
   "metadata": {},
   "source": [
    "The program doesn't work quite right. Executing the tests prints out the following:\n",
    "\n",
    "With input 20.0,6,Sunday correct wage 240.0 is not found in output Daily wages: 120.0 euros\n",
    "\n",
    "When debugging the exercises on this course, the first step is often checking how the program behaves with the input specified in the test that failed. Indeed the result isn't what was expected:\n",
    "\n",
    "`Daily wages: 120.0 euros`\n",
    "\n",
    "Debugging usually means running the program multiple times. It can come in handy to temporarily \"hard-code\" the problematic input, instead of asking the user for input each time. In this case hard-coding could look like this:"
   ]
  },
  {
   "cell_type": "code",
   "execution_count": 18,
   "metadata": {},
   "outputs": [
    {
     "name": "stdout",
     "output_type": "stream",
     "text": [
      "Daily wages: 120.0 euros\n"
     ]
    }
   ],
   "source": [
    "# hourly_wage = float(input(\"Hourly wage: \"))\n",
    "# hours = int(input(\"Hours worked: \"))\n",
    "# day = input(\"Day of the week: \")\n",
    "hourly_wage = 20.0\n",
    "hours = 6\n",
    "day = \"Sunday\"\n",
    "\n",
    "daily_wages = hourly_wage * hours\n",
    "if day == \"sunday\":\n",
    "    daily_wages * 2\n",
    "\n",
    "print(f\"Daily wages: {daily_wages} euros\")"
   ]
  },
  {
   "cell_type": "markdown",
   "metadata": {},
   "source": [
    "The next step could be adding debugging print statements. The problematic part of the code is in the section dealing with Sundays, so let's add print commands before and after the line that should double the daily wages on Sundays:"
   ]
  },
  {
   "cell_type": "code",
   "execution_count": 21,
   "metadata": {},
   "outputs": [
    {
     "name": "stdout",
     "output_type": "stream",
     "text": [
      "Daily wages: 120.0 euros\n"
     ]
    }
   ],
   "source": [
    "daily_wages = hourly_wage * hours\n",
    "if day == \"sunday\":\n",
    "    print(\"wages before:\", daily_wages)\n",
    "    daily_wages * 2\n",
    "    print(\"wages after doubling:\", daily_wages)\n",
    "\n",
    "print(f\"Daily wages: {daily_wages} euros\")"
   ]
  },
  {
   "cell_type": "markdown",
   "metadata": {},
   "source": [
    "Running the code now reveals nothing - the debugging print statements aren't printed at all. It seems that the contents of the if block are never executed, so there must be a problem with the conditional statement. Let's try printing out the value of the Boolean expression:"
   ]
  },
  {
   "cell_type": "code",
   "execution_count": 22,
   "metadata": {},
   "outputs": [
    {
     "name": "stdout",
     "output_type": "stream",
     "text": [
      "condition: False\n",
      "Daily wages: 120.0 euros\n"
     ]
    }
   ],
   "source": [
    "daily_wages = hourly_wage * hours\n",
    "print(\"condition:\", day == \"sunday\")\n",
    "if day == \"sunday\":\n",
    "    print(\"wages before:\", daily_wages)\n",
    "    daily_wages * 2\n",
    "    print(\"wages after doubling:\", daily_wages)\n",
    "\n",
    "print(f\"Daily wages: {daily_wages} euros\")"
   ]
  },
  {
   "cell_type": "markdown",
   "metadata": {},
   "source": [
    "Indeed, the value is False, so the contents of the if block are never executed.\n",
    "\n",
    "The issue must then lie within the condition of the if statement. As in so many situations in programming, the case of letters matters also in comparisons. Notice how the \"sunday\" in the Boolean expression has not been capitalized, but in the input it was. Let's fix this (in both the print command and the if statement):\n"
   ]
  },
  {
   "cell_type": "code",
   "execution_count": 23,
   "metadata": {},
   "outputs": [
    {
     "name": "stdout",
     "output_type": "stream",
     "text": [
      "condition: True\n",
      "wages before: 120.0\n",
      "wages after doubling: 120.0\n",
      "Daily wages: 120.0 euros\n"
     ]
    }
   ],
   "source": [
    "daily_wages = hourly_wage * hours\n",
    "print(\"condition:\", day == \"Sunday\")\n",
    "if day == \"Sunday\":\n",
    "    print(\"wages before:\", daily_wages)\n",
    "    daily_wages * 2\n",
    "    print(\"wages after doubling:\", daily_wages)\n",
    "\n",
    "print(f\"Daily wages: {daily_wages} euros\")"
   ]
  },
  {
   "cell_type": "markdown",
   "metadata": {},
   "source": [
    "It seems the value stored in daily_wages is correct at first: hourly_wage = 20.0 and hours = 6, and 20.0 * 6 = 120.0. The command which is supposed to double the figure doesn't do so, however, so there must be a problem with the command. And indeed the command\n",
    "\n",
    "`daily_wages * 2`\n",
    "\n",
    "does double the value, but it doesn't store the new value anywhere. Let's change it so it also stores the new value:\n",
    "\n",
    "`daily_wages *= 2`"
   ]
  },
  {
   "cell_type": "markdown",
   "metadata": {},
   "source": [
    "This example was quite simple, and in such a short program one could probably figure out the bugs just by reading the code carefully. However, using debugging print statements is often a quick way to get a feeling for where the problem might lie. Print statements can be used to figure out which parts of the program seem to work correctly, so bug tracking efforts can be concentrated on the sections of code which are the most likely culprits.\n",
    "\n",
    "Debugging print statements are only one tool for debugging programs. We will come back to this subject later on during this course. You should now get into the habit of using debugging print statements to look for mistakes in your code. Programming professionals cannot get by without using them, so it is a very useful tool for beginners as well."
   ]
  },
  {
   "cell_type": "markdown",
   "metadata": {},
   "source": [
    "<hr/>\n",
    "<div class=\"alert alert-danger alertsuccess\" style=\"margin-top: 20px\">\n",
    "<b><h3>Programming exercise:</h3></b>\n",
    "<p>\n",
    "<b>Fix the syntax<br></b>\n",
    "The following program contains several syntactic errors. Please fix the program so that the syntax is in order and the program works as specified by the examples below.<br>\n",
    "<code>\n",
    "number = input(\"Please type in a number: \")<br>\n",
    "  if number>100<br>\n",
    "    print(\"The number was greater than one hundred\")<br>\n",
    "    number - 100<br>\n",
    "    print(\"Now its value has decreased by one hundred)<br>\n",
    "     print(\"Its value is now\"+ number)<br>\n",
    " print(number + \" must be my lucky number!\")<br>\n",
    " print(\"Have a nice day!)\n",
    "</code><br>\n",
    "\n",
    "<code>\n",
    "Please type in a number: 13<br>\n",
    "13 must be my lucky number!<br>\n",
    "Have a nice day!<br><br>\n",
    "Please type in a number: 101<br>\n",
    "The number was greater than one hundred<br>\n",
    "Now its value has decreased by one hundred<br>\n",
    "Its value is now 1<br>\n",
    "1 must be my lucky number!<br>\n",
    "Have a nice day!\n",
    "</code><br>\n",
    "</p>\n",
    "</div>\n",
    "<hr/>"
   ]
  },
  {
   "cell_type": "code",
   "execution_count": 30,
   "metadata": {},
   "outputs": [
    {
     "name": "stdout",
     "output_type": "stream",
     "text": [
      "The number was greater than one hundred\n",
      "Now its value has decreased by one hundred\n",
      "Its value is now 1\n",
      "1 must be my lucky number!\n",
      "Have a nice day!\n"
     ]
    }
   ],
   "source": [
    "# Fix the program\n",
    "number = int(input(\"Please type in a number: \"))\n",
    "if number>100:\n",
    "    print(\"The number was greater than one hundred\")\n",
    "    number -= 100\n",
    "    print(\"Now its value has decreased by one hundred\")\n",
    "    print(f\"Its value is now {number}\")\n",
    "    \n",
    "print(f\"{number} must be my lucky number!\")\n",
    "print(\"Have a nice day!\")"
   ]
  },
  {
   "cell_type": "markdown",
   "metadata": {},
   "source": [
    "<hr/>\n",
    "<div class=\"alert alert-danger alertsuccess\" style=\"margin-top: 20px\">\n",
    "<b><h3>Programming exercise:</h3></b>\n",
    "<p>\n",
    "<b>Number of characters<br></b>\n",
    "The function len can be used to find out the length of a string, among other things. The function returns the number of characters in a string.\n",
    "\n",
    "Some examples of how this works:<br>\n",
    "<code>\n",
    "word = \"abcd\"<br>\n",
    "print(len(word))<br><br>\n",
    "print(len(\"hi there\"))<br><br>\n",
    "word2 = \"howdydoody\"<br>\n",
    "length = len(word2)<br>\n",
    "print(length)<br><br>\n",
    "empty_string = \"\"<br>\n",
    "length = len(empty_string)<br>\n",
    "print(length)<br>\n",
    "</code><br>\n",
    "4<br>\n",
    "8<br>\n",
    "10<br>\n",
    "0<br>\n",
    "\n",
    "Please write a program which asks the user for a word and then prints out the number of characters, if there was more than one typed in.\n",
    "\n",
    "Examples of expected behaviour:<br>\n",
    "\n",
    "\n",
    "<code>\n",
    "Please type in a word: hey<br>\n",
    "There are 3 letters in the word hey<br>\n",
    "Thank you!<br><br>\n",
    "Please type in a word: banana<br>\n",
    "There are 6 letters in the word banana<br>\n",
    "Thank you!<br><br>\n",
    "Please type in a word: b<br>\n",
    "Thank you!\n",
    "</code><br>\n",
    "</p>\n",
    "</div>\n",
    "<hr/>"
   ]
  },
  {
   "cell_type": "code",
   "execution_count": 34,
   "metadata": {},
   "outputs": [
    {
     "name": "stdout",
     "output_type": "stream",
     "text": [
      "There are 3 letters in the word hey\n",
      "Thank you!\n"
     ]
    }
   ],
   "source": [
    "word = input(\"Please type in a word: \")\n",
    " \n",
    "length = len(word)\n",
    "if length > 1:\n",
    "    print(\"There are\", length, \"letters in the word \" + word)\n",
    " \n",
    "print(\"Thank you!\")"
   ]
  },
  {
   "cell_type": "code",
   "execution_count": 33,
   "metadata": {},
   "outputs": [
    {
     "name": "stdout",
     "output_type": "stream",
     "text": [
      "There are 6 letters in the word banana\n",
      "Thank you!\n"
     ]
    }
   ],
   "source": [
    "word = input(\"Please type in a word: \")\n",
    " \n",
    "length = len(word)\n",
    "if length > 1:\n",
    "    print(\"There are\", length, \"letters in the word \" + word)\n",
    " \n",
    "print(\"Thank you!\")"
   ]
  },
  {
   "cell_type": "code",
   "execution_count": null,
   "metadata": {},
   "outputs": [],
   "source": []
  }
 ],
 "metadata": {
  "kernelspec": {
   "display_name": "Python 3",
   "language": "python",
   "name": "python3"
  },
  "language_info": {
   "codemirror_mode": {
    "name": "ipython",
    "version": 3
   },
   "file_extension": ".py",
   "mimetype": "text/x-python",
   "name": "python",
   "nbconvert_exporter": "python",
   "pygments_lexer": "ipython3",
   "version": "3.12.3"
  }
 },
 "nbformat": 4,
 "nbformat_minor": 2
}
