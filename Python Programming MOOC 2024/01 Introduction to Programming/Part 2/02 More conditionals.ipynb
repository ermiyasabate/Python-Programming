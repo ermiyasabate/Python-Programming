{
 "cells": [
  {
   "cell_type": "markdown",
   "metadata": {},
   "source": [
    "# More conditionals\n",
    "\n",
    "Let's have a look at a program which asks the user to input a number, and then prints out different messages based on whether the number is negative, positive, or equal to zero:"
   ]
  },
  {
   "cell_type": "code",
   "execution_count": 1,
   "metadata": {},
   "outputs": [
    {
     "name": "stdout",
     "output_type": "stream",
     "text": [
      "The number is positive or zero\n"
     ]
    }
   ],
   "source": [
    "number = int(input(\"Please type in a number: \"))\n",
    "\n",
    "if number < 0:\n",
    "    print(\"The number is negative\")\n",
    "\n",
    "if number >= 0:\n",
    "    print(\"The number is positive or zero\")"
   ]
  },
  {
   "cell_type": "markdown",
   "metadata": {},
   "source": [
    "This looks a bit clumsy and repetitive. We only ever want to execute one of the if blocks, because the input will always be either below zero, or zero or above. That is, either number < 0 or number >= 0 is true, but never both at the same time. So, the first conditional statement actually contains all we need here. If it is true, the number is negative. If it is false, the number equals zero or is positive."
   ]
  },
  {
   "cell_type": "markdown",
   "metadata": {},
   "source": [
    "Instead of creating a whole another conditional statement, as in the example above, it is possible to create another branch of the same conditional statement to cover all cases where the condition was false. This is called the else statement.\n",
    "\n",
    "The previous example rewritten:"
   ]
  },
  {
   "cell_type": "code",
   "execution_count": 1,
   "metadata": {},
   "outputs": [
    {
     "name": "stdout",
     "output_type": "stream",
     "text": [
      "The number is positive or zero\n"
     ]
    }
   ],
   "source": [
    "number = int(input(\"Please type in a number: \"))\n",
    "\n",
    "if number < 0:\n",
    "    print(\"The number is negative\")\n",
    "else:\n",
    "    print(\"The number is positive or zero\")"
   ]
  },
  {
   "cell_type": "markdown",
   "metadata": {},
   "source": [
    "When using an if-else construction, one and exactly one of the branches will always be executed. The following picture illustrates the structure:\n",
    "\n",
    "![\"If else\"](https://programming-24.mooc.fi/static/c5e369c48eb7d985dab911b91e99c09e/b52d2/2_2_1.webp)"
   ]
  },
  {
   "cell_type": "markdown",
   "metadata": {},
   "source": [
    "NB: there can never be an else branch without an if branch before it. The if-else construction as a whole forms a single conditional statement."
   ]
  },
  {
   "cell_type": "markdown",
   "metadata": {},
   "source": [
    "The following example checks whether a number given by the user is even or not. Parity can be checked with the modulo operator %, which produces the remainder of an integer division operation. When divided by two, if the remainder is zero, the number is even. Otherwise the number is odd."
   ]
  },
  {
   "cell_type": "code",
   "execution_count": 9,
   "metadata": {},
   "outputs": [
    {
     "name": "stdout",
     "output_type": "stream",
     "text": [
      "The number is odd\n"
     ]
    }
   ],
   "source": [
    "number = int(input(\"Please type in a number: \"))\n",
    "\n",
    "if number % 2 == 0:\n",
    "    print(\"The number is even\")\n",
    "else:\n",
    "    print(\"The number is odd\")"
   ]
  },
  {
   "cell_type": "markdown",
   "metadata": {},
   "source": [
    "Another example with string comparison:"
   ]
  },
  {
   "cell_type": "code",
   "execution_count": 10,
   "metadata": {},
   "outputs": [
    {
     "name": "stdout",
     "output_type": "stream",
     "text": [
      "Welcome\n"
     ]
    }
   ],
   "source": [
    "correct = \"kittycat\"\n",
    "password = input(\"Please type in the password: \")\n",
    "\n",
    "if password == correct:\n",
    "    print(\"Welcome\")\n",
    "else:\n",
    "    print(\"No admittance\")"
   ]
  },
  {
   "cell_type": "markdown",
   "metadata": {},
   "source": [
    "<hr/>\n",
    "<div class=\"alert alert-danger alertsuccess\" style=\"margin-top: 20px\">\n",
    "<b><h3>Programming exercise:</h3></b>\n",
    "<p>\n",
    "<b>Age of maturity<br></b>\n",
    "Please write a program which asks the user for their age. The program should then print out a message based on whether the user is of age or not, using 18 as the age of maturity.\n",
    "\n",
    "Some examples of expected behaviour:<br>\n",
    "<code>How old are you? 12<br>\n",
    "You are not of age!<br><br>\n",
    "How old are you? 32<br>\n",
    "You are of age!</code><br>\n",
    "</p>\n",
    "</div>\n",
    "<hr/>"
   ]
  },
  {
   "cell_type": "code",
   "execution_count": 11,
   "metadata": {},
   "outputs": [
    {
     "name": "stdout",
     "output_type": "stream",
     "text": [
      "You are not of age!\n"
     ]
    }
   ],
   "source": [
    "age = int(input(\"How old are you?\"))\n",
    "\n",
    "if age >= 18:\n",
    "    print(\"You are of age!\")\n",
    "else:\n",
    "    print(\"You are not of age!\")"
   ]
  },
  {
   "cell_type": "markdown",
   "metadata": {},
   "source": [
    "## Alternative branches using the elif statement\n",
    "Often there are more than two options the program should account for. For example, the result of a football match could go three ways: home wins, away wins, or there is a tie.\n",
    "\n",
    "A conditional statement can be added to with an elif branch. It is short for the words \"else if\", which means the branch will contain an alternative to the original condition. Importantly, an elif statement is executed only if none of the preceding branches is executed.\n",
    "\n",
    "![](https://programming-24.mooc.fi/static/62ebffc483e387b1f45eac73a9e0d285/7c056/2_2_2.webp \"If elif\")"
   ]
  },
  {
   "cell_type": "markdown",
   "metadata": {},
   "source": [
    "Let's have a look at a program which determines the winner of a match:"
   ]
  },
  {
   "cell_type": "code",
   "execution_count": 12,
   "metadata": {},
   "outputs": [
    {
     "name": "stdout",
     "output_type": "stream",
     "text": [
      "The home team won!\n"
     ]
    }
   ],
   "source": [
    "goals_home = int(input(\"Home goals scored: \"))\n",
    "goals_away = int(input(\"Away goals scored: \"))\n",
    "\n",
    "if goals_home > goals_away:\n",
    "    print(\"The home team won!\")\n",
    "elif goals_away > goals_home:\n",
    "    print(\"The away team won!\")\n",
    "else:\n",
    "    print(\"It's a tie!\")"
   ]
  },
  {
   "cell_type": "markdown",
   "metadata": {},
   "source": [
    "In the above example there are three alternative branches, exactly one of which will always be executed. However, there is no limit to the number of elif branches a conditional statement can contain, and the else branch is not mandatory.\n",
    "\n",
    "This is also a valid conditional statement:"
   ]
  },
  {
   "cell_type": "code",
   "execution_count": 13,
   "metadata": {},
   "outputs": [
    {
     "name": "stdout",
     "output_type": "stream",
     "text": [
      "Holiday calendar\n",
      "It's Hogmanay\n",
      "Thanks and bye.\n"
     ]
    }
   ],
   "source": [
    "print(\"Holiday calendar\")\n",
    "date = input(\"What is the date today? \")\n",
    "\n",
    "if date == \"Dec 26\":\n",
    "    print(\"It's Boxing Day\")\n",
    "elif date == \"Dec 31\":\n",
    "    print(\"It's Hogmanay\")\n",
    "elif date == \"Jan 1\":\n",
    "    print(\"It's New Year's Day\")\n",
    "\n",
    "print(\"Thanks and bye.\")"
   ]
  },
  {
   "cell_type": "markdown",
   "metadata": {},
   "source": [
    "<hr/>\n",
    "<div class=\"alert alert-danger alertsuccess\" style=\"margin-top: 20px\">\n",
    "<b><h3>Programming exercise:</h3></b>\n",
    "<p>\n",
    "<b>Greater than or equal to</b><br>\n",
    "Please write a program which asks for two integer numbers. The program should then print out whichever is greater. If the numbers are equal, the program should print a different message.\n",
    "\n",
    "Some examples of expected behaviour:<br>\n",
    "<code>Please type in the first number: 5<br>\n",
    "Please type in another number: 3<br>\n",
    "The greater number was: 5<br><br>\n",
    "Please type in the first number: 5<br>\n",
    "Please type in another number: 8<br>\n",
    "The greater number was: 8<br><br>\n",
    "Please type in the first number: 5<br>\n",
    "Please type in another number: 5<br>\n",
    "The numbers are equal!</code><br>\n",
    "</p>\n",
    "</div>\n",
    "<hr/>"
   ]
  },
  {
   "cell_type": "code",
   "execution_count": null,
   "metadata": {},
   "outputs": [],
   "source": []
  }
 ],
 "metadata": {
  "kernelspec": {
   "display_name": "Python 3",
   "language": "python",
   "name": "python3"
  },
  "language_info": {
   "codemirror_mode": {
    "name": "ipython",
    "version": 3
   },
   "file_extension": ".py",
   "mimetype": "text/x-python",
   "name": "python",
   "nbconvert_exporter": "python",
   "pygments_lexer": "ipython3",
   "version": "3.12.3"
  }
 },
 "nbformat": 4,
 "nbformat_minor": 2
}
