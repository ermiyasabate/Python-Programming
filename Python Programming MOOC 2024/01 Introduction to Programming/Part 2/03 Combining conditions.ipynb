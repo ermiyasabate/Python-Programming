{
 "cells": [
  {
   "cell_type": "markdown",
   "metadata": {},
   "source": [
    "# Combining conditions\n",
    "## Logical operators\n",
    "You can combine conditions with the logical operators and and or. The operator and specifies that all the given conditions must be true at the same time. The operator or specifies that at least one of the given conditions must be true.\n",
    "\n",
    "For example, the condition number >= 5 and number <= 8 determines that number must simultaneously be at least 5 and at most 8. That is, it must be between 5 and 8."
   ]
  },
  {
   "cell_type": "code",
   "execution_count": 2,
   "metadata": {},
   "outputs": [
    {
     "name": "stdout",
     "output_type": "stream",
     "text": [
      "The number is between 5 and 8\n"
     ]
    }
   ],
   "source": [
    "number = int(input(\"Please type in a number: \"))\n",
    "\n",
    "if number >= 5 and number <= 8:\n",
    "    print(\"The number is between 5 and 8\")"
   ]
  },
  {
   "cell_type": "markdown",
   "metadata": {},
   "source": [
    "Meanwhile, the condition number < 5 or number > 8 determines that number must be either less than 5 or greater than 8. That is, it must not be within the range of 5 to 8."
   ]
  },
  {
   "cell_type": "code",
   "execution_count": 4,
   "metadata": {},
   "outputs": [
    {
     "name": "stdout",
     "output_type": "stream",
     "text": [
      "The number is not within the range of 5 to 8\n"
     ]
    }
   ],
   "source": [
    "number = int(input(\"Please type in a number: \"))\n",
    "if number < 5 or number > 8:\n",
    "    print(\"The number is not within the range of 5 to 8\")"
   ]
  },
  {
   "cell_type": "markdown",
   "metadata": {},
   "source": [
    "The following truth table contains the behaviour of these operators in different situations:\n",
    "\n",
    "|     a     |     b     |  a AND b  |   a OR b  |\n",
    "| --------- | --------- | --------- | --------- |\n",
    "|    True   |    True   |    True   |    True   |\n",
    "|    True   |   False   |   False   |    True   |\n",
    "|   False   |    True   |   False   |    True   |\n",
    "|   False   |   False   |   False   |   False   |\n",
    "\n",
    "Sometimes it is necessary to know if something is not true. The operator not negates a condition:\n",
    "\n",
    "|     a     |   NOT a  |\n",
    "| --------- | --------- |\n",
    "|    True   |   False   |\n",
    "|   False   |    True   |\n",
    "\n",
    "The above example with the range of 5 to 8 excluded could also be programmed like this:"
   ]
  },
  {
   "cell_type": "code",
   "execution_count": 5,
   "metadata": {},
   "outputs": [
    {
     "name": "stdout",
     "output_type": "stream",
     "text": [
      "The number is not within the range of 5 to 8\n"
     ]
    }
   ],
   "source": [
    "number = int(input(\"Please type in a number: \"))\n",
    "if not (number >= 5 and number <= 8):\n",
    "    print(\"The number is not within the range of 5 to 8\")"
   ]
  },
  {
   "cell_type": "markdown",
   "metadata": {},
   "source": [
    "Especially in programming, logical operators are often called Boolean operators.\n",
    "\n",
    "### Simplified combined conditions\n",
    "The condition x >= a and x <= b is a very common way of checking whether the number x falls within the range of a to b. An expression with this structure works the same way in most programming languages.\n",
    "\n",
    "Python also allows a simplified notation for combining conditions: a <= x <= b achieves the same result as the longer version using and. This shorter notation might be more familiar from mathematics, but it is not very widely used in Python programming, possibly because very few other programming languages have a similar shorthand."
   ]
  },
  {
   "cell_type": "code",
   "execution_count": 6,
   "metadata": {},
   "outputs": [
    {
     "name": "stdout",
     "output_type": "stream",
     "text": [
      " 6 is the greatest of the numbers.\n"
     ]
    }
   ],
   "source": [
    "n1 = int(input(\"Number 1: \"))\n",
    "n2 = int(input(\"Number 2: \"))\n",
    "n3 = int(input(\"Number 3: \"))\n",
    "n4 = int(input(\"Number 4: \"))\n",
    "\n",
    "if n1 > n2 and n1 > n3 and n1 > n4:\n",
    "    greatest = n1\n",
    "elif n2 > n3 and n2 > n4:\n",
    "    greatest = n2\n",
    "elif n3 > n4:\n",
    "    greatest = n3\n",
    "else:\n",
    "    greatest = n4\n",
    "\n",
    "print(f\" {greatest} is the greatest of the numbers.\")"
   ]
  },
  {
   "cell_type": "markdown",
   "metadata": {},
   "source": [
    "<hr/>\n",
    "<div class=\"alert alert-danger alertsuccess\" style=\"margin-top: 20px\">\n",
    "<b><h3>Programming exercise:</h3></b>\n",
    "<p>\n",
    "<b>Age check</b><br>\n",
    "Please write a program which asks for the user's age. If the age is not plausible, that is, it is under 5 or something that can't be an actual human age, the program should print out a comment.\n",
    "\n",
    "Have a look at the examples of expected behaviour below to figure out which comment is applicable in each case.<br>\n",
    "<code>What is your age? 13<br>\n",
    "Ok, you're 13 years old<br><br>\n",
    "What is your age? 2<br>\n",
    "I suspect you can't write quite yet...<br><br>\n",
    "What is your age? -4<br>\n",
    "That must be a mistake</code><br>\n",
    "</p>\n",
    "</div>\n",
    "<hr/>"
   ]
  },
  {
   "cell_type": "code",
   "execution_count": 10,
   "metadata": {},
   "outputs": [
    {
     "name": "stdout",
     "output_type": "stream",
     "text": [
      "Ok, you're 13 years old\n"
     ]
    }
   ],
   "source": [
    "age = int(input(\"What is your age? \"))\n",
    "\n",
    "if age < 0:\n",
    "    print(\"That must be a mistake\")\n",
    "elif age < 5:\n",
    "    print(\"I suspect you can't write quite yet...\")\n",
    "else:\n",
    "    print(f\"Ok, you're {age} years old\")"
   ]
  },
  {
   "cell_type": "markdown",
   "metadata": {},
   "source": [
    "<hr/>\n",
    "<div class=\"alert alert-danger alertsuccess\" style=\"margin-top: 20px\">\n",
    "<b><h3>Programming exercise:</h3></b>\n",
    "<p>\n",
    "<b>Nephews</b><br>\n",
    "Please write a program which asks for the user's name. If the name is Huey, Dewey or Louie, the program should recognise the user as one of Donald Duck's nephews.\n",
    "\n",
    "In a similar fashion, if the name is Morty or Ferdie, the program should recognise the user as one of Mickey Mouse's nephews.\n",
    "\n",
    "Some examples:<br>\n",
    "<code>Please type in your name: Morty<br>\n",
    "I think you might be one of Mickey Mouse's nephews.<br><br>\n",
    "Please type in your name: Huey<br>\n",
    "I think you might be one of Donald Duck's nephews.<br><br>\n",
    "Please type in your name: Ken<br>\n",
    "You're not a nephew of any character I know of.</code><br>\n",
    "</p>\n",
    "</div>\n",
    "<hr/>"
   ]
  },
  {
   "cell_type": "code",
   "execution_count": 19,
   "metadata": {},
   "outputs": [
    {
     "name": "stdout",
     "output_type": "stream",
     "text": [
      "I think you might be one of Mickey Mouse's nephews.\n"
     ]
    }
   ],
   "source": [
    "name = input(\"Please type in your name: \")\n",
    "\n",
    "if name == \"Huey\" or name == \"Dewey\" or name == \"Louie\":\n",
    "    print(\"I think you might be one of Donald Duck's nephews.\")\n",
    "elif name == \"Morty\" or name == \"Ferdie\":\n",
    "    print(\"I think you might be one of Mickey Mouse's nephews.\")\n",
    "else:\n",
    "    print(\"You're not a nephew of any character I know of.\")"
   ]
  },
  {
   "cell_type": "code",
   "execution_count": 23,
   "metadata": {},
   "outputs": [
    {
     "name": "stdout",
     "output_type": "stream",
     "text": [
      "You're not a nephew of any character I know of.\n"
     ]
    }
   ],
   "source": [
    "name = input(\"Please type in your name: \")\n",
    "\n",
    "if name == \"Huey\" or name == \"Dewey\" or name == \"Louie\":\n",
    "    print(\"I think you might be one of Donald Duck's nephews.\")\n",
    "elif name == \"Morty\" or name == \"Ferdie\":\n",
    "    print(\"I think you might be one of Mickey Mouse's nephews.\")\n",
    "else:\n",
    "    print(\"You're not a nephew of any character I know of.\")"
   ]
  },
  {
   "cell_type": "markdown",
   "metadata": {},
   "source": [
    "<hr/>\n",
    "<div class=\"alert alert-danger alertsuccess\" style=\"margin-top: 20px\">\n",
    "<b><h3>Programming exercise:</h3></b>\n",
    "<p>\n",
    "<b>Grades and points</b><br>\n",
    "The table below outlines the grade boundaries on a certain university course. Please write a program which asks for the amount of points received and then prints out the grade attained according to the table.<br>\n",
    "<table>\n",
    "<tr><th>points</th><th>grade</th></tr>\n",
    "<tr><td>< 0</td><td>impossible!</td></tr>\n",
    "<tr><td>0-49</td><td>fail</td></tr>\n",
    "<tr><td>50-59</td><td>1</td></tr>\n",
    "<tr><td>60-69</td><td>2</td></tr>\n",
    "<tr><td>70-79</td><td>3</td></tr>\n",
    "<tr><td>80-89</td><td>4</td></tr>\n",
    "<tr><td>90-100</td><td>5</td></tr>\n",
    "<tr><td>> 100</td><td>impossible!</td></tr>\n",
    "</table>\n",
    "\n",
    "Some examples:\n",
    "\n",
    "<code>\n",
    "How many points [0-100]: 37<br>\n",
    "Grade: fail<br><br>\n",
    "How many points [0-100]: 76<br>\n",
    "Grade: 3<br><br>\n",
    "How many points [0-100]: -3<br>\n",
    "Grade: impossible!</code><br>\n",
    "</p>\n",
    "</div>\n",
    "<hr/>\n"
   ]
  },
  {
   "cell_type": "code",
   "execution_count": 26,
   "metadata": {},
   "outputs": [
    {
     "name": "stdout",
     "output_type": "stream",
     "text": [
      "Grade: impossible!\n"
     ]
    }
   ],
   "source": [
    "points = float(input(\"How many points [0-100]: \"))\n",
    "\n",
    "if points < 0 or points > 100:\n",
    "    grade = \"impossible!\"\n",
    "elif 0 <= points <= 49:\n",
    "    grade = \"fail\"\n",
    "elif 50 <= points <= 59:\n",
    "    grade = \"1\"\n",
    "elif 60 <= points <= 69:\n",
    "    grade = \"2\"\n",
    "elif 70 <= points <= 79:\n",
    "    grade = \"3\"\n",
    "elif 80 <= points <= 89:\n",
    "    grade = \"4\"\n",
    "elif 90 <= points <= 100:\n",
    "    grade = \"5\"\n",
    "    \n",
    "print(f\"Grade: {grade}\")"
   ]
  },
  {
   "cell_type": "markdown",
   "metadata": {},
   "source": [
    "OR"
   ]
  },
  {
   "cell_type": "code",
   "execution_count": 27,
   "metadata": {},
   "outputs": [
    {
     "name": "stdout",
     "output_type": "stream",
     "text": [
      "Grade: 5\n"
     ]
    }
   ],
   "source": [
    "points = int(input(\"How many points [0-100]: \"))\n",
    " \n",
    "if points < 0 or points > 100:\n",
    "    grade = \"impossible!\"\n",
    "elif points < 50:\n",
    "    grade = \"fail\"\n",
    "elif points < 60:\n",
    "    grade = \"1\"\n",
    "elif points < 70:\n",
    "    grade = \"2\"\n",
    "elif points < 80:\n",
    "    grade = \"3\"\n",
    "elif points < 90:\n",
    "    grade = \"4\"\n",
    "else:\n",
    "    grade = \"5\"\n",
    " \n",
    "print(f\"Grade: {grade}\")"
   ]
  },
  {
   "cell_type": "markdown",
   "metadata": {},
   "source": [
    "<hr/>\n",
    "<div class=\"alert alert-danger alertsuccess\" style=\"margin-top: 20px\">\n",
    "<b><h3>Programming exercise:</h3></b>\n",
    "<p>\n",
    "<b>FizzBuzz</b><br>\n",
    "Please write a program which asks the user for an integer number. If the number is divisible by three, the program should print out Fizz. If the number is divisible by five, the program should print out Buzz. If the number is divisible by both three and five, the program should print out FizzBuzz.\n",
    "\n",
    "Some examples of expected behaviour:<br><br>\n",
    "<code>Number: 9<br>\n",
    "Fizz<br><br>\n",
    "Number: 7<br><br>\n",
    "Number: 20<br>\n",
    "Buzz<br><br>\n",
    "Number: 45<br>\n",
    "FizzBuzz</code><br>\n",
    "</p>\n",
    "</div>\n",
    "<hr/>"
   ]
  },
  {
   "cell_type": "code",
   "execution_count": 35,
   "metadata": {},
   "outputs": [
    {
     "name": "stdout",
     "output_type": "stream",
     "text": [
      "FizzBuzz\n"
     ]
    }
   ],
   "source": [
    "number = int(input(\"Number: \"))\n",
    "\n",
    "if number % 3 == 0 and number % 5 == 0:\n",
    "    # This condition must be evaluated first, because if this is true,\n",
    "    # also both of the following conditions are true\n",
    "    print(\"FizzBuzz\")\n",
    "elif number % 3 == 0:\n",
    "    print(\"Fizz\")\n",
    "elif number % 5 == 0:\n",
    "    print(\"Buzz\")\n"
   ]
  },
  {
   "cell_type": "markdown",
   "metadata": {},
   "source": [
    "## Nested conditionals\n",
    "Conditional statements can also be nested within other conditional statements. For example, the following program checks whether a number is above zero, and then whether it is odd or even:"
   ]
  },
  {
   "cell_type": "code",
   "execution_count": 1,
   "metadata": {},
   "outputs": [
    {
     "name": "stdout",
     "output_type": "stream",
     "text": [
      "The number is odd\n"
     ]
    }
   ],
   "source": [
    "number = int(input(\"Please type in a number: \"))\n",
    "\n",
    "if number > 0:\n",
    "    if number % 2 == 0:\n",
    "        print(\"The number is even\")\n",
    "    else:\n",
    "        print(\"The number is odd\")\n",
    "else:\n",
    "    print(\"The number is negative or zero\")"
   ]
  },
  {
   "cell_type": "markdown",
   "metadata": {},
   "source": [
    "With nested conditional statements it is crucial to get the indentations right. Indentations determine which branches are linked together. For example, an if branch and an else branch with the same amount of whitespace are determined to be branches of the same conditional statement.\n",
    "\n",
    "The same result can often be achieved using either nested conditional statements or conditions combined with logical operators. The example below is functionally no different from the example above, in the sense that it will print out the exactly same things with the same inputs:"
   ]
  },
  {
   "cell_type": "code",
   "execution_count": 2,
   "metadata": {},
   "outputs": [
    {
     "name": "stdout",
     "output_type": "stream",
     "text": [
      "The number is even\n"
     ]
    }
   ],
   "source": [
    "number = int(input(\"Please type in a number: \"))\n",
    "\n",
    "if number > 0 and number % 2 == 0:\n",
    "    print(\"The number is even\")\n",
    "elif number > 0 and number % 2 != 0:\n",
    "    print(\"The number is odd\")\n",
    "else:\n",
    "    print(\"The number is negative or zero\")"
   ]
  },
  {
   "cell_type": "markdown",
   "metadata": {},
   "source": [
    "Neither approach is intrinsically better than the other, but in different situations one or the other may seem more logical. In this particular example most people tend to find the first version with nesting to be more intuitive."
   ]
  },
  {
   "cell_type": "markdown",
   "metadata": {},
   "source": [
    "<hr/>\n",
    "<div class=\"alert alert-danger alertsuccess\" style=\"margin-top: 20px\">\n",
    "<b><h3>Programming exercise:</h3></b>\n",
    "<p>\n",
    "<b>Leap year</b><br>\n",
    "Generally, any year that is divisible by four is a leap year. However, if the year is additionally divisible by 100, it is a leap year only if it also divisible by 400.\n",
    "\n",
    "Please write a program which asks the user for a year, and then prints out whether that year is a leap year or not.\n",
    "\n",
    "Some examples:<br><br>\n",
    "<code>Please type in a year: 2011<br>\n",
    "That year is not a leap year.<br><br>\n",
    "Please type in a year: 2020<br>\n",
    "That year is a leap year.<br><br>\n",
    "Please type in a year: 1800<br>\n",
    "That year is not a leap year.</code><br>\n",
    "</p>\n",
    "</div>\n",
    "<hr/>"
   ]
  },
  {
   "cell_type": "code",
   "execution_count": 9,
   "metadata": {},
   "outputs": [
    {
     "name": "stdout",
     "output_type": "stream",
     "text": [
      "That year is not a leap year.\n"
     ]
    }
   ],
   "source": [
    "year = int(input(\"Please type in a year: \"))\n",
    "\n",
    "leap_year = False\n",
    "\n",
    "if year % 4 == 0:\n",
    "    if year % 100 == 0 and year % 400 == 0:\n",
    "        leap_year = True\n",
    "    else:\n",
    "        leap_year = False\n",
    "    leap_year = True\n",
    "else:\n",
    "    leap_year = False\n",
    "    \n",
    "if leap_year == True:\n",
    "    print(\"That year is a leap year.\")\n",
    "else:\n",
    "    print(\"That year is not a leap year.\")\n",
    "    "
   ]
  },
  {
   "cell_type": "markdown",
   "metadata": {},
   "source": [
    "OR"
   ]
  },
  {
   "cell_type": "code",
   "execution_count": 10,
   "metadata": {},
   "outputs": [
    {
     "name": "stdout",
     "output_type": "stream",
     "text": [
      "That year is a leap year.\n"
     ]
    }
   ],
   "source": [
    "year = int(input(\"Please type in a year: \"))\n",
    " \n",
    "# First, we make assumption that a year is not a leap year\n",
    "leap_year = False\n",
    " \n",
    "if year % 100 == 0:\n",
    "    if year % 400 == 0:\n",
    "        leap_year = True\n",
    "elif year % 4 == 0:\n",
    "    leap_year = True\n",
    " \n",
    "if leap_year:\n",
    "    print(\"That year is a leap year.\")\n",
    "else:\n",
    "    print(\"That year is not a leap year.\")"
   ]
  },
  {
   "cell_type": "markdown",
   "metadata": {},
   "source": [
    "<hr/>\n",
    "<div class=\"alert alert-danger alertsuccess\" style=\"margin-top: 20px\">\n",
    "<b><h3>Programming exercise:</h3></b>\n",
    "<p>\n",
    "<b>Alphabetically in the middle</b><br>\n",
    "Please write a program which asks the user for three letters. The program should then print out whichever of the three letters would be in the middle if the letters were in alphabetical order.\n",
    "\n",
    "You may assume the letters will be either all uppercase, or all lowercase.\n",
    "\n",
    "Some examples of expected behaviour:<br><br>\n",
    "<code>1st letter: x<br>\n",
    "2nd letter: c<br>\n",
    "3rd letter: p<br>\n",
    "The letter in the middle is p<br><br>\n",
    "1st letter: C<br>\n",
    "2nd letter: B<br>\n",
    "3rd letter: A<br>\n",
    "The letter in the middle is B</code><br>\n",
    "</p>\n",
    "</div>\n",
    "<hr/>"
   ]
  },
  {
   "cell_type": "code",
   "execution_count": 16,
   "metadata": {},
   "outputs": [
    {
     "name": "stdout",
     "output_type": "stream",
     "text": [
      "The letter in the middle is B\n"
     ]
    }
   ],
   "source": [
    "num1 = input(\"1st letter: \")\n",
    "num2 = input(\"2nd letter: \")\n",
    "num3 = input(\"3rd letter: \")\n",
    "\n",
    "if (num1 < num2 < num3) or (num3 < num2 < num1):\n",
    "    print(f\"The letter in the middle is {num2}\")\n",
    "elif (num2 < num1 < num3) or (num3 < num1 < num2):\n",
    "    print(f\"The letter in the middle is {num1}\")\n",
    "else:\n",
    "    print(f\"The letter in the middle is {num3}\")"
   ]
  },
  {
   "cell_type": "code",
   "execution_count": null,
   "metadata": {},
   "outputs": [],
   "source": []
  }
 ],
 "metadata": {
  "kernelspec": {
   "display_name": "Python 3",
   "language": "python",
   "name": "python3"
  },
  "language_info": {
   "codemirror_mode": {
    "name": "ipython",
    "version": 3
   },
   "file_extension": ".py",
   "mimetype": "text/x-python",
   "name": "python",
   "nbconvert_exporter": "python",
   "pygments_lexer": "ipython3",
   "version": "3.12.3"
  }
 },
 "nbformat": 4,
 "nbformat_minor": 2
}
