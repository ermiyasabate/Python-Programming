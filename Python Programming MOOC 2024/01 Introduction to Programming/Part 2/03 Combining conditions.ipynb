{
 "cells": [
  {
   "cell_type": "markdown",
   "metadata": {},
   "source": [
    "# Combining conditions\n",
    "## Logical operators\n",
    "You can combine conditions with the logical operators and and or. The operator and specifies that all the given conditions must be true at the same time. The operator or specifies that at least one of the given conditions must be true.\n",
    "\n",
    "For example, the condition number >= 5 and number <= 8 determines that number must simultaneously be at least 5 and at most 8. That is, it must be between 5 and 8."
   ]
  },
  {
   "cell_type": "code",
   "execution_count": 2,
   "metadata": {},
   "outputs": [
    {
     "name": "stdout",
     "output_type": "stream",
     "text": [
      "The number is between 5 and 8\n"
     ]
    }
   ],
   "source": [
    "number = int(input(\"Please type in a number: \"))\n",
    "\n",
    "if number >= 5 and number <= 8:\n",
    "    print(\"The number is between 5 and 8\")"
   ]
  },
  {
   "cell_type": "markdown",
   "metadata": {},
   "source": [
    "Meanwhile, the condition number < 5 or number > 8 determines that number must be either less than 5 or greater than 8. That is, it must not be within the range of 5 to 8."
   ]
  },
  {
   "cell_type": "code",
   "execution_count": 4,
   "metadata": {},
   "outputs": [
    {
     "name": "stdout",
     "output_type": "stream",
     "text": [
      "The number is not within the range of 5 to 8\n"
     ]
    }
   ],
   "source": [
    "number = int(input(\"Please type in a number: \"))\n",
    "if number < 5 or number > 8:\n",
    "    print(\"The number is not within the range of 5 to 8\")"
   ]
  },
  {
   "cell_type": "markdown",
   "metadata": {},
   "source": [
    "The following truth table contains the behaviour of these operators in different situations:\n",
    "\n",
    "|     a     |     b     |  a AND b  |   a OR b  |\n",
    "| --------- | --------- | --------- | --------- |\n",
    "|    True   |    True   |    True   |    True   |\n",
    "|    True   |   False   |   False   |    True   |\n",
    "|   False   |    True   |   False   |    True   |\n",
    "|   False   |   False   |   False   |   False   |\n",
    "\n",
    "Sometimes it is necessary to know if something is not true. The operator not negates a condition:\n",
    "\n",
    "|     a     |   NOT a  |\n",
    "| --------- | --------- |\n",
    "|    True   |   False   |\n",
    "|   False   |    True   |\n",
    "\n",
    "The above example with the range of 5 to 8 excluded could also be programmed like this:"
   ]
  },
  {
   "cell_type": "code",
   "execution_count": 5,
   "metadata": {},
   "outputs": [
    {
     "name": "stdout",
     "output_type": "stream",
     "text": [
      "The number is not within the range of 5 to 8\n"
     ]
    }
   ],
   "source": [
    "number = int(input(\"Please type in a number: \"))\n",
    "if not (number >= 5 and number <= 8):\n",
    "    print(\"The number is not within the range of 5 to 8\")"
   ]
  },
  {
   "cell_type": "markdown",
   "metadata": {},
   "source": [
    "Especially in programming, logical operators are often called Boolean operators.\n",
    "\n",
    "### Simplified combined conditions\n",
    "The condition x >= a and x <= b is a very common way of checking whether the number x falls within the range of a to b. An expression with this structure works the same way in most programming languages.\n",
    "\n",
    "Python also allows a simplified notation for combining conditions: a <= x <= b achieves the same result as the longer version using and. This shorter notation might be more familiar from mathematics, but it is not very widely used in Python programming, possibly because very few other programming languages have a similar shorthand."
   ]
  },
  {
   "cell_type": "code",
   "execution_count": 6,
   "metadata": {},
   "outputs": [
    {
     "name": "stdout",
     "output_type": "stream",
     "text": [
      " 6 is the greatest of the numbers.\n"
     ]
    }
   ],
   "source": [
    "n1 = int(input(\"Number 1: \"))\n",
    "n2 = int(input(\"Number 2: \"))\n",
    "n3 = int(input(\"Number 3: \"))\n",
    "n4 = int(input(\"Number 4: \"))\n",
    "\n",
    "if n1 > n2 and n1 > n3 and n1 > n4:\n",
    "    greatest = n1\n",
    "elif n2 > n3 and n2 > n4:\n",
    "    greatest = n2\n",
    "elif n3 > n4:\n",
    "    greatest = n3\n",
    "else:\n",
    "    greatest = n4\n",
    "\n",
    "print(f\" {greatest} is the greatest of the numbers.\")"
   ]
  },
  {
   "cell_type": "code",
   "execution_count": null,
   "metadata": {},
   "outputs": [],
   "source": []
  }
 ],
 "metadata": {
  "kernelspec": {
   "display_name": "Python 3",
   "language": "python",
   "name": "python3"
  },
  "language_info": {
   "codemirror_mode": {
    "name": "ipython",
    "version": 3
   },
   "file_extension": ".py",
   "mimetype": "text/x-python",
   "name": "python",
   "nbconvert_exporter": "python",
   "pygments_lexer": "ipython3",
   "version": "3.12.3"
  }
 },
 "nbformat": 4,
 "nbformat_minor": 2
}
