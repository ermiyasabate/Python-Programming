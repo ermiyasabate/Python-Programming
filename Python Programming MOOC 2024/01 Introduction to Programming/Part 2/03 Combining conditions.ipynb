{
 "cells": [
  {
   "cell_type": "markdown",
   "metadata": {},
   "source": [
    "# Combining conditions\n",
    "## Logical operators\n",
    "You can combine conditions with the logical operators and and or. The operator and specifies that all the given conditions must be true at the same time. The operator or specifies that at least one of the given conditions must be true.\n",
    "\n",
    "For example, the condition number >= 5 and number <= 8 determines that number must simultaneously be at least 5 and at most 8. That is, it must be between 5 and 8."
   ]
  },
  {
   "cell_type": "code",
   "execution_count": 2,
   "metadata": {},
   "outputs": [
    {
     "name": "stdout",
     "output_type": "stream",
     "text": [
      "The number is between 5 and 8\n"
     ]
    }
   ],
   "source": [
    "number = int(input(\"Please type in a number: \"))\n",
    "\n",
    "if number >= 5 and number <= 8:\n",
    "    print(\"The number is between 5 and 8\")"
   ]
  },
  {
   "cell_type": "markdown",
   "metadata": {},
   "source": [
    "Meanwhile, the condition number < 5 or number > 8 determines that number must be either less than 5 or greater than 8. That is, it must not be within the range of 5 to 8."
   ]
  },
  {
   "cell_type": "code",
   "execution_count": 4,
   "metadata": {},
   "outputs": [
    {
     "name": "stdout",
     "output_type": "stream",
     "text": [
      "The number is not within the range of 5 to 8\n"
     ]
    }
   ],
   "source": [
    "number = int(input(\"Please type in a number: \"))\n",
    "if number < 5 or number > 8:\n",
    "    print(\"The number is not within the range of 5 to 8\")"
   ]
  },
  {
   "cell_type": "markdown",
   "metadata": {},
   "source": [
    "The following truth table contains the behaviour of these operators in different situations:\n",
    "\n",
    "|     a     |     b     |  a AND b  |   a OR b  |\n",
    "| --------- | --------- | --------- | --------- |\n",
    "|    True   |    True   |    True   |    True   |\n",
    "|    True   |   False   |   False   |    True   |\n",
    "|   False   |    True   |   False   |    True   |\n",
    "|   False   |   False   |   False   |   False   |\n",
    "\n",
    "Sometimes it is necessary to know if something is not true. The operator not negates a condition:\n",
    "\n",
    "|     a     |   NOT a  |\n",
    "| --------- | --------- |\n",
    "|    True   |   False   |\n",
    "|   False   |    True   |\n",
    "\n",
    "The above example with the range of 5 to 8 excluded could also be programmed like this:"
   ]
  },
  {
   "cell_type": "code",
   "execution_count": 5,
   "metadata": {},
   "outputs": [
    {
     "name": "stdout",
     "output_type": "stream",
     "text": [
      "The number is not within the range of 5 to 8\n"
     ]
    }
   ],
   "source": [
    "number = int(input(\"Please type in a number: \"))\n",
    "if not (number >= 5 and number <= 8):\n",
    "    print(\"The number is not within the range of 5 to 8\")"
   ]
  },
  {
   "cell_type": "markdown",
   "metadata": {},
   "source": [
    "Especially in programming, logical operators are often called Boolean operators.\n",
    "\n",
    "### Simplified combined conditions\n",
    "The condition x >= a and x <= b is a very common way of checking whether the number x falls within the range of a to b. An expression with this structure works the same way in most programming languages.\n",
    "\n",
    "Python also allows a simplified notation for combining conditions: a <= x <= b achieves the same result as the longer version using and. This shorter notation might be more familiar from mathematics, but it is not very widely used in Python programming, possibly because very few other programming languages have a similar shorthand."
   ]
  },
  {
   "cell_type": "code",
   "execution_count": 6,
   "metadata": {},
   "outputs": [
    {
     "name": "stdout",
     "output_type": "stream",
     "text": [
      " 6 is the greatest of the numbers.\n"
     ]
    }
   ],
   "source": [
    "n1 = int(input(\"Number 1: \"))\n",
    "n2 = int(input(\"Number 2: \"))\n",
    "n3 = int(input(\"Number 3: \"))\n",
    "n4 = int(input(\"Number 4: \"))\n",
    "\n",
    "if n1 > n2 and n1 > n3 and n1 > n4:\n",
    "    greatest = n1\n",
    "elif n2 > n3 and n2 > n4:\n",
    "    greatest = n2\n",
    "elif n3 > n4:\n",
    "    greatest = n3\n",
    "else:\n",
    "    greatest = n4\n",
    "\n",
    "print(f\" {greatest} is the greatest of the numbers.\")"
   ]
  },
  {
   "cell_type": "markdown",
   "metadata": {},
   "source": [
    "<hr/>\n",
    "<div class=\"alert alert-danger alertsuccess\" style=\"margin-top: 20px\">\n",
    "<b><h3>Programming exercise:</h3></b>\n",
    "<p>\n",
    "<b>Age check</b><br>\n",
    "Please write a program which asks for the user's age. If the age is not plausible, that is, it is under 5 or something that can't be an actual human age, the program should print out a comment.\n",
    "\n",
    "Have a look at the examples of expected behaviour below to figure out which comment is applicable in each case.<br>\n",
    "<code>What is your age? 13<br>\n",
    "Ok, you're 13 years old<br><br>\n",
    "What is your age? 2<br>\n",
    "I suspect you can't write quite yet...<br><br>\n",
    "What is your age? -4<br>\n",
    "That must be a mistake</code><br>\n",
    "</p>\n",
    "</div>\n",
    "<hr/>"
   ]
  },
  {
   "cell_type": "code",
   "execution_count": 10,
   "metadata": {},
   "outputs": [
    {
     "name": "stdout",
     "output_type": "stream",
     "text": [
      "Ok, you're 13 years old\n"
     ]
    }
   ],
   "source": [
    "age = int(input(\"What is your age? \"))\n",
    "\n",
    "if age < 0:\n",
    "    print(\"That must be a mistake\")\n",
    "elif age < 5:\n",
    "    print(\"I suspect you can't write quite yet...\")\n",
    "else:\n",
    "    print(f\"Ok, you're {age} years old\")"
   ]
  },
  {
   "cell_type": "markdown",
   "metadata": {},
   "source": [
    "<hr/>\n",
    "<div class=\"alert alert-danger alertsuccess\" style=\"margin-top: 20px\">\n",
    "<b><h3>Programming exercise:</h3></b>\n",
    "<p>\n",
    "<b>Nephews</b><br>\n",
    "Please write a program which asks for the user's name. If the name is Huey, Dewey or Louie, the program should recognise the user as one of Donald Duck's nephews.\n",
    "\n",
    "In a similar fashion, if the name is Morty or Ferdie, the program should recognise the user as one of Mickey Mouse's nephews.\n",
    "\n",
    "Some examples:<br>\n",
    "<code>Please type in your name: Morty<br>\n",
    "I think you might be one of Mickey Mouse's nephews.<br><br>\n",
    "Please type in your name: Huey<br>\n",
    "I think you might be one of Donald Duck's nephews.<br><br>\n",
    "Please type in your name: Ken<br>\n",
    "You're not a nephew of any character I know of.</code><br>\n",
    "</p>\n",
    "</div>\n",
    "<hr/>"
   ]
  },
  {
   "cell_type": "code",
   "execution_count": 19,
   "metadata": {},
   "outputs": [
    {
     "name": "stdout",
     "output_type": "stream",
     "text": [
      "I think you might be one of Mickey Mouse's nephews.\n"
     ]
    }
   ],
   "source": [
    "name = input(\"Please type in your name: \")\n",
    "\n",
    "if name == \"Huey\" or name == \"Dewey\" or name == \"Louie\":\n",
    "    print(\"I think you might be one of Donald Duck's nephews.\")\n",
    "elif name == \"Morty\" or name == \"Ferdie\":\n",
    "    print(\"I think you might be one of Mickey Mouse's nephews.\")\n",
    "else:\n",
    "    print(\"You're not a nephew of any character I know of.\")"
   ]
  },
  {
   "cell_type": "code",
   "execution_count": 23,
   "metadata": {},
   "outputs": [
    {
     "name": "stdout",
     "output_type": "stream",
     "text": [
      "You're not a nephew of any character I know of.\n"
     ]
    }
   ],
   "source": [
    "name = input(\"Please type in your name: \")\n",
    "\n",
    "if name == \"Huey\" or name == \"Dewey\" or name == \"Louie\":\n",
    "    print(\"I think you might be one of Donald Duck's nephews.\")\n",
    "elif name == \"Morty\" or name == \"Ferdie\":\n",
    "    print(\"I think you might be one of Mickey Mouse's nephews.\")\n",
    "else:\n",
    "    print(\"You're not a nephew of any character I know of.\")"
   ]
  },
  {
   "cell_type": "code",
   "execution_count": null,
   "metadata": {},
   "outputs": [],
   "source": []
  }
 ],
 "metadata": {
  "kernelspec": {
   "display_name": "Python 3",
   "language": "python",
   "name": "python3"
  },
  "language_info": {
   "codemirror_mode": {
    "name": "ipython",
    "version": 3
   },
   "file_extension": ".py",
   "mimetype": "text/x-python",
   "name": "python",
   "nbconvert_exporter": "python",
   "pygments_lexer": "ipython3",
   "version": "3.12.3"
  }
 },
 "nbformat": 4,
 "nbformat_minor": 2
}
