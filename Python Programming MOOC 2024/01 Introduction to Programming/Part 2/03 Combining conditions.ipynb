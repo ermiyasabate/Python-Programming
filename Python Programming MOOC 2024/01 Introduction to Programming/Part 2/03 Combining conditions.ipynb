{
 "cells": [
  {
   "cell_type": "markdown",
   "metadata": {},
   "source": [
    "# Combining conditions\n",
    "## Logical operators\n",
    "You can combine conditions with the logical operators and and or. The operator and specifies that all the given conditions must be true at the same time. The operator or specifies that at least one of the given conditions must be true.\n",
    "\n",
    "For example, the condition number >= 5 and number <= 8 determines that number must simultaneously be at least 5 and at most 8. That is, it must be between 5 and 8."
   ]
  },
  {
   "cell_type": "code",
   "execution_count": 2,
   "metadata": {},
   "outputs": [
    {
     "name": "stdout",
     "output_type": "stream",
     "text": [
      "The number is between 5 and 8\n"
     ]
    }
   ],
   "source": [
    "number = int(input(\"Please type in a number: \"))\n",
    "\n",
    "if number >= 5 and number <= 8:\n",
    "    print(\"The number is between 5 and 8\")"
   ]
  },
  {
   "cell_type": "markdown",
   "metadata": {},
   "source": [
    "Meanwhile, the condition number < 5 or number > 8 determines that number must be either less than 5 or greater than 8. That is, it must not be within the range of 5 to 8."
   ]
  },
  {
   "cell_type": "code",
   "execution_count": 4,
   "metadata": {},
   "outputs": [
    {
     "name": "stdout",
     "output_type": "stream",
     "text": [
      "The number is not within the range of 5 to 8\n"
     ]
    }
   ],
   "source": [
    "number = int(input(\"Please type in a number: \"))\n",
    "if number < 5 or number > 8:\n",
    "    print(\"The number is not within the range of 5 to 8\")"
   ]
  },
  {
   "cell_type": "markdown",
   "metadata": {},
   "source": [
    "The following truth table contains the behaviour of these operators in different situations:\n",
    "\n",
    "|     a     |     b     |  a AND b  |   a OR b  |\n",
    "| --------- | --------- | --------- | --------- |\n",
    "|    True   |    True   |    True   |    True   |\n",
    "|    True   |   False   |   False   |    True   |\n",
    "|   False   |    True   |   False   |    True   |\n",
    "|   False   |   False   |   False   |   False   |\n",
    "\n",
    "Sometimes it is necessary to know if something is not true. The operator not negates a condition:\n",
    "\n",
    "|     a     |   NOT a  |\n",
    "| --------- | --------- |\n",
    "|    True   |   False   |\n",
    "|   False   |    True   |\n",
    "\n",
    "The above example with the range of 5 to 8 excluded could also be programmed like this:"
   ]
  },
  {
   "cell_type": "code",
   "execution_count": 5,
   "metadata": {},
   "outputs": [
    {
     "name": "stdout",
     "output_type": "stream",
     "text": [
      "The number is not within the range of 5 to 8\n"
     ]
    }
   ],
   "source": [
    "number = int(input(\"Please type in a number: \"))\n",
    "if not (number >= 5 and number <= 8):\n",
    "    print(\"The number is not within the range of 5 to 8\")"
   ]
  },
  {
   "cell_type": "code",
   "execution_count": null,
   "metadata": {},
   "outputs": [],
   "source": []
  }
 ],
 "metadata": {
  "kernelspec": {
   "display_name": "Python 3",
   "language": "python",
   "name": "python3"
  },
  "language_info": {
   "codemirror_mode": {
    "name": "ipython",
    "version": 3
   },
   "file_extension": ".py",
   "mimetype": "text/x-python",
   "name": "python",
   "nbconvert_exporter": "python",
   "pygments_lexer": "ipython3",
   "version": "3.12.3"
  }
 },
 "nbformat": 4,
 "nbformat_minor": 2
}
