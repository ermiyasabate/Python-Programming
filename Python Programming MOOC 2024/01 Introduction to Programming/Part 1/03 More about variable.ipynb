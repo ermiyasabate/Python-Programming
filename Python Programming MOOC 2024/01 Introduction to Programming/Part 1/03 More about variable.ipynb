{
 "cells": [
  {
   "cell_type": "markdown",
   "metadata": {},
   "source": [
    "# More about variables\n",
    "\n",
    "Variables are needed for various purposes in programming. You can use variables to store any information that will be needed later in the program's execution.\n",
    "\n",
    "In Python programming variables are created like so:\n",
    "\n",
    "variable_name = ...\n",
    "\n",
    "Here ... means the value stored in the variable.\n",
    "\n",
    "For example, when you used the input command to read a string from the user, you stored the string in a variable and then used the variable later in your program:"
   ]
  },
  {
   "cell_type": "code",
   "execution_count": 1,
   "metadata": {},
   "outputs": [
    {
     "name": "stdout",
     "output_type": "stream",
     "text": [
      "Hi, Ghosty\n"
     ]
    }
   ],
   "source": [
    "name = input(\"What is your name? \")\n",
    "print(\"Hi, \" + name)"
   ]
  },
  {
   "cell_type": "markdown",
   "metadata": {},
   "source": [
    "The value stored in a variable can also be defined using other variables:"
   ]
  },
  {
   "cell_type": "code",
   "execution_count": 2,
   "metadata": {},
   "outputs": [
    {
     "name": "stdout",
     "output_type": "stream",
     "text": [
      "Paul Python\n"
     ]
    }
   ],
   "source": [
    "given_name = \"Paul\"\n",
    "family_name = \"Python\"\n",
    "\n",
    "name = given_name + \" \" + family_name\n",
    "\n",
    "print(name)"
   ]
  },
  {
   "cell_type": "markdown",
   "metadata": {},
   "source": [
    "Here the values stored in the three variables are not obtained from user input. They remain the same every time the program is executed. This is called hard-coding data into the program.\n",
    "\n",
    "## Changing the value of a variable\n",
    "\n",
    "As implied by the name variable, the value stored in a variable can change. In the previous section we noticed that the new value replaces the old one.\n",
    "\n",
    "During the execution of the following program, the variable word will have three different values:"
   ]
  },
  {
   "cell_type": "code",
   "execution_count": 3,
   "metadata": {},
   "outputs": [
    {
     "name": "stdout",
     "output_type": "stream",
     "text": [
      "first\n",
      "second\n",
      "third\n"
     ]
    }
   ],
   "source": [
    "word = input(\"Please type in a word: \")\n",
    "print(word)\n",
    "\n",
    "word = input(\"And another word: \")\n",
    "print(word)\n",
    "\n",
    "word = \"third\"\n",
    "print(word)"
   ]
  },
  {
   "cell_type": "markdown",
   "metadata": {},
   "source": [
    "The value stored in the variable changes each time the variable is assigned a new value.\n",
    "\n",
    "The new value of a variable can be derived from its old value. In the following example the variable word is first assigned a value based on user input. Then it is assigned a new value, which is the old value with three exclamation marks added to the end."
   ]
  },
  {
   "cell_type": "code",
   "execution_count": 4,
   "metadata": {},
   "outputs": [
    {
     "name": "stdout",
     "output_type": "stream",
     "text": [
      "test\n",
      "test!!!\n"
     ]
    }
   ],
   "source": [
    "word = input(\"Please type in a word: \")\n",
    "print(word)\n",
    "\n",
    "word = word + \"!!!\"\n",
    "print(word)"
   ]
  },
  {
   "cell_type": "markdown",
   "metadata": {},
   "source": [
    "#### Choosing a good name for a variable\n",
    "\n",
    "It is often useful to name variables according to what they are used for. For example, if the variable contains a word, the name word is a better choice than, say, a.\n",
    "\n",
    "There is no set limit to the length of a variable name in Python, but there are some other limitations. A variable name should begin with a letter, and it can only contain letters, numbers and underscores _.\n",
    "\n",
    "Lowercase and uppercase letters are different characters. The variables name, Name and NAME are all different variables. While this rule has a few exceptions, we will ignore those for now.\n",
    "\n",
    "It is a common programming practice in Python to use only lowercase characters in variable names. If the variable name consists of multiple words, use an underscore between the words. While this rule also has a few exceptions, we will ignore those for now.\n",
    "\n",
    "## Integers\n",
    "Thus far, we have only stored strings in variables, but there are also many other types of information we will want to store and access later. Let's have a look at integers first. Integers are numbers that do not have a decimal or fractional part, such as -15, 0 and 1.\n",
    "\n",
    "The following program creates the variable age, which contains an integer value."
   ]
  },
  {
   "cell_type": "code",
   "execution_count": 3,
   "metadata": {},
   "outputs": [
    {
     "name": "stdout",
     "output_type": "stream",
     "text": [
      "24\n"
     ]
    }
   ],
   "source": [
    "age = 24\n",
    "print(age)"
   ]
  },
  {
   "cell_type": "markdown",
   "metadata": {},
   "source": [
    "Notice the lack of quotation marks here. In fact, if we were to add quotation marks around the number, this would mean our variable would no longer be an integer, but a string instead. A string can contain numbers, but it is processed differently.\n",
    "\n",
    "So, why does it matter that variables have a type, when the following program still prints out the same thing twice?"
   ]
  },
  {
   "cell_type": "code",
   "execution_count": 4,
   "metadata": {},
   "outputs": [
    {
     "name": "stdout",
     "output_type": "stream",
     "text": [
      "100\n",
      "100\n"
     ]
    }
   ],
   "source": [
    "number1 = 100\n",
    "number2 = \"100\"\n",
    "\n",
    "print(number1)\n",
    "print(number2)"
   ]
  },
  {
   "cell_type": "markdown",
   "metadata": {},
   "source": [
    "Variable types matter because different operations affect different types of variables in different ways. Let's have a look at an example:"
   ]
  },
  {
   "cell_type": "code",
   "execution_count": 5,
   "metadata": {},
   "outputs": [
    {
     "name": "stdout",
     "output_type": "stream",
     "text": [
      "200\n",
      "100100\n"
     ]
    }
   ],
   "source": [
    "number1 = 100\n",
    "number2 = \"100\"\n",
    "\n",
    "print(number1 + number1)\n",
    "print(number2 + number2)"
   ]
  },
  {
   "cell_type": "markdown",
   "metadata": {},
   "source": [
    "Not all operators are available for all types of variables. While numbers can be divided using the division operator /, attempting to divide a string by a number causes an error:"
   ]
  },
  {
   "cell_type": "code",
   "execution_count": 7,
   "metadata": {},
   "outputs": [
    {
     "ename": "TypeError",
     "evalue": "unsupported operand type(s) for /: 'str' and 'int'",
     "output_type": "error",
     "traceback": [
      "\u001b[1;31m---------------------------------------------------------------------------\u001b[0m",
      "\u001b[1;31mTypeError\u001b[0m                                 Traceback (most recent call last)",
      "Cell \u001b[1;32mIn[7], line 2\u001b[0m\n\u001b[0;32m      1\u001b[0m number \u001b[38;5;241m=\u001b[39m \u001b[38;5;124m\"\u001b[39m\u001b[38;5;124m100\u001b[39m\u001b[38;5;124m\"\u001b[39m\n\u001b[1;32m----> 2\u001b[0m \u001b[38;5;28mprint\u001b[39m(\u001b[43mnumber\u001b[49m\u001b[43m \u001b[49m\u001b[38;5;241;43m/\u001b[39;49m\u001b[43m \u001b[49m\u001b[38;5;241;43m2\u001b[39;49m)\n",
      "\u001b[1;31mTypeError\u001b[0m: unsupported operand type(s) for /: 'str' and 'int'"
     ]
    }
   ],
   "source": [
    "number = \"100\"\n",
    "print(number / 2)"
   ]
  },
  {
   "cell_type": "markdown",
   "metadata": {},
   "source": [
    "Here, Python tells us that combining two different types of values will not work just like that. In this case, \"The result is \" is of type string, while the value stored in result is of type integer.\n",
    "\n",
    "If we do want to print out a string and an integer in a single command, the integer can be cast as a string with the str function, and the two strings can then be combined normally. For example, this would work:"
   ]
  },
  {
   "cell_type": "code",
   "execution_count": 8,
   "metadata": {},
   "outputs": [
    {
     "name": "stdout",
     "output_type": "stream",
     "text": [
      "The result is 250\n"
     ]
    }
   ],
   "source": [
    "result = 10 * 25\n",
    "print(\"The result is \" + str(result))"
   ]
  },
  {
   "cell_type": "markdown",
   "metadata": {},
   "source": [
    "The print command also has built-in functionalities that support combining different types of values. The simplest way is to add a comma between the values. All the values will be printed out regardless of their type:"
   ]
  },
  {
   "cell_type": "code",
   "execution_count": 9,
   "metadata": {},
   "outputs": [
    {
     "name": "stdout",
     "output_type": "stream",
     "text": [
      "The result is 250\n"
     ]
    }
   ],
   "source": [
    "result = 10 * 25\n",
    "print(\"The result is\", result)"
   ]
  },
  {
   "cell_type": "markdown",
   "metadata": {},
   "source": [
    "Notice that there is an automatically added whitespace character between the values separated by a comma here.\n",
    "\n",
    "## Printing with f-strings\n",
    "What if we want to have more flexibility and control over what we print out? So called f-strings are another way of formatting printouts in Python. The syntax can initially look a bit confusing, but in the end f-strings are often the simplest way of formatting text.\n",
    "\n",
    "With f-strings the previous example would look like this:"
   ]
  },
  {
   "cell_type": "code",
   "execution_count": 10,
   "metadata": {},
   "outputs": [
    {
     "name": "stdout",
     "output_type": "stream",
     "text": [
      "The result is 250\n"
     ]
    }
   ],
   "source": [
    "result = 10 * 25\n",
    "print(f\"The result is {result}\")"
   ]
  },
  {
   "cell_type": "markdown",
   "metadata": {},
   "source": [
    "Let's break this apart. In the very beginning of the string we are printing out there is the character f. This tells Python that what follows is an f-string. Within the string, enclosed in curly brackets, is the variable name result. The value it contains becomes a part of the printed string. The printout is exactly the same as in the previous examples:\n",
    "\n",
    "A single f-string can contain multiple variables. For example this code"
   ]
  },
  {
   "cell_type": "code",
   "execution_count": 11,
   "metadata": {},
   "outputs": [
    {
     "name": "stdout",
     "output_type": "stream",
     "text": [
      "Hi Mark, you are 37 years old. You live in Palo Alto.\n"
     ]
    }
   ],
   "source": [
    "name = \"Mark\"\n",
    "age = 37\n",
    "city = \"Palo Alto\"\n",
    "print(f\"Hi {name}, you are {age} years old. You live in {city}.\")"
   ]
  },
  {
   "cell_type": "markdown",
   "metadata": {},
   "source": [
    "It is difficult to create a printout exactly like this using the comma notation in the print command. For example, this program"
   ]
  },
  {
   "cell_type": "code",
   "execution_count": 12,
   "metadata": {},
   "outputs": [
    {
     "name": "stdout",
     "output_type": "stream",
     "text": [
      "Hi Mark , you are 37 years old. You live in Palo Alto .\n"
     ]
    }
   ],
   "source": [
    "name = \"Mark\"\n",
    "age = 37\n",
    "city = \"Palo Alto\"\n",
    "print(\"Hi\", name, \", you are\", age, \"years old. You live in\", city, \".\")"
   ]
  },
  {
   "cell_type": "markdown",
   "metadata": {},
   "source": [
    "Notice the automatically inserted whitespace between each comma-separated part of the printout. Preventing print from adding the extra spaces is technically possible, but not worth the trouble given that we can instead use f-strings.\n",
    "\n",
    "In its simplicity the comma notation of the print command can often be useful, but it does sometimes cause more trouble than it's worth. F-strings are usually a more reliable option. In part 4 you will learn more about the handy features of f-strings when it comes to formatting printouts.\n",
    "\n",
    "##### F-strings and Python versions\n",
    "If you are using an older version of Python, f-strings may not work. They were introduced in Python version 3.6. Later on during the course you will install Python on your own computer. Unfortunately, the more modern versions of Python are not always available for older operating systems. "
   ]
  },
  {
   "cell_type": "markdown",
   "metadata": {},
   "source": [
    "<hr/>\n",
    "<div class=\"alert alert-danger alertsuccess\" style=\"margin-top: 20px\">\n",
    "<b><h3>Programming exercise:</h3></b>\n",
    "<p><b>Extra space<br></b>\n",
    "Your friend is working on an app for jobseekers. She sends you this bit of code:<br>\n",
    "<code>\n",
    "name = \"Tim Tester\"<br>\n",
    "age = 20<br>\n",
    "skill1 = \"python\"<br>\n",
    "level1 = \"beginner\"<br>\n",
    "skill2 = \"java\"<br>\n",
    "level2 = \"veteran\"<br>\n",
    "skill3 = \"programming\"<br>\n",
    "level3 = \"semiprofessional\"<br>\n",
    "lower = 2000<br>\n",
    "upper = 3000\n",
    "\n",
    "print(\"my name is \", name, \" , I am \", age, \"years old\")<br>\n",
    "print(\"my skills are\")<br>\n",
    "print(\"- \", skill1, \" (\", level1, \")\")<br>\n",
    "print(\"- \", skill2, \" (\", level2, \")\")<br>\n",
    "print(\"- \", skill3, \" (\", level3, \" )\")<br>\n",
    "print(\"I am looking for a job with a salary of\", lower, \"-\", upper, \"euros per month\")\n",
    "</code>\n",
    "\n",
    "The program should print out exactly the following:\n",
    "\n",
    "\n",
    "my name is Tim Tester, I am 20 years old\n",
    "\n",
    "my skills are\n",
    " - python (beginner)\n",
    " - java (veteran)\n",
    " - programming (semiprofessional)\n",
    "\n",
    "I am looking for a job with a salary of 2000-3000 euros per month\n",
    "\n",
    "<hr>\n",
    "The code works almost correctly, but not quite. This exercise has very strict tests, which check the output for every single bit of whitespace.\n",
    "\n",
    "Please fix the code so that the printout looks right. Notice especially how the comma notation in the print command automatically inserts a space around the different comma-separated parts.\n",
    "\n",
    "The easiest way to transform the code so that it meets requirements is to use f-strings.\n",
    "\n",
    "Hint: you can print an empty line by adding an empty print command, or by adding the newline character \\n into your string.\n",
    "\n",
    "Do remember to be extra careful when formatting printouts also in the future on this course. Some of the exercises have tests that require your output to be exactly as specified in the examples given. For example, please use actual whitespace characters in your code, instead of ASCII character codes for whitespace, or some such.\n",
    "</p>\n",
    "</div>\n",
    "<hr/>"
   ]
  },
  {
   "cell_type": "code",
   "execution_count": 17,
   "metadata": {},
   "outputs": [
    {
     "name": "stdout",
     "output_type": "stream",
     "text": [
      "my name is Tim Tester, I am 20 years old\n",
      "\n",
      "my skills are\n",
      " - python (beginner)\n",
      " - java (veteran)\n",
      " - programming (semiprofessional)\n",
      "\n",
      "I am looking for a job with a salary of 2000 - 3000 euros per month\n"
     ]
    }
   ],
   "source": [
    "name = \"Tim Tester\"\n",
    "age = 20\n",
    "skill1 = \"python\"\n",
    "level1 = \"beginner\"\n",
    "skill2 = \"java\"\n",
    "level2 = \"veteran\"\n",
    "skill3 = \"programming\"\n",
    "level3 = \"semiprofessional\"\n",
    "lower = 2000\n",
    "upper = 3000\n",
    "\n",
    "print(f\"my name is {name}, I am {age} years old\\n\")\n",
    "print(\"my skills are\")\n",
    "print(f\" - {skill1} ({level1})\")\n",
    "print(f\" - {skill2} ({level2})\")\n",
    "print(f\" - {skill3} ({level3})\\n\")\n",
    "print(f\"I am looking for a job with a salary of {lower} - {upper} euros per month\")"
   ]
  },
  {
   "cell_type": "code",
   "execution_count": null,
   "metadata": {},
   "outputs": [],
   "source": []
  }
 ],
 "metadata": {
  "kernelspec": {
   "display_name": "Python 3",
   "language": "python",
   "name": "python3"
  },
  "language_info": {
   "codemirror_mode": {
    "name": "ipython",
    "version": 3
   },
   "file_extension": ".py",
   "mimetype": "text/x-python",
   "name": "python",
   "nbconvert_exporter": "python",
   "pygments_lexer": "ipython3",
   "version": "3.12.3"
  }
 },
 "nbformat": 4,
 "nbformat_minor": 2
}
