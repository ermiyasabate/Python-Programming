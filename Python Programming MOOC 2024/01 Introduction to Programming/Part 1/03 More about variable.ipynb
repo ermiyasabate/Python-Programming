{
 "cells": [
  {
   "cell_type": "markdown",
   "metadata": {},
   "source": [
    "# More about variables\n",
    "\n",
    "Variables are needed for various purposes in programming. You can use variables to store any information that will be needed later in the program's execution.\n",
    "\n",
    "In Python programming variables are created like so:\n",
    "\n",
    "variable_name = ...\n",
    "\n",
    "Here ... means the value stored in the variable.\n",
    "\n",
    "For example, when you used the input command to read a string from the user, you stored the string in a variable and then used the variable later in your program:"
   ]
  },
  {
   "cell_type": "code",
   "execution_count": 1,
   "metadata": {},
   "outputs": [
    {
     "name": "stdout",
     "output_type": "stream",
     "text": [
      "Hi, Ghosty\n"
     ]
    }
   ],
   "source": [
    "name = input(\"What is your name? \")\n",
    "print(\"Hi, \" + name)"
   ]
  },
  {
   "cell_type": "markdown",
   "metadata": {},
   "source": [
    "The value stored in a variable can also be defined using other variables:"
   ]
  },
  {
   "cell_type": "code",
   "execution_count": 2,
   "metadata": {},
   "outputs": [
    {
     "name": "stdout",
     "output_type": "stream",
     "text": [
      "Paul Python\n"
     ]
    }
   ],
   "source": [
    "given_name = \"Paul\"\n",
    "family_name = \"Python\"\n",
    "\n",
    "name = given_name + \" \" + family_name\n",
    "\n",
    "print(name)"
   ]
  },
  {
   "cell_type": "markdown",
   "metadata": {},
   "source": [
    "Here the values stored in the three variables are not obtained from user input. They remain the same every time the program is executed. This is called hard-coding data into the program.\n",
    "\n",
    "## Changing the value of a variable\n",
    "\n",
    "As implied by the name variable, the value stored in a variable can change. In the previous section we noticed that the new value replaces the old one.\n",
    "\n",
    "During the execution of the following program, the variable word will have three different values:"
   ]
  },
  {
   "cell_type": "code",
   "execution_count": 3,
   "metadata": {},
   "outputs": [
    {
     "name": "stdout",
     "output_type": "stream",
     "text": [
      "first\n",
      "second\n",
      "third\n"
     ]
    }
   ],
   "source": [
    "word = input(\"Please type in a word: \")\n",
    "print(word)\n",
    "\n",
    "word = input(\"And another word: \")\n",
    "print(word)\n",
    "\n",
    "word = \"third\"\n",
    "print(word)"
   ]
  },
  {
   "cell_type": "markdown",
   "metadata": {},
   "source": [
    "The value stored in the variable changes each time the variable is assigned a new value.\n",
    "\n",
    "The new value of a variable can be derived from its old value. In the following example the variable word is first assigned a value based on user input. Then it is assigned a new value, which is the old value with three exclamation marks added to the end."
   ]
  },
  {
   "cell_type": "code",
   "execution_count": 4,
   "metadata": {},
   "outputs": [
    {
     "name": "stdout",
     "output_type": "stream",
     "text": [
      "test\n",
      "test!!!\n"
     ]
    }
   ],
   "source": [
    "word = input(\"Please type in a word: \")\n",
    "print(word)\n",
    "\n",
    "word = word + \"!!!\"\n",
    "print(word)"
   ]
  },
  {
   "cell_type": "markdown",
   "metadata": {},
   "source": [
    "#### Choosing a good name for a variable\n",
    "\n",
    "It is often useful to name variables according to what they are used for. For example, if the variable contains a word, the name word is a better choice than, say, a.\n",
    "\n",
    "There is no set limit to the length of a variable name in Python, but there are some other limitations. A variable name should begin with a letter, and it can only contain letters, numbers and underscores _.\n",
    "\n",
    "Lowercase and uppercase letters are different characters. The variables name, Name and NAME are all different variables. While this rule has a few exceptions, we will ignore those for now.\n",
    "\n",
    "It is a common programming practice in Python to use only lowercase characters in variable names. If the variable name consists of multiple words, use an underscore between the words. While this rule also has a few exceptions, we will ignore those for now."
   ]
  },
  {
   "cell_type": "code",
   "execution_count": null,
   "metadata": {},
   "outputs": [],
   "source": []
  }
 ],
 "metadata": {
  "kernelspec": {
   "display_name": "Python 3",
   "language": "python",
   "name": "python3"
  },
  "language_info": {
   "codemirror_mode": {
    "name": "ipython",
    "version": 3
   },
   "file_extension": ".py",
   "mimetype": "text/x-python",
   "name": "python",
   "nbconvert_exporter": "python",
   "pygments_lexer": "ipython3",
   "version": "3.12.3"
  }
 },
 "nbformat": 4,
 "nbformat_minor": 2
}
