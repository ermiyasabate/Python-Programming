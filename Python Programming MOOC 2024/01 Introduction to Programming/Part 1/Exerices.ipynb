{
 "cells": [
  {
   "cell_type": "markdown",
   "metadata": {},
   "source": [
    "<hr/>\n",
    "<div class=\"alert alert-danger alertsuccess\" style=\"margin-top: 20px\">\n",
    "<b><h3>Programming exercise:</h3></b>\n",
    "<p><b>Emoticon<br></b>\n",
    "Please write a program which asks for the user's name and then prints it twice, on two consecutive lines.\n",
    "\n",
    "An example of the how the program should function:<br>\n",
    "<code>What is your name? Paul</code><br>\n",
    "<code>Paul<br>\n",
    "Paul</code></p>\n",
    "</div>\n",
    "<hr/>"
   ]
  },
  {
   "cell_type": "markdown",
   "metadata": {},
   "source": [
    "<hr/>\n",
    "<div class=\"alert alert-danger alertsuccess\" style=\"margin-top: 20px\">\n",
    "<b><h3>Programming exercise:</h3></b>\n",
    "<p><b>Print some code<br></b>\n",
    "Thus far, you have probably used double quotation marks \" to print out strings. In addition to the double quotation marks, Python also accepts single quotation marks '.\n",
    "\n",
    "This comes in handy if you ever want to print out the actual quotation marks themselves:<br>\n",
    "<code>\n",
    "print('\"Come right back!\", shouted the police officer.')<br>\n",
    "\"Come right back!\", shouted the police officer.\n",
    "</code>\n",
    "\n",
    "Please write a program which prints out the following:\n",
    "<code>\n",
    "print(\"Hello there!\")\n",
    "</code>\n",
    "</p>\n",
    "</div>\n",
    "<hr/>"
   ]
  },
  {
   "cell_type": "markdown",
   "metadata": {},
   "source": []
  }
 ],
 "metadata": {
  "language_info": {
   "name": "python"
  }
 },
 "nbformat": 4,
 "nbformat_minor": 2
}
