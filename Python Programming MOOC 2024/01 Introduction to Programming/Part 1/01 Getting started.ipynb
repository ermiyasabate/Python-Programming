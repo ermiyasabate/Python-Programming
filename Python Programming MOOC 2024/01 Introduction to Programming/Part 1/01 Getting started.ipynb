{
 "cells": [
  {
   "cell_type": "markdown",
   "metadata": {},
   "source": [
    "# Getting Started\n",
    "\n",
    "Computer programs consist of commands, each command instructing the computer to take some action. A computer executes these commands one by one. Among other things, commands can be used to perform calculations, compare things in the computer's memory, cause changes in how the program functions, relay messages or ask for information from the program's user.\n",
    "\n",
    "Let's begin programming by getting familiar with the print command, which prints text. In this context, printing essentially means that the program will show some text on the screen.\n",
    "\n",
    "The following program will print the line \"Hi there!\":"
   ]
  },
  {
   "cell_type": "code",
   "execution_count": 1,
   "metadata": {},
   "outputs": [
    {
     "name": "stdout",
     "output_type": "stream",
     "text": [
      "Hi there!\n"
     ]
    }
   ],
   "source": [
    "print(\"Hi there!\")"
   ]
  },
  {
   "cell_type": "markdown",
   "metadata": {},
   "source": [
    "The program will not work unless the code is written exactly as it is above. For example, trying to run the print command without the quotation marks, like so"
   ]
  },
  {
   "cell_type": "code",
   "execution_count": 2,
   "metadata": {},
   "outputs": [
    {
     "ename": "SyntaxError",
     "evalue": "invalid syntax. Perhaps you forgot a comma? (1831847243.py, line 1)",
     "output_type": "error",
     "traceback": [
      "\u001b[1;36m  Cell \u001b[1;32mIn[2], line 1\u001b[1;36m\u001b[0m\n\u001b[1;33m    print(Hi there!)\u001b[0m\n\u001b[1;37m          ^\u001b[0m\n\u001b[1;31mSyntaxError\u001b[0m\u001b[1;31m:\u001b[0m invalid syntax. Perhaps you forgot a comma?\n"
     ]
    }
   ],
   "source": [
    "print(Hi there!)"
   ]
  },
  {
   "cell_type": "markdown",
   "metadata": {},
   "source": [
    "In summary, if you want to print text, the text must all be encased in quotation marks or Python will not interpret it correctly."
   ]
  },
  {
   "cell_type": "markdown",
   "metadata": {},
   "source": [
    "<hr/>\n",
    "<div class=\"alert alert-danger alertsuccess\" style=\"margin-top: 20px\">\n",
    "<b><h3>Programming exercise:</h3></b>\n",
    "<p><b>Emoticon<br></b>\n",
    "Please write a program which prints out an emoticon: :-)\n",
    "</div>\n",
    "<hr/>"
   ]
  },
  {
   "cell_type": "code",
   "execution_count": 1,
   "metadata": {},
   "outputs": [
    {
     "name": "stdout",
     "output_type": "stream",
     "text": [
      ":-)\n"
     ]
    }
   ],
   "source": [
    "# Write your solution here\n",
    "print(\":-)\")"
   ]
  },
  {
   "cell_type": "markdown",
   "metadata": {},
   "source": [
    "## A program of multiple commands\n",
    "Multiple commands written in succession will be executed in order from first to last. For example this program"
   ]
  },
  {
   "cell_type": "code",
   "execution_count": 3,
   "metadata": {},
   "outputs": [
    {
     "name": "stdout",
     "output_type": "stream",
     "text": [
      "Welcome to Introduction to Programming!\n",
      "First we will practice using the print command.\n",
      "This program prints three lines of text on the screen.\n"
     ]
    }
   ],
   "source": [
    "print(\"Welcome to Introduction to Programming!\")\n",
    "print(\"First we will practice using the print command.\")\n",
    "print(\"This program prints three lines of text on the screen.\")"
   ]
  },
  {
   "cell_type": "markdown",
   "metadata": {},
   "source": [
    "<hr/>\n",
    "<div class=\"alert alert-danger alertsuccess\" style=\"margin-top: 20px\">\n",
    "<b><h3>Programming exercise:</h3></b>\n",
    "<p><b>Fix the code: Seven Brothers<br></b>\n",
    "\"Seitsemän veljestä\" is one of the first novels ever written in Finnish. It is the story of seven orphaned brothers learning to make their way in the world (read more on Wikipedia).\n",
    "\n",
    "This program is supposed to print out the names of the brothers in alphabetical order, but it's not working quite right yet. Please fix the program so that the names are printed in the correct order.<br>\n",
    "\n",
    "<code>print(\"Simeoni\")</code><br>\n",
    "<code>print(\"Juhani\")</code><br>\n",
    "<code>print(\"Eero\")</code><br>\n",
    "<code>print(\"Lauri\")</code><br>\n",
    "<code>print(\"Aapo\")</code><br>\n",
    "<code>print(\"Tuomas\")</code><br>\n",
    "<code>print(\"Timo\")</code>\n",
    "</p>\n",
    "</div>\n",
    "<hr/>"
   ]
  },
  {
   "cell_type": "code",
   "execution_count": 4,
   "metadata": {},
   "outputs": [
    {
     "name": "stdout",
     "output_type": "stream",
     "text": [
      "Aapo\n",
      "Eero\n",
      "Juhani\n",
      "Lauri\n",
      "Simeoni\n",
      "Timo\n",
      "Tuomas\n"
     ]
    }
   ],
   "source": [
    "# Fix the code\n",
    "print(\"Aapo\")\n",
    "print(\"Eero\")\n",
    "print(\"Juhani\")\n",
    "print(\"Lauri\")\n",
    "print(\"Simeoni\")\n",
    "print(\"Timo\")\n",
    "print(\"Tuomas\")"
   ]
  },
  {
   "cell_type": "markdown",
   "metadata": {},
   "source": [
    "<hr/>\n",
    "<div class=\"alert alert-danger alertsuccess\" style=\"margin-top: 20px\">\n",
    "<b><h3>Row, Row, Row Your Boat</h3></b>\n",
    "<p><b>Fix the code: Seven Brothers<br></b>\n",
    "Please write a program which prints out the following lines exactly as they are written here, punctuation and all:<br>\n",
    "\n",
    "<code>Row, row, row your boat,</code><br>\n",
    "<code>Gently down the stream.</code><br>\n",
    "<code>Merrily, merrily, merrily, merrily,</code><br>\n",
    "<code>Life is but a dream.</code><br>\n",
    "</p>\n",
    "</div>\n",
    "<hr/>"
   ]
  },
  {
   "cell_type": "code",
   "execution_count": 5,
   "metadata": {},
   "outputs": [
    {
     "name": "stdout",
     "output_type": "stream",
     "text": [
      "Row, row, row your boat,\n",
      "Gently down the stream.\n",
      "Merrily, merrily, merrily, merrily,\n",
      "Life is but a dream.\n"
     ]
    }
   ],
   "source": [
    "# Write your solution here\n",
    "print(\"Row, row, row your boat,\")\n",
    "print(\"Gently down the stream.\")\n",
    "print(\"Merrily, merrily, merrily, merrily,\")\n",
    "print(\"Life is but a dream.\")"
   ]
  },
  {
   "cell_type": "markdown",
   "metadata": {},
   "source": [
    "## Arithmetic operations\n",
    "You can also put arithmetic operations inside a print command. Running it will then print out the result of the operation. For example, the following program"
   ]
  },
  {
   "cell_type": "code",
   "execution_count": 6,
   "metadata": {},
   "outputs": [
    {
     "name": "stdout",
     "output_type": "stream",
     "text": [
      "7\n",
      "9\n",
      "22\n"
     ]
    }
   ],
   "source": [
    "print(2 + 5)\n",
    "print(3 * 3)\n",
    "print(2 + 2 * 10)"
   ]
  },
  {
   "cell_type": "markdown",
   "metadata": {},
   "source": [
    "Notice the lack of quotation marks around the arithmetic operations above. Quotation marks are used to signify strings. In the context of programming, strings are sequences of characters. They can consist of letters, numbers and any other types of characters, such as punctuation. Strings aren't just words as we commonly understand them, but instead a single string can be as long as multiple complete sentences. Strings are usually printed out exactly as they are written. Thus, the following two commands produce two quite different results:"
   ]
  },
  {
   "cell_type": "code",
   "execution_count": 7,
   "metadata": {},
   "outputs": [
    {
     "name": "stdout",
     "output_type": "stream",
     "text": [
      "22\n",
      "2 + 2 * 10\n"
     ]
    }
   ],
   "source": [
    "print(2 + 2 * 10)\n",
    "print(\"2 + 2 * 10\")"
   ]
  },
  {
   "cell_type": "markdown",
   "metadata": {},
   "source": [
    "With the second line of code, Python does not calculate the result of the operation, but instead prints out the operation itself, as a string. So, strings are printed out just as they are written, without any reference to their contents.\n",
    "\n",
    "## Commenting\n",
    "Any line beginning with the pound sign #, also known as a hash or a number sign, is a comment. This means that any text on that line following the # symbol will not in any way affect how the program functions. Python will simply ignore it.\n",
    "\n",
    "Comments are used for explaining how a program works, to both the programmer themselves, and others reading the program code. In this program a comment explains the calculation performed in the code:"
   ]
  },
  {
   "cell_type": "code",
   "execution_count": 8,
   "metadata": {},
   "outputs": [
    {
     "name": "stdout",
     "output_type": "stream",
     "text": [
      "Hours in a year:\n",
      "8760\n"
     ]
    }
   ],
   "source": [
    "print(\"Hours in a year:\")\n",
    "# there are 365 days in a year and 24 hours in each day\n",
    "print(365*24)"
   ]
  },
  {
   "cell_type": "markdown",
   "metadata": {},
   "source": [
    "Short comments can also be added to the end of a line:"
   ]
  },
  {
   "cell_type": "code",
   "execution_count": 10,
   "metadata": {},
   "outputs": [
    {
     "name": "stdout",
     "output_type": "stream",
     "text": [
      "Hours in a year:\n",
      "8760\n"
     ]
    }
   ],
   "source": [
    "print(\"Hours in a year:\")\n",
    "print(365*24) # 365 days, 24 hours in each day"
   ]
  },
  {
   "cell_type": "code",
   "execution_count": null,
   "metadata": {},
   "outputs": [],
   "source": []
  }
 ],
 "metadata": {
  "kernelspec": {
   "display_name": "Python 3",
   "language": "python",
   "name": "python3"
  },
  "language_info": {
   "codemirror_mode": {
    "name": "ipython",
    "version": 3
   },
   "file_extension": ".py",
   "mimetype": "text/x-python",
   "name": "python",
   "nbconvert_exporter": "python",
   "pygments_lexer": "ipython3",
   "version": "3.12.3"
  }
 },
 "nbformat": 4,
 "nbformat_minor": 2
}
