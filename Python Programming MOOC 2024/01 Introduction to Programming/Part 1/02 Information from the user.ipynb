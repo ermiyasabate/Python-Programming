{
 "cells": [
  {
   "cell_type": "markdown",
   "metadata": {},
   "source": [
    "# Information from the user\n",
    "\n",
    "Input refers to any information a user gives to the program. Specifically, the Python command input reads in a line of input typed in by the user. It may also be used to display a message to the user, to prompt for specific input.\n",
    "\n",
    "The following program reads in the name of the user with the input command. It then prints it out with the print command:"
   ]
  },
  {
   "cell_type": "code",
   "execution_count": 1,
   "metadata": {},
   "outputs": [
    {
     "name": "stdout",
     "output_type": "stream",
     "text": [
      "Hi there, Python\n"
     ]
    }
   ],
   "source": [
    "name = input(\"What is your name? \")\n",
    "print(\"Hi there, \" + name)"
   ]
  },
  {
   "cell_type": "markdown",
   "metadata": {},
   "source": [
    "The execution of this program could look like this (input from the user in red):\n",
    "\n",
    "Sample output<br>\n",
    "<code>What is your name? Paul Python</code><br>\n",
    "<code>Hi there, Paul Python</code>"
   ]
  },
  {
   "cell_type": "markdown",
   "metadata": {},
   "source": [
    "The word name in this program is a variable. In the context of programming, a variable is a location for storing some value, such as a string or a number. This value can be used later, and it can also be changed.\n",
    "\n",
    "#### Naming variables\n",
    "In principle, variables can be named quite freely, within certain limits specified in the Python language.\n",
    "\n",
    "It is a common international programming practice to name variables in English, but you may come across code where variables are named in other languages, such as the native language of the programmer. The name of the variable has no direct effect on its content, so the name, in that sense, does not matter. However, it can often be helpful in understanding how code functions if variables are named logically and in English."
   ]
  },
  {
   "cell_type": "markdown",
   "metadata": {},
   "source": [
    "<hr/>\n",
    "<div class=\"alert alert-danger alertsuccess\" style=\"margin-top: 20px\">\n",
    "<b><h3>Programming exercise:</h3></b>\n",
    "<p><b>Name twice<br></b>\n",
    "Please write a program which asks for the user's name and then prints it twice, on two consecutive lines.\n",
    "\n",
    "An example of the how the program should function:<br>\n",
    "<code>\n",
    "What is your name? Paul<br>\n",
    "Paul<br>\n",
    "Paul\n",
    "</code>\n",
    "</p>\n",
    "</div>\n",
    "<hr/>"
   ]
  },
  {
   "cell_type": "code",
   "execution_count": 2,
   "metadata": {},
   "outputs": [
    {
     "name": "stdout",
     "output_type": "stream",
     "text": [
      "Paul\n",
      "Paul\n"
     ]
    }
   ],
   "source": [
    "# Write your solution here\n",
    "name = input(\"What is your name?\")\n",
    "print(name)\n",
    "print(name)"
   ]
  },
  {
   "cell_type": "markdown",
   "metadata": {},
   "source": [
    "## Referencing a variable\n",
    "A single variable can be referred to many times in a program:"
   ]
  },
  {
   "cell_type": "code",
   "execution_count": 3,
   "metadata": {},
   "outputs": [
    {
     "name": "stdout",
     "output_type": "stream",
     "text": [
      "Hi, Paul Python!\n",
      "Paul Python is quite a nice name.\n"
     ]
    }
   ],
   "source": [
    "name = input(\"What is your name? \")\n",
    "\n",
    "print(\"Hi, \" + name + \"!\")\n",
    "print(name + \" is quite a nice name.\")"
   ]
  },
  {
   "cell_type": "markdown",
   "metadata": {},
   "source": [
    "Let's have a closer look at the way the print command is used above. Within the brackets of the command there is both text in quotation marks as well as variable names which refer to input from the user. These have been combined with a + operator, which concatenates two strings into a single string.\n",
    "\n",
    "Strings and variables can be combined quite freely:"
   ]
  },
  {
   "cell_type": "code",
   "execution_count": 4,
   "metadata": {},
   "outputs": [
    {
     "name": "stdout",
     "output_type": "stream",
     "text": [
      "Hi Ellen Example! Let me make sure: your name is Ellen Example?\n"
     ]
    }
   ],
   "source": [
    "name = input(\"What is your name? \")\n",
    "\n",
    "print(\"Hi \" + name + \"! Let me make sure: your name is \" + name + \"?\")"
   ]
  },
  {
   "cell_type": "markdown",
   "metadata": {},
   "source": [
    "<hr/>\n",
    "<div class=\"alert alert-danger alertsuccess\" style=\"margin-top: 20px\">\n",
    "<b><h3>Programming exercise:</h3></b>\n",
    "<p><b>Name and exclamation marks<br></b>\n",
    "Please write a program which asks for the user's name and then prints it out twice on a single line so that there is an exclamation mark at the beginning of the line, another between the two names and a third one at the end of the line.\n",
    "\n",
    "The program should function as follows:<br>\n",
    "<code>\n",
    "What is your name? Paul<br>\n",
    "!Paul!Paul!\n",
    "</code>\n",
    "</p>\n",
    "</div>\n",
    "<hr/>"
   ]
  },
  {
   "cell_type": "code",
   "execution_count": 5,
   "metadata": {},
   "outputs": [
    {
     "name": "stdout",
     "output_type": "stream",
     "text": [
      "!Paul!Paul!\n"
     ]
    }
   ],
   "source": [
    "# Write your solution here\n",
    "name = input(\"What is your name?\")\n",
    "print(\"!\" + name + \"!\" + name + \"!\")"
   ]
  },
  {
   "cell_type": "markdown",
   "metadata": {},
   "source": [
    "## More than one input\n",
    "A program can ask for more than one input. Notice how below each input command stores the received value in a different variable."
   ]
  },
  {
   "cell_type": "code",
   "execution_count": 6,
   "metadata": {},
   "outputs": [
    {
     "name": "stdout",
     "output_type": "stream",
     "text": [
      "Let's make sure we got this right\n",
      "Your name: Frances Fictitious\n",
      "Your email address: frances99@example.com\n",
      "Your nickname: Fran\n"
     ]
    }
   ],
   "source": [
    "name = input(\"What is your name? \")\n",
    "email = input(\"What is your email address? \")\n",
    "nickname = input(\"What is your nickname? \")\n",
    "\n",
    "print(\"Let's make sure we got this right\")\n",
    "print(\"Your name: \" + name)\n",
    "print(\"Your email address: \" + email)\n",
    "print(\"Your nickname: \" + nickname)"
   ]
  },
  {
   "cell_type": "markdown",
   "metadata": {},
   "source": [
    "If the same variable is used to store more than one input, each new value will replace the previous one. For example:"
   ]
  },
  {
   "cell_type": "code",
   "execution_count": 7,
   "metadata": {},
   "outputs": [
    {
     "name": "stdout",
     "output_type": "stream",
     "text": [
      "So you live at address Python Path 101, Flat 3D\n",
      "Your address is now New Road 999\n"
     ]
    }
   ],
   "source": [
    "address = input(\"What is your address? \")\n",
    "print(\"So you live at address \" + address)\n",
    "\n",
    "address = input(\"Please type in a new address: \")\n",
    "print(\"Your address is now \" + address)"
   ]
  },
  {
   "cell_type": "markdown",
   "metadata": {},
   "source": [
    "This means that if the same variable is used to store two inputs in succession, there is no way to access the first input value after it has been replaced by the second:"
   ]
  },
  {
   "cell_type": "code",
   "execution_count": 8,
   "metadata": {},
   "outputs": [
    {
     "name": "stdout",
     "output_type": "stream",
     "text": [
      "Your address is now Programmer's Walk 23\n"
     ]
    }
   ],
   "source": [
    "address = input(\"What is your address? \")\n",
    "address = input(\"Please type in a new address: \")\n",
    "\n",
    "print(\"Your address is now \" + address)"
   ]
  },
  {
   "cell_type": "markdown",
   "metadata": {},
   "source": [
    "<hr/>\n",
    "<div class=\"alert alert-danger alertsuccess\" style=\"margin-top: 20px\">\n",
    "<b><h3>Programming exercise:</h3></b>\n",
    "<p><b>Name and address<br></b>\n",
    "Please write a program which asks for the user's name and address. The program should also print out the given information, as follows:<br>\n",
    "<code>\n",
    "Given name: Steve<br>\n",
    "Family name: Sanders<br>\n",
    "Street address: 91 Station Road<br>\n",
    "City and postal code: London EC05 6AW<br>\n",
    "Steve Sanders<br>\n",
    "91 Station Road<br>\n",
    "London EC05 6AW\n",
    "</code>\n",
    "\n",
    "</p>\n",
    "</div>\n",
    "<hr/>"
   ]
  },
  {
   "cell_type": "code",
   "execution_count": 11,
   "metadata": {},
   "outputs": [
    {
     "name": "stdout",
     "output_type": "stream",
     "text": [
      "Steve Sanders\n",
      "91 Station Road\n",
      "London EC05 6AW\n"
     ]
    }
   ],
   "source": [
    "# Write your solution here\n",
    "givenName = input(\"Given name: \")\n",
    "familyName = input(\"Family name: \")\n",
    "streetAddress = input(\"Street address: \")\n",
    "cityAndPostalCode = input(\"City and postal code: \")\n",
    "\n",
    "print(givenName + \" \" + familyName)\n",
    "print(streetAddress)\n",
    "print(cityAndPostalCode)"
   ]
  },
  {
   "cell_type": "markdown",
   "metadata": {},
   "source": [
    "<hr/>\n",
    "<div class=\"alert alert-danger alertsuccess\" style=\"margin-top: 20px\">\n",
    "<b><h3>Programming exercise:</h3></b>\n",
    "<p><b>Fix the code: Utterances<br></b>\n",
    "Here is a program which should ask for three utterances and print them out, like so:<br>\n",
    "<code>\n",
    "The 1st part: hickory<br>\n",
    "The 2nd part: dickory<br>\n",
    "The 3rd part: dock<br>\n",
    "hickory-dickory-dock!\n",
    "\n",
    "\n",
    "Fix the code<br>\n",
    "part = input(\"The 1st part: \")<br>\n",
    "part = input(\"The 1st part: \")<br>\n",
    "part = input(\"The 1st part: \")<br>\n",
    "print(part + part + part)\n",
    "</code>\n",
    "\n",
    "</p>\n",
    "</div>\n",
    "<hr/>"
   ]
  },
  {
   "cell_type": "code",
   "execution_count": 13,
   "metadata": {},
   "outputs": [
    {
     "name": "stdout",
     "output_type": "stream",
     "text": [
      "hickory-dickory-dock\n"
     ]
    }
   ],
   "source": [
    "# Fix the code\n",
    "partOne = input(\"The 1st part: \")\n",
    "partTwo = input(\"The 2nd part: \")\n",
    "partThree = input(\"The 3r part: \")\n",
    "print(partOne + \"-\" + partTwo + \"-\" + partThree + \"!\")\n"
   ]
  },
  {
   "cell_type": "markdown",
   "metadata": {},
   "source": [
    "<hr/>\n",
    "<div class=\"alert alert-danger alertsuccess\" style=\"margin-top: 20px\">\n",
    "<b><h3>Programming exercise:</h3></b>\n",
    "<p><b>Story<br></b>\n",
    "Please write a program which prints out the following story. The user gives a name and a year, which should be inserted into the printout.<br><br>\n",
    "\n",
    "<code>\n",
    "Please type in a name: Mary<br>\n",
    "Please type in a year: 1572\n",
    "</code>\n",
    "\n",
    "Mary is a valiant knight, born in the year 1572. One morning Mary woke up to an awful racket: a dragon was approaching the village. Only Mary could save the village's residents.\n",
    "\n",
    "The story should change according to the input given by the user.\n",
    "</p>\n",
    "</div>\n",
    "<hr/>"
   ]
  },
  {
   "cell_type": "code",
   "execution_count": null,
   "metadata": {},
   "outputs": [],
   "source": []
  }
 ],
 "metadata": {
  "kernelspec": {
   "display_name": "Python 3",
   "language": "python",
   "name": "python3"
  },
  "language_info": {
   "codemirror_mode": {
    "name": "ipython",
    "version": 3
   },
   "file_extension": ".py",
   "mimetype": "text/x-python",
   "name": "python",
   "nbconvert_exporter": "python",
   "pygments_lexer": "ipython3",
   "version": "3.12.3"
  }
 },
 "nbformat": 4,
 "nbformat_minor": 2
}
