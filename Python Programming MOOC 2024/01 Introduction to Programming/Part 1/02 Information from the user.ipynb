{
 "cells": [
  {
   "cell_type": "markdown",
   "metadata": {},
   "source": [
    "# Information from the user\n",
    "\n",
    "Input refers to any information a user gives to the program. Specifically, the Python command input reads in a line of input typed in by the user. It may also be used to display a message to the user, to prompt for specific input.\n",
    "\n",
    "The following program reads in the name of the user with the input command. It then prints it out with the print command:"
   ]
  },
  {
   "cell_type": "code",
   "execution_count": 1,
   "metadata": {},
   "outputs": [
    {
     "name": "stdout",
     "output_type": "stream",
     "text": [
      "Hi there, Python\n"
     ]
    }
   ],
   "source": [
    "name = input(\"What is your name? \")\n",
    "print(\"Hi there, \" + name)"
   ]
  },
  {
   "cell_type": "markdown",
   "metadata": {},
   "source": [
    "The execution of this program could look like this (input from the user in red):\n",
    "\n",
    "Sample output<br>\n",
    "<code>What is your name? Paul Python</code><br>\n",
    "<code>Hi there, Paul Python</code>"
   ]
  },
  {
   "cell_type": "markdown",
   "metadata": {},
   "source": [
    "The word name in this program is a variable. In the context of programming, a variable is a location for storing some value, such as a string or a number. This value can be used later, and it can also be changed.\n",
    "\n",
    "#### Naming variables\n",
    "In principle, variables can be named quite freely, within certain limits specified in the Python language.\n",
    "\n",
    "It is a common international programming practice to name variables in English, but you may come across code where variables are named in other languages, such as the native language of the programmer. The name of the variable has no direct effect on its content, so the name, in that sense, does not matter. However, it can often be helpful in understanding how code functions if variables are named logically and in English."
   ]
  },
  {
   "cell_type": "markdown",
   "metadata": {},
   "source": [
    "<hr/>\n",
    "<div class=\"alert alert-danger alertsuccess\" style=\"margin-top: 20px\">\n",
    "<b><h3>Programming exercise:</h3></b>\n",
    "<p><b>Name twice<br></b>\n",
    "Please write a program which asks for the user's name and then prints it twice, on two consecutive lines.\n",
    "\n",
    "An example of the how the program should function:<br>\n",
    "<code>\n",
    "What is your name? Paul<br>\n",
    "Paul<br>\n",
    "Paul\n",
    "</code>\n",
    "</p>\n",
    "</div>\n",
    "<hr/>"
   ]
  },
  {
   "cell_type": "code",
   "execution_count": 2,
   "metadata": {},
   "outputs": [
    {
     "name": "stdout",
     "output_type": "stream",
     "text": [
      "Paul\n",
      "Paul\n"
     ]
    }
   ],
   "source": [
    "# Write your solution here\n",
    "name = input(\"What is your name?\")\n",
    "print(name)\n",
    "print(name)"
   ]
  },
  {
   "cell_type": "code",
   "execution_count": null,
   "metadata": {},
   "outputs": [],
   "source": []
  }
 ],
 "metadata": {
  "kernelspec": {
   "display_name": "Python 3",
   "language": "python",
   "name": "python3"
  },
  "language_info": {
   "codemirror_mode": {
    "name": "ipython",
    "version": 3
   },
   "file_extension": ".py",
   "mimetype": "text/x-python",
   "name": "python",
   "nbconvert_exporter": "python",
   "pygments_lexer": "ipython3",
   "version": "3.12.3"
  }
 },
 "nbformat": 4,
 "nbformat_minor": 2
}
