{
 "cells": [
  {
   "cell_type": "markdown",
   "metadata": {},
   "source": [
    "# Conditional statements\n",
    "\n",
    "Thus far, every program we have written has been executed line by line in order. Instead of executing every line of code every single time a program is run, it is often useful to create sections of the program which are are only executed in certain situations.\n",
    "\n",
    "For example, the following code checks whether the user is of age:"
   ]
  },
  {
   "cell_type": "code",
   "execution_count": 1,
   "metadata": {},
   "outputs": [
    {
     "name": "stdout",
     "output_type": "stream",
     "text": [
      "You are of age!\n",
      "Here's a copy of GTA6 for you.\n",
      "Next customer, please!\n"
     ]
    }
   ],
   "source": [
    "age = int(input(\"How old are you\"))\n",
    "\n",
    "if age > 17:\n",
    "    print(\"You are of age!\")\n",
    "    print(\"Here's a copy of GTA6 for you.\")\n",
    "\n",
    "print(\"Next customer, please!\")"
   ]
  },
  {
   "cell_type": "code",
   "execution_count": 2,
   "metadata": {},
   "outputs": [
    {
     "name": "stdout",
     "output_type": "stream",
     "text": [
      "Next customer, please!\n"
     ]
    }
   ],
   "source": [
    "age = int(input(\"How old are you\"))\n",
    "\n",
    "if age > 17:\n",
    "    print(\"You are of age!\")\n",
    "    print(\"Here's a copy of GTA6 for you.\")\n",
    "\n",
    "print(\"Next customer, please!\")"
   ]
  },
  {
   "cell_type": "markdown",
   "metadata": {},
   "source": [
    "These examples show us that the value given as input affects which parts of the program are executed. The program contains a conditional statement with a block of code which is executed only if the condition in the statement is true.\n",
    "\n",
    "![Alt text](https://programming-24.mooc.fi/static/416cb381134e2a6b8d72caecc6260d5a/30f41/1_5_1.webp \"a title\")"
   ]
  },
  {
   "cell_type": "markdown",
   "metadata": {},
   "source": [
    "In a conditional statement the keyword if is followed by a condition, such as a comparison of two values. The code block following this header line is only executed if the condition is true.\n",
    "\n",
    "Notice the colon character following the if header. In the following code there is no colon:"
   ]
  },
  {
   "cell_type": "code",
   "execution_count": 3,
   "metadata": {},
   "outputs": [
    {
     "ename": "SyntaxError",
     "evalue": "expected ':' (1964406521.py, line 4)",
     "output_type": "error",
     "traceback": [
      "\u001b[1;36m  Cell \u001b[1;32mIn[3], line 4\u001b[1;36m\u001b[0m\n\u001b[1;33m    if age > 17\u001b[0m\n\u001b[1;37m               ^\u001b[0m\n\u001b[1;31mSyntaxError\u001b[0m\u001b[1;31m:\u001b[0m expected ':'\n"
     ]
    }
   ],
   "source": [
    "age = 10\n",
    "\n",
    "# no colon at the end of the following line\n",
    "if age > 17\n",
    "    print(\"You are of age.\")"
   ]
  },
  {
   "cell_type": "markdown",
   "metadata": {},
   "source": [
    "## Comparison operators\n",
    "Very typically conditions consist of comparing two values. Here is a table with the most common comparison operators used in Python:\n",
    "\n",
    "![Alt text](../../Image/Comparision.PNG \"a title\")"
   ]
  },
  {
   "cell_type": "code",
   "execution_count": null,
   "metadata": {},
   "outputs": [],
   "source": []
  }
 ],
 "metadata": {
  "kernelspec": {
   "display_name": "Python 3",
   "language": "python",
   "name": "python3"
  },
  "language_info": {
   "codemirror_mode": {
    "name": "ipython",
    "version": 3
   },
   "file_extension": ".py",
   "mimetype": "text/x-python",
   "name": "python",
   "nbconvert_exporter": "python",
   "pygments_lexer": "ipython3",
   "version": "3.12.3"
  }
 },
 "nbformat": 4,
 "nbformat_minor": 2
}
