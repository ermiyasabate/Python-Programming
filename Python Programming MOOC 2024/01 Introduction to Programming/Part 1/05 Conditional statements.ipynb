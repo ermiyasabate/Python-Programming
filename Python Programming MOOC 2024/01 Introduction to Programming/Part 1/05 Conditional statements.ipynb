{
 "cells": [
  {
   "cell_type": "markdown",
   "metadata": {},
   "source": [
    "# Conditional statements\n",
    "\n",
    "Thus far, every program we have written has been executed line by line in order. Instead of executing every line of code every single time a program is run, it is often useful to create sections of the program which are are only executed in certain situations.\n",
    "\n",
    "For example, the following code checks whether the user is of age:"
   ]
  },
  {
   "cell_type": "code",
   "execution_count": 1,
   "metadata": {},
   "outputs": [
    {
     "name": "stdout",
     "output_type": "stream",
     "text": [
      "You are of age!\n",
      "Here's a copy of GTA6 for you.\n",
      "Next customer, please!\n"
     ]
    }
   ],
   "source": [
    "age = int(input(\"How old are you\"))\n",
    "\n",
    "if age > 17:\n",
    "    print(\"You are of age!\")\n",
    "    print(\"Here's a copy of GTA6 for you.\")\n",
    "\n",
    "print(\"Next customer, please!\")"
   ]
  },
  {
   "cell_type": "code",
   "execution_count": 2,
   "metadata": {},
   "outputs": [
    {
     "name": "stdout",
     "output_type": "stream",
     "text": [
      "Next customer, please!\n"
     ]
    }
   ],
   "source": [
    "age = int(input(\"How old are you\"))\n",
    "\n",
    "if age > 17:\n",
    "    print(\"You are of age!\")\n",
    "    print(\"Here's a copy of GTA6 for you.\")\n",
    "\n",
    "print(\"Next customer, please!\")"
   ]
  },
  {
   "cell_type": "code",
   "execution_count": null,
   "metadata": {},
   "outputs": [],
   "source": []
  }
 ],
 "metadata": {
  "kernelspec": {
   "display_name": "Python 3",
   "language": "python",
   "name": "python3"
  },
  "language_info": {
   "codemirror_mode": {
    "name": "ipython",
    "version": 3
   },
   "file_extension": ".py",
   "mimetype": "text/x-python",
   "name": "python",
   "nbconvert_exporter": "python",
   "pygments_lexer": "ipython3",
   "version": "3.12.3"
  }
 },
 "nbformat": 4,
 "nbformat_minor": 2
}
