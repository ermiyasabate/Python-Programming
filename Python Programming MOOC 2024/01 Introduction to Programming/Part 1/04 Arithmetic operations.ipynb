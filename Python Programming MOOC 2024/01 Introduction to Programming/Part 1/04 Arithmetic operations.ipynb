{
 "cells": [
  {
   "cell_type": "markdown",
   "metadata": {},
   "source": [
    "# Arithmetic operations"
   ]
  },
  {
   "cell_type": "code",
   "execution_count": 6,
   "metadata": {},
   "outputs": [
    {
     "name": "stdout",
     "output_type": "stream",
     "text": [
      "Addition: 30\n",
      "Subtraction: 20\n",
      "Multiplication: 125\n",
      "Division (floating point result): 5.0\n",
      "Division (integer result): 5\n",
      "Modulo: 0\n",
      "Exponentiation: 9765625\n"
     ]
    }
   ],
   "source": [
    "num1 = 25\n",
    "num2 = 5\n",
    "\n",
    "# Addition\n",
    "print(f\"Addition: {num1 + num2}\")\n",
    "\n",
    "# Subtraction\n",
    "print(f\"Subtraction: {num1 - num2}\")\n",
    "\n",
    "# Multiplication\n",
    "print(f\"Multiplication: {num1 * num2}\")\n",
    "\n",
    "# Division (floating point result)\n",
    "print(f\"Division (floating point result): {num1 / num2}\")\n",
    "\n",
    "# Division (integer result)\n",
    "print(f\"Division (integer result): {num1 // num2}\")\n",
    "\n",
    "# Modulo\n",
    "print(f\"Modulo: {num1 % num2}\")\n",
    "\n",
    "# Exponentiation\n",
    "print(f\"Exponentiation: {num1 ** num2}\")"
   ]
  },
  {
   "cell_type": "code",
   "execution_count": 7,
   "metadata": {},
   "outputs": [
    {
     "name": "stdout",
     "output_type": "stream",
     "text": [
      "Addition: 11\n",
      "Subtraction: 7\n",
      "Multiplication: 18\n",
      "Division (floating point result): 4.5\n",
      "Division (integer result): 4\n",
      "Modulo: 1\n",
      "Exponentiation: 81\n"
     ]
    }
   ],
   "source": [
    "num1 = 9\n",
    "num2 = 2\n",
    "\n",
    "# Addition\n",
    "print(f\"Addition: {num1 + num2}\")\n",
    "\n",
    "# Subtraction\n",
    "print(f\"Subtraction: {num1 - num2}\")\n",
    "\n",
    "# Multiplication\n",
    "print(f\"Multiplication: {num1 * num2}\")\n",
    "\n",
    "# Division (floating point result)\n",
    "print(f\"Division (floating point result): {num1 / num2}\")\n",
    "\n",
    "# Division (integer result)\n",
    "print(f\"Division (integer result): {num1 // num2}\")\n",
    "\n",
    "# Modulo\n",
    "print(f\"Modulo: {num1 % num2}\")\n",
    "\n",
    "# Exponentiation\n",
    "print(f\"Exponentiation: {num1 ** num2}\")"
   ]
  },
  {
   "cell_type": "markdown",
   "metadata": {},
   "source": [
    "The order of operations is familiar from mathematics: first calculate the exponents, then multiplication and division, and finally addition and subtraction. The order can be changed with parentheses.\n",
    "\n",
    "For example this bit of code"
   ]
  },
  {
   "cell_type": "code",
   "execution_count": 8,
   "metadata": {},
   "outputs": [
    {
     "name": "stdout",
     "output_type": "stream",
     "text": [
      "11\n",
      "15\n"
     ]
    }
   ],
   "source": [
    "print(2 + 3 * 3)\n",
    "print((2 + 3) * 3)"
   ]
  },
  {
   "cell_type": "markdown",
   "metadata": {},
   "source": [
    "## Operands, operators and data types\n",
    "A calculation usually consists of operands and operators:\n",
    "\n",
    "![Alt text](https://programming-24.mooc.fi/static/f717f6a68e7b1bd3b3fb9cbe2898da5b/01668/1_4_1.webp \"a title\")\n",
    "\n",
    "\n",
    "The data type of an operand usually determines the data type of the result: if two integers are added together, the result will also be an integer. If a floating point number is subtracted from another floating point number, the result is a floating point number. In fact, if a single one of the operands in an expression is a floating point number, the result will also be a floating point number, regardless of the other operands.\n",
    "\n",
    "Division / is an exception to this rule. Its result is a floating point number, even if the operands are integers. For example 1 / 5 will result in the floating point number 0.2."
   ]
  },
  {
   "cell_type": "code",
   "execution_count": 18,
   "metadata": {},
   "outputs": [
    {
     "name": "stdout",
     "output_type": "stream",
     "text": [
      "The BMI is 23.037177063642087\n"
     ]
    }
   ],
   "source": [
    "height = 172.5\n",
    "weight = 68.55\n",
    "\n",
    "# the Body Mass Index, or BMI, is calculated by dividing body mass with the square of height\n",
    "# height is converted into metres in the formula\n",
    "bmi = weight / (height / 100) ** 2\n",
    "\n",
    "print(f\"The BMI is {bmi}\")"
   ]
  },
  {
   "cell_type": "markdown",
   "metadata": {},
   "source": [
    "Notice Python also has an integer division operator //. If the operands are integers, it will produce an integer. The result is rounded down to the nearest integer. For example this program"
   ]
  },
  {
   "cell_type": "code",
   "execution_count": 19,
   "metadata": {},
   "outputs": [
    {
     "name": "stdout",
     "output_type": "stream",
     "text": [
      "/ operator 1.5\n",
      "// operator 1\n"
     ]
    }
   ],
   "source": [
    "x = 3\n",
    "y = 2\n",
    "\n",
    "print(f\"/ operator {x/y}\")\n",
    "print(f\"// operator {x//y}\")"
   ]
  },
  {
   "cell_type": "markdown",
   "metadata": {},
   "source": [
    "## Numbers as input\n",
    "We have already used the input command to read in strings from the user. The same function can be used to read in numbers, but the string produced by the function must then be converted to a numeric data type in the program code. In the previous section we cast integers as strings with the str function. The same basic principle applies here, but the name of the casting function will be different.\n",
    "\n",
    "A string can be converted into an integer with the function int. The following program asks the user for their year of birth and stores it in the variable input_str. The program then creates another variable year, which contains the year converted into an integer. After this the calculation 2021-year is possible, using the user-supplied value."
   ]
  },
  {
   "cell_type": "code",
   "execution_count": 21,
   "metadata": {},
   "outputs": [
    {
     "name": "stdout",
     "output_type": "stream",
     "text": [
      "Your age at the end of the year 2024: 28\n"
     ]
    }
   ],
   "source": [
    "input_str = input(\"Which year were you born? \")\n",
    "year = int(input_str)\n",
    "print(f\"Your age at the end of the year 2024: {2024 - year}\" )"
   ]
  },
  {
   "cell_type": "markdown",
   "metadata": {},
   "source": [
    "Usually you do not need to create two separate variables (like input_str and year above) to read a number value from the user. Instead, reading the input with the input function and converting it with the int function can be achieved in one go:"
   ]
  },
  {
   "cell_type": "code",
   "execution_count": 23,
   "metadata": {},
   "outputs": [
    {
     "name": "stdout",
     "output_type": "stream",
     "text": [
      "Your age at the end of the year 2024: 28\n"
     ]
    }
   ],
   "source": [
    "year = int(input(\"Which year were you born? \"))\n",
    "print(f\"Your age at the end of the year 2024: {2024 - year}\" )"
   ]
  },
  {
   "cell_type": "markdown",
   "metadata": {},
   "source": [
    "Similarly, a string can be converted into a floating point number with the function float. This programs asks the user for their height and weight, and uses these to calculate their BMI:"
   ]
  },
  {
   "cell_type": "code",
   "execution_count": 24,
   "metadata": {},
   "outputs": [
    {
     "name": "stdout",
     "output_type": "stream",
     "text": [
      "The BMI is 22.49134948096886\n"
     ]
    }
   ],
   "source": [
    "height = float(input(\"What is your height? \"))\n",
    "weight = float(input(\"What is your weight? \"))\n",
    "\n",
    "height = height / 100\n",
    "bmi = weight / height ** 2\n",
    "\n",
    "print(f\"The BMI is {bmi}\")"
   ]
  },
  {
   "cell_type": "markdown",
   "metadata": {},
   "source": [
    "<hr/>\n",
    "<div class=\"alert alert-danger alertsuccess\" style=\"margin-top: 20px\">\n",
    "<b><h3>Programming exercise:</h3></b>\n",
    "<p><b>Times five<br></b>\n",
    "Please write a program which asks the user for a number. The program then prints out the number multiplied by five.\n",
    "\n",
    "The program should function as follows:<br>\n",
    "<code>Please type in a number: 3<br>\n",
    "3 times 5 is 15</code><br></p>\n",
    "</div>\n",
    "<hr/>"
   ]
  },
  {
   "cell_type": "code",
   "execution_count": 25,
   "metadata": {},
   "outputs": [
    {
     "name": "stdout",
     "output_type": "stream",
     "text": [
      "3 time 5 is 15\n"
     ]
    }
   ],
   "source": [
    "num = int(input(\"Please type in a number: \"))\n",
    "\n",
    "print(f\"{num} time 5 is {num * 5}\")"
   ]
  },
  {
   "cell_type": "markdown",
   "metadata": {},
   "source": [
    "<hr/>\n",
    "<div class=\"alert alert-danger alertsuccess\" style=\"margin-top: 20px\">\n",
    "<b><h3>Programming exercise:</h3></b>\n",
    "<p><b>Name and age<br></b>\n",
    "Please write a program which asks the user for their name and year of birth. The program then prints out a message as follows:<br>\n",
    "<code>What is your name? Frances Fictitious<br>\n",
    "Which year were you born? 1990<br>\n",
    "Hi Frances Fictitious, you will be 31 years old at the end of the year 2021</code><br></p>\n",
    "</div>\n",
    "<hr/>"
   ]
  },
  {
   "cell_type": "code",
   "execution_count": 26,
   "metadata": {},
   "outputs": [
    {
     "name": "stdout",
     "output_type": "stream",
     "text": [
      "Hi Frances Fictitious, you will be 31 years old at the end of the year 2021\n"
     ]
    }
   ],
   "source": [
    "name = input(\"What is your name?\")\n",
    "year = int(input(\"Which year were you born?\"))\n",
    "\n",
    "print(f\"Hi {name}, you will be {2021 - year} years old at the end of the year 2021\")"
   ]
  },
  {
   "cell_type": "markdown",
   "metadata": {},
   "source": [
    "## Using variables\n",
    "Let's have a look at a program which calculates the sum of three numbers given by the user:"
   ]
  },
  {
   "cell_type": "code",
   "execution_count": 28,
   "metadata": {},
   "outputs": [
    {
     "name": "stdout",
     "output_type": "stream",
     "text": [
      "The sum of the numbers: 33\n"
     ]
    }
   ],
   "source": [
    "number1 = int(input(\"First number: \"))\n",
    "number2 = int(input(\"Second number: \"))\n",
    "number3 = int(input(\"Third number: \"))\n",
    "\n",
    "sum = number1 + number2 + number3\n",
    "print(f\"The sum of the numbers: {sum}\")"
   ]
  },
  {
   "cell_type": "markdown",
   "metadata": {},
   "source": [
    "In fact, we don't necessarily need the variable number at all. The inputs from the user can also be processed like this:"
   ]
  },
  {
   "cell_type": "code",
   "execution_count": 29,
   "metadata": {},
   "outputs": [
    {
     "name": "stdout",
     "output_type": "stream",
     "text": [
      "The sum of the numbers: 33\n"
     ]
    }
   ],
   "source": [
    "sum = 0\n",
    "\n",
    "sum += int(input(\"First number: \"))\n",
    "sum += int(input(\"Second number: \"))\n",
    "sum += int(input(\"Third number: \"))\n",
    "\n",
    "print(f\"The sum of the numbers: {sum}\")"
   ]
  },
  {
   "cell_type": "markdown",
   "metadata": {},
   "source": [
    "Of course, it will depend on the context how many variables are needed. If it is required to remember each value the user inputs, it will not be possible to \"reuse\" the same variable to read different values from the user. Consider the following:"
   ]
  },
  {
   "cell_type": "code",
   "execution_count": 30,
   "metadata": {},
   "outputs": [
    {
     "name": "stdout",
     "output_type": "stream",
     "text": [
      "12 + 21 = 33\n"
     ]
    }
   ],
   "source": [
    "number1 = int(input(\"First number: \"))\n",
    "number2 = int(input(\"Second number: \"))\n",
    "\n",
    "print(f\"{number1} + {number2} = {number1+number2}\")"
   ]
  },
  {
   "cell_type": "markdown",
   "metadata": {},
   "source": [
    "<hr/>\n",
    "<div class=\"alert alert-danger alertsuccess\" style=\"margin-top: 20px\">\n",
    "<b><h3>Programming exercise:</h3></b>\n",
    "<p>\n",
    "<b>Seconds in a day<br></b>\n",
    "Please write a program which asks the user for a number of days. The program then prints out the number of seconds in the amount of days given.\n",
    "\n",
    "The program should function as follows:<br>\n",
    "<code>How many days? 1<br>\n",
    "Seconds in that many days: 86400</code><br>\n",
    "\n",
    "Another example:<br>\n",
    "<code>How many days? 7<br>\n",
    "Seconds in that many days: 604800</code><br>\n",
    "</p>\n",
    "</div>\n",
    "<hr/>"
   ]
  },
  {
   "cell_type": "code",
   "execution_count": 31,
   "metadata": {},
   "outputs": [
    {
     "name": "stdout",
     "output_type": "stream",
     "text": [
      "Seconds in that many days: 604800\n"
     ]
    }
   ],
   "source": [
    "days = int(input(\"How many days?\"))\n",
    "seconds = (((days * 24) * 60) * 60)\n",
    "\n",
    "print(f\"Seconds in that many days: {seconds}\")"
   ]
  },
  {
   "cell_type": "markdown",
   "metadata": {},
   "source": [
    "<hr/>\n",
    "<div class=\"alert alert-danger alertsuccess\" style=\"margin-top: 20px\">\n",
    "<b><h3>Programming exercise:</h3></b>\n",
    "<p>\n",
    "<b>Fix the code: Product<br></b>\n",
    "This program asks the user for three numbers. The program then prints out their product, that is, the numbers multiplied by each other. There is, however, something wrong with the program - it doesn't work quite right, as you can see if you run it. Please fix it.\n",
    "\n",
    "An example of the expected execution of the program:<br>\n",
    "<code>Please type in the first number: 2<br>\n",
    "Please type in the second number: 3<br>\n",
    "Please type in the third number: 5<br>\n",
    "The product is 30</code><br>\n",
    "</p>\n",
    "</div>\n",
    "<hr/>"
   ]
  },
  {
   "cell_type": "code",
   "execution_count": 32,
   "metadata": {},
   "outputs": [
    {
     "name": "stdout",
     "output_type": "stream",
     "text": [
      "The product is 2184\n"
     ]
    }
   ],
   "source": [
    "# Fix the code\n",
    "number1 = int(input(\"Please type in the first number: \"))\n",
    "number2 = int(input(\"Please type in the second number: \"))\n",
    "number3 = int(input(\"Please type in the third number: \"))\n",
    "\n",
    "product = number1 * number2 * number3\n",
    "\n",
    "print(\"The product is\", product)\n"
   ]
  },
  {
   "cell_type": "markdown",
   "metadata": {},
   "source": [
    "<hr/>\n",
    "<div class=\"alert alert-danger alertsuccess\" style=\"margin-top: 20px\">\n",
    "<b><h3>Programming exercise:</h3></b>\n",
    "<p>\n",
    "<b>Sum and product<br></b>\n",
    "Please write a program which asks the user for two numbers. The program will then print out the sum and the product of the two numbers.\n",
    "\n",
    "The program should function as follows:<br>\n",
    "<code>Number 1: 3<br>\n",
    "Number 2: 7<br>\n",
    "The sum of the numbers: 10<br>\n",
    "The product of the numbers: 21</code><br>\n",
    "</p>\n",
    "</div>\n",
    "<hr/>"
   ]
  },
  {
   "cell_type": "code",
   "execution_count": 35,
   "metadata": {},
   "outputs": [
    {
     "name": "stdout",
     "output_type": "stream",
     "text": [
      "The sum of the numbers: 33\n",
      "The product of the numbers: 252\n"
     ]
    }
   ],
   "source": [
    "num1 = float(input(\"Number 1:\"))\n",
    "num2 = float(input(\"Number 2:\"))\n",
    "\n",
    "print(f\"The sum of the numbers: {num1 + num2:.0f}\")\n",
    "print(f\"The product of the numbers: {num1 * num2:.0f}\")"
   ]
  },
  {
   "cell_type": "markdown",
   "metadata": {},
   "source": [
    "<hr/>\n",
    "<div class=\"alert alert-danger alertsuccess\" style=\"margin-top: 20px\">\n",
    "<b><h3>Programming exercise:</h3></b>\n",
    "<p>\n",
    "<b>Sum and mean<br></b>\n",
    "Please write a program which asks the user for four numbers. The program then prints out the sum and the mean of the numbers.\n",
    "\n",
    "The program should function as follows:<br>\n",
    "<code>Number 1: 2<br>\n",
    "Number 2: 1<br>\n",
    "Number 3: 6<br>\n",
    "Number 4: 7<br>\n",
    "The sum of the numbers is 16 and the mean is 4.0</code><br>\n",
    "</p>\n",
    "</div>\n",
    "<hr/>"
   ]
  },
  {
   "cell_type": "code",
   "execution_count": 36,
   "metadata": {},
   "outputs": [
    {
     "name": "stdout",
     "output_type": "stream",
     "text": [
      "The sum of the numbers is 16 and the mean is 4.0\n"
     ]
    }
   ],
   "source": [
    "num1 = float(input(\"Number 1:\"))\n",
    "num2 = float(input(\"Number 2:\"))\n",
    "num3 = float(input(\"Number 3:\"))\n",
    "num4 = float(input(\"Number 4:\"))\n",
    "sum = num1 + num2 + num3 + num4\n",
    "mean = sum / 4\n",
    "\n",
    "print(f\"The sum of the numbers is {sum:.0f} and the mean is {mean}\")"
   ]
  },
  {
   "cell_type": "code",
   "execution_count": null,
   "metadata": {},
   "outputs": [],
   "source": []
  }
 ],
 "metadata": {
  "kernelspec": {
   "display_name": "Python 3",
   "language": "python",
   "name": "python3"
  },
  "language_info": {
   "codemirror_mode": {
    "name": "ipython",
    "version": 3
   },
   "file_extension": ".py",
   "mimetype": "text/x-python",
   "name": "python",
   "nbconvert_exporter": "python",
   "pygments_lexer": "ipython3",
   "version": "3.12.3"
  }
 },
 "nbformat": 4,
 "nbformat_minor": 2
}
