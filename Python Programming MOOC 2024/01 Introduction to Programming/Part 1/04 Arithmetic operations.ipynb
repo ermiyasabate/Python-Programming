{
 "cells": [
  {
   "cell_type": "markdown",
   "metadata": {},
   "source": [
    "# Arithmetic operations"
   ]
  },
  {
   "cell_type": "code",
   "execution_count": 6,
   "metadata": {},
   "outputs": [
    {
     "name": "stdout",
     "output_type": "stream",
     "text": [
      "Addition: 30\n",
      "Subtraction: 20\n",
      "Multiplication: 125\n",
      "Division (floating point result): 5.0\n",
      "Division (integer result): 5\n",
      "Modulo: 0\n",
      "Exponentiation: 9765625\n"
     ]
    }
   ],
   "source": [
    "num1 = 25\n",
    "num2 = 5\n",
    "\n",
    "# Addition\n",
    "print(f\"Addition: {num1 + num2}\")\n",
    "\n",
    "# Subtraction\n",
    "print(f\"Subtraction: {num1 - num2}\")\n",
    "\n",
    "# Multiplication\n",
    "print(f\"Multiplication: {num1 * num2}\")\n",
    "\n",
    "# Division (floating point result)\n",
    "print(f\"Division (floating point result): {num1 / num2}\")\n",
    "\n",
    "# Division (integer result)\n",
    "print(f\"Division (integer result): {num1 // num2}\")\n",
    "\n",
    "# Modulo\n",
    "print(f\"Modulo: {num1 % num2}\")\n",
    "\n",
    "# Exponentiation\n",
    "print(f\"Exponentiation: {num1 ** num2}\")"
   ]
  },
  {
   "cell_type": "code",
   "execution_count": 7,
   "metadata": {},
   "outputs": [
    {
     "name": "stdout",
     "output_type": "stream",
     "text": [
      "Addition: 11\n",
      "Subtraction: 7\n",
      "Multiplication: 18\n",
      "Division (floating point result): 4.5\n",
      "Division (integer result): 4\n",
      "Modulo: 1\n",
      "Exponentiation: 81\n"
     ]
    }
   ],
   "source": [
    "num1 = 9\n",
    "num2 = 2\n",
    "\n",
    "# Addition\n",
    "print(f\"Addition: {num1 + num2}\")\n",
    "\n",
    "# Subtraction\n",
    "print(f\"Subtraction: {num1 - num2}\")\n",
    "\n",
    "# Multiplication\n",
    "print(f\"Multiplication: {num1 * num2}\")\n",
    "\n",
    "# Division (floating point result)\n",
    "print(f\"Division (floating point result): {num1 / num2}\")\n",
    "\n",
    "# Division (integer result)\n",
    "print(f\"Division (integer result): {num1 // num2}\")\n",
    "\n",
    "# Modulo\n",
    "print(f\"Modulo: {num1 % num2}\")\n",
    "\n",
    "# Exponentiation\n",
    "print(f\"Exponentiation: {num1 ** num2}\")"
   ]
  },
  {
   "cell_type": "markdown",
   "metadata": {},
   "source": [
    "The order of operations is familiar from mathematics: first calculate the exponents, then multiplication and division, and finally addition and subtraction. The order can be changed with parentheses.\n",
    "\n",
    "For example this bit of code"
   ]
  },
  {
   "cell_type": "code",
   "execution_count": 8,
   "metadata": {},
   "outputs": [
    {
     "name": "stdout",
     "output_type": "stream",
     "text": [
      "11\n",
      "15\n"
     ]
    }
   ],
   "source": [
    "print(2 + 3 * 3)\n",
    "print((2 + 3) * 3)"
   ]
  },
  {
   "cell_type": "markdown",
   "metadata": {},
   "source": [
    "## Operands, operators and data types\n",
    "A calculation usually consists of operands and operators:\n",
    "\n",
    "![Alt text](https://programming-24.mooc.fi/static/f717f6a68e7b1bd3b3fb9cbe2898da5b/01668/1_4_1.webp \"a title\")\n",
    "\n",
    "\n",
    "The data type of an operand usually determines the data type of the result: if two integers are added together, the result will also be an integer. If a floating point number is subtracted from another floating point number, the result is a floating point number. In fact, if a single one of the operands in an expression is a floating point number, the result will also be a floating point number, regardless of the other operands.\n",
    "\n",
    "Division / is an exception to this rule. Its result is a floating point number, even if the operands are integers. For example 1 / 5 will result in the floating point number 0.2."
   ]
  },
  {
   "cell_type": "code",
   "execution_count": 18,
   "metadata": {},
   "outputs": [
    {
     "name": "stdout",
     "output_type": "stream",
     "text": [
      "The BMI is 23.037177063642087\n"
     ]
    }
   ],
   "source": [
    "height = 172.5\n",
    "weight = 68.55\n",
    "\n",
    "# the Body Mass Index, or BMI, is calculated by dividing body mass with the square of height\n",
    "# height is converted into metres in the formula\n",
    "bmi = weight / (height / 100) ** 2\n",
    "\n",
    "print(f\"The BMI is {bmi}\")"
   ]
  },
  {
   "cell_type": "code",
   "execution_count": null,
   "metadata": {},
   "outputs": [],
   "source": []
  }
 ],
 "metadata": {
  "kernelspec": {
   "display_name": "Python 3",
   "language": "python",
   "name": "python3"
  },
  "language_info": {
   "codemirror_mode": {
    "name": "ipython",
    "version": 3
   },
   "file_extension": ".py",
   "mimetype": "text/x-python",
   "name": "python",
   "nbconvert_exporter": "python",
   "pygments_lexer": "ipython3",
   "version": "3.12.3"
  }
 },
 "nbformat": 4,
 "nbformat_minor": 2
}
